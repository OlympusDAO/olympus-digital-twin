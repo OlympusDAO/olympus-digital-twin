{
 "cells": [
  {
   "cell_type": "code",
   "execution_count": 1,
   "id": "e858d7b1",
   "metadata": {},
   "outputs": [
    {
     "name": "stdout",
     "output_type": "stream",
     "text": [
      "\n",
      "                  ___________    ____\n",
      "  ________ __ ___/ / ____/   |  / __ \\\n",
      " / ___/ __` / __  / /   / /| | / / / /\n",
      "/ /__/ /_/ / /_/ / /___/ ___ |/ /_/ /\n",
      "\\___/\\__,_/\\__,_/\\____/_/  |_/_____/\n",
      "by cadCAD\n",
      "\n",
      "cadCAD Version: 0.4.28\n",
      "Execution Mode: local_proc\n",
      "Simulation Dimensions:\n",
      "Entire Simulation: (Models, Unique Timesteps, Params, Total Runs, Sub-States) = (1, 10, 12, 5, 25)\n",
      "     Simulation 0: (Timesteps, Params, Runs, Sub-States) = (10, 12, 5, 25)\n",
      "Execution Method: local_simulations\n",
      "Execution Mode: parallelized\n",
      "Total execution time: 0.31s\n"
     ]
    }
   ],
   "source": [
    "from model.types import MarketDemandSupply\n",
    "from model.run import load_config, run, post_processing\n",
    "import matplotlib.pyplot as plt\n",
    "from model.mechanism.amm_k import amm_k_mechanism\n",
    "from model.mechanism.treasury import liq_backing_mechanism,treasury_stables_mechanism,floating_supply_mechanism,liq_ohm_mechanism\n",
    "from model.policy.rbs_price import lower_target_policy,upper_target_policy\n",
    "\n",
    "params = {\"demand_factor\": [10],\n",
    "         \"supply_factor\": [10],\n",
    "         \"initial_reserves_volatile\":[17000000], # setting it as constant since in this simulation we don't use it at all.\n",
    "         \"max_liq_ratio\":[0.14375],  # LiquidityUSD : reservesUSD ratio --> 1:1 = 0.5\n",
    "         \"target_ma\":[30], # number of days\n",
    "         \"lower_wall\":[0.15],\n",
    "         \"upper_wall\":[0.15],\n",
    "         \"lower_cushion\":[.075],\n",
    "         \"upper_cushion\":[.075],\n",
    "          \"reinstate_window\": [30],\n",
    "          \"max_outflow_rate\": [0.05],\n",
    "          \"reward_rate_policy\": [\"Flat\"]\n",
    "         }\n",
    "\n",
    "\n",
    "initialstate = { # variable values borrowed from liquidity-olympus/simulation.ipynb\n",
    "            'supply':30000000,\n",
    "            \"liq_stables\": 21000000,\n",
    "            \"reserves_stables\":200000000,\n",
    "            \"reserves_volatile\":17000000,\n",
    "            \"price\":9,\n",
    "            \"reward_rate\": 0.000198,\n",
    "\n",
    "            \"market_demand_supply\": MarketDemandSupply(total_supply = 50,\n",
    "                                                   total_demand = 50),\n",
    "                                                   \n",
    "            # treasury policy\n",
    "            'target_liq_ratio_reached':False,\n",
    "            'reserves_in':0,\n",
    "            'supply':25000000,\n",
    "\n",
    "            # RBS related\n",
    "            'ma_target':9,\n",
    "            # market transaction variables\n",
    "            'ask_change_ohm':0,\n",
    "            'bid_change_ohm':0,\n",
    "            \"net_flow\": None\n",
    "            }\n",
    "# initialize parameters that are decided by other parameters\n",
    "initialstate['amm_k'] = amm_k_mechanism(initialstate)\n",
    "initialstate['price_history']=[initialstate['price']]\n",
    "\n",
    "initialstate['lb_target'] = initialstate['ma_target']\n",
    "initialstate['price_target']=initialstate['ma_target']\n",
    "\n",
    "initialstate['liq_ohm'] = liq_ohm_mechanism(initialstate['liq_stables'],initialstate['price'])\n",
    "initialstate['floating_supply'] = floating_supply_mechanism(initialstate['supply'],initialstate['liq_ohm'])\n",
    "\n",
    "\n",
    "\n",
    "initialstate['treasury_stables'] = treasury_stables_mechanism(initialstate['liq_stables'],initialstate['reserves_stables'])\n",
    "initialstate['liq_backing'] = liq_backing_mechanism(initialstate['treasury_stables'],params['initial_reserves_volatile'][0])\n",
    "initialstate['target_walls'] = [lower_target_policy(initialstate['price_target'], params['lower_wall'][0]),\n",
    "                                upper_target_policy(initialstate['price_target'], params['upper_wall'][0])]\n",
    "initialstate['target_cushions'] = [lower_target_policy(initialstate['price_target'], params['lower_cushion'][0]),\n",
    "                                    upper_target_policy(initialstate['price_target'], params['upper_cushion'][0])]\n",
    "initialstate['bid_counter'],initialstate['ask_counter'] = [0] * params[\"reinstate_window\"][0],[0]* params[\"reinstate_window\"][0]\n",
    "\n",
    "nrun = 5\n",
    "nstep = 10\n",
    "exp = load_config(nrun, params, initialstate, nstep)\n",
    "raw = run(exp)\n",
    "df = post_processing(raw)"
   ]
  },
  {
   "cell_type": "code",
   "execution_count": 8,
   "id": "81572279",
   "metadata": {},
   "outputs": [
    {
     "data": {
      "text/plain": [
       "<AxesSubplot:xlabel='timestep'>"
      ]
     },
     "execution_count": 8,
     "metadata": {},
     "output_type": "execute_result"
    },
    {
     "data": {
      "image/png": "[encoded data removed]",
      "text/plain": [
       "<Figure size 432x288 with 1 Axes>"
      ]
     },
     "metadata": {
      "needs_background": "light"
     },
     "output_type": "display_data"
    }
   ],
   "source": [
    "df.pivot(\"timestep\",\"run\", \"supply\").plot(kind='line')"
   ]
  },
  {
   "cell_type": "code",
   "execution_count": 7,
   "id": "408016ba",
   "metadata": {},
   "outputs": [
    {
     "data": {
      "text/plain": [
       "<AxesSubplot:xlabel='timestep'>"
      ]
     },
     "execution_count": 7,
     "metadata": {},
     "output_type": "execute_result"
    },
    {
     "data": {
      "image/png": "[encoded data removed]",
      "text/plain": [
       "<Figure size 432x288 with 1 Axes>"
      ]
     },
     "metadata": {
      "needs_background": "light"
     },
     "output_type": "display_data"
    }
   ],
   "source": []
  },
  {
   "cell_type": "code",
   "execution_count": null,
   "id": "96e466b4",
   "metadata": {},
   "outputs": [],
   "source": []
  }
 ],
 "metadata": {
  "kernelspec": {
   "display_name": "Python 3 (ipykernel)",
   "language": "python",
   "name": "python3"
  },
  "language_info": {
   "codemirror_mode": {
    "name": "ipython",
    "version": 3
   },
   "file_extension": ".py",
   "mimetype": "text/x-python",
   "name": "python",
   "nbconvert_exporter": "python",
   "pygments_lexer": "ipython3",
   "version": "3.9.12"
  }
 },
 "nbformat": 4,
 "nbformat_minor": 5
}
