{
 "cells": [
  {
   "cell_type": "code",
   "execution_count": null,
   "id": "05e99059",
   "metadata": {},
   "outputs": [
    {
     "name": "stdout",
     "output_type": "stream",
     "text": [
      "\n",
      "                  ___________    ____\n",
      "  ________ __ ___/ / ____/   |  / __ \\\n",
      " / ___/ __` / __  / /   / /| | / / / /\n",
      "/ /__/ /_/ / /_/ / /___/ ___ |/ /_/ /\n",
      "\\___/\\__,_/\\__,_/\\____/_/  |_/_____/\n",
      "by cadCAD\n",
      "\n",
      "cadCAD Version: 0.4.28\n",
      "Execution Mode: local_proc\n",
      "Simulation Dimensions:\n",
      "Entire Simulation: (Models, Unique Timesteps, Params, Total Runs, Sub-States) = (1, 100, 26, 50, 69)\n",
      "     Simulation 0: (Timesteps, Params, Runs, Sub-States) = (100, 26, 50, 69)\n",
      "Execution Method: local_simulations\n",
      "Execution Mode: parallelized\n"
     ]
    }
   ],
   "source": [
    "from IPython.display import display\n",
    "from model.utility.default_parameters import default_params_soros as params\n",
    "from model.utility.default_initial_state import default_initial_soros as initial_state\n",
    "from model.utility.initial_state_functions import fill_in_initial_state\n",
    "from model.run import load_config, run, post_processing\n",
    "\n",
    "\n",
    "params['soros_short_amount'] = [0, 2500000, 5000000, 7500000, 10000000]\n",
    "params['soros_short_timing'] = [None, 50, 50, 50, 50]\n",
    "params['soros_close_out_timing'] = [55, 55, 55, 55, 55]\n",
    "params['soros_long_position'] = [20000000, 20000000, 20000000, 20000000, 20000000]\n",
    "\n",
    "# Fill in initial state\n",
    "initial_state = fill_in_initial_state(initial_state, params)\n",
    "\n",
    "# Set the params for runs and timesteps\n",
    "number_runs = 10\n",
    "number_steps = 100\n",
    "\n",
    "# Load the experiment\n",
    "exp = load_config(number_runs, params, initial_state, number_steps,\n",
    "                 psub_scenario_option = \"Soros\")\n",
    "\n",
    "# Run the experiment\n",
    "raw = run(exp)\n",
    "\n",
    "# Parse the raw data\n",
    "df = post_processing(raw)"
   ]
  },
  {
   "cell_type": "code",
   "execution_count": null,
   "id": "8ff2f05a",
   "metadata": {},
   "outputs": [],
   "source": [
    "mapping = {'soros_short_amount': {},\n",
    "          'soros_short_timing': {},\n",
    "          \"soros_close_out_timing\": {},\n",
    "          \"soros_long_position\": {}}\n",
    "\n",
    "\n",
    "for i, x in enumerate(params['soros_short_amount']):\n",
    "    mapping[\"soros_short_amount\"][i] = x\n",
    "\n",
    "for i, x in enumerate(params['soros_short_timing']):\n",
    "    mapping[\"soros_short_timing\"][i] = x\n",
    "    \n",
    "for i, x in enumerate(params['soros_close_out_timing']):\n",
    "    mapping[\"soros_close_out_timing\"][i] = x\n",
    "    \n",
    "for i, x in enumerate(params['soros_long_position']):\n",
    "    mapping[\"soros_long_position\"][i] = x\n",
    "    \n",
    "df[\"soros_short_amount\"] = df['subset'].map(mapping['soros_short_amount'])\n",
    "df[\"soros_short_timing\"] = df['subset'].map(mapping['soros_short_timing'])\n",
    "df[\"soros_close_out_timing\"] = df['subset'].map(mapping['soros_close_out_timing'])\n",
    "df[\"soros_long_position\"] = df['subset'].map(mapping['soros_long_position'])"
   ]
  },
  {
   "cell_type": "code",
   "execution_count": null,
   "id": "07aca61e",
   "metadata": {},
   "outputs": [],
   "source": [
    "from model.utility.visualization import plot_all_sims, plot_grouped_variables_average\n",
    "\n",
    "plot_all_sims([\"natural_price\"], df)"
   ]
  },
  {
   "cell_type": "code",
   "execution_count": null,
   "id": "b5c6e034",
   "metadata": {},
   "outputs": [],
   "source": [
    "# Plot the average values for natural price by the groups of supply and demand factor\n",
    "variables_to_plot = [\"natural_price\", \"price\"]\n",
    "grouping_variables = [\"soros_short_amount\"]\n",
    "\n",
    "plot_grouped_variables_average(variables_to_plot,\n",
    "                               grouping_variables,\n",
    "                               df)"
   ]
  },
  {
   "cell_type": "code",
   "execution_count": null,
   "id": "774206a6",
   "metadata": {},
   "outputs": [],
   "source": [
    "params['soros_short_timing']"
   ]
  },
  {
   "cell_type": "code",
   "execution_count": null,
   "id": "e71a38a6",
   "metadata": {},
   "outputs": [],
   "source": [
    "df[\"soros_revenue\"].max()"
   ]
  },
  {
   "cell_type": "code",
   "execution_count": null,
   "id": "df2cf8c7",
   "metadata": {},
   "outputs": [],
   "source": [
    "df[\"soros_revenue\"].min()"
   ]
  },
  {
   "cell_type": "code",
   "execution_count": null,
   "id": "835a58ba",
   "metadata": {},
   "outputs": [],
   "source": [
    "df[\"soros_revenue\"]"
   ]
  },
  {
   "cell_type": "code",
   "execution_count": null,
   "id": "9a4957b9",
   "metadata": {},
   "outputs": [],
   "source": [
    "df.groupby(\"subset\").sum()[\"soros_revenue\"]"
   ]
  },
  {
   "cell_type": "code",
   "execution_count": null,
   "id": "bce7c0fc",
   "metadata": {},
   "outputs": [],
   "source": [
    "df.pivot(\"timestep\", \"unique_id\", \"soros_revenue\").sum()"
   ]
  },
  {
   "cell_type": "code",
   "execution_count": null,
   "id": "84783273",
   "metadata": {},
   "outputs": [],
   "source": [
    "import pandas as pd\n",
    "revenue = df.groupby(\"unique_id\")[[\"soros_revenue\"]].sum()\n",
    "descriptors = df.groupby(\"unique_id\")[['soros_short_amount',\n",
    " 'soros_short_timing',\n",
    " 'soros_close_out_timing',\n",
    " 'soros_long_position']].last()\n",
    "df2 = pd.concat([revenue, descriptors], axis=1)"
   ]
  },
  {
   "cell_type": "code",
   "execution_count": null,
   "id": "91cd2aa4",
   "metadata": {},
   "outputs": [],
   "source": [
    "df2"
   ]
  },
  {
   "cell_type": "code",
   "execution_count": null,
   "id": "5f7ddef5",
   "metadata": {},
   "outputs": [],
   "source": [
    "params"
   ]
  },
  {
   "cell_type": "code",
   "execution_count": null,
   "id": "f8cefc43",
   "metadata": {},
   "outputs": [],
   "source": [
    "print(\" NEED TO ADJUST IT TO MAKE SURE NET FLOW UNITS ARE CORRECT\")"
   ]
  },
  {
   "cell_type": "code",
   "execution_count": null,
   "id": "7edd7ada",
   "metadata": {},
   "outputs": [],
   "source": [
    "print(\"MIGHT NEED TO DO MID POINT VALUE / START VALUE * AMOUNT\")"
   ]
  },
  {
   "cell_type": "code",
   "execution_count": null,
   "id": "1b0e5a39",
   "metadata": {},
   "outputs": [],
   "source": []
  }
 ],
 "metadata": {
  "kernelspec": {
   "display_name": "Python 3 (ipykernel)",
   "language": "python",
   "name": "python3"
  },
  "language_info": {
   "codemirror_mode": {
    "name": "ipython",
    "version": 3
   },
   "file_extension": ".py",
   "mimetype": "text/x-python",
   "name": "python",
   "nbconvert_exporter": "python",
   "pygments_lexer": "ipython3",
   "version": "3.9.12"
  }
 },
 "nbformat": 4,
 "nbformat_minor": 5
}
