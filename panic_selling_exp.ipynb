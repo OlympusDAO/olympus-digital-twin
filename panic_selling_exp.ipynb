{
 "cells": [
  {
   "attachments": {},
   "cell_type": "markdown",
   "metadata": {},
   "source": [
    "# Panic selling simulation\n",
    "\n",
    "## Experiment Design\n",
    "\n",
    "- Two ways of starting panic selling: 1) random trigger (mimicing incidents outside of the market, like rumors) 2) triggered by market indicators (for now, price drop at a critical magnitude; in the future, other indicators like net transaction volume could be included too)\n",
    "\n",
    "[ ] does this assumption make sense? or we can just totally leave it to randomness?\n",
    "- The behavior of panic selling: \n",
    "   - There will be conditional selling for the system which means that at each timestep, there is the possibility that for any reason some participants might sell if the price drop reaches certain level.\n",
    "    - More formally, there will be a distribution $\\Delta P$ of the price change at which a sell might occur, and a distribution N for the size of the sell at that epoch if the price change is at certain magnitude. So, if the current price < sample drawn from P, a sell amount drawn randomly from distribution N is put into the system.\n",
    "- We expect to see:\n",
    "    - If there's no RBS, we will see the panic selling being initiated and snowballing until it depletes the pool.\n",
    "    - If the RBS is stabilizing enough, the panic selling should subside and the system will get back to equilibrium. We will explore different parameters to see when that could happen and when there could be a death spiral of selling.\n",
    "\n",
    "## Parameter Sweep\n",
    "\n",
    "The following will be the different parameter sweep variables to test:\n",
    "1. Initial panic selling magnitude\n",
    "2. The price to sell distribution, P\n",
    "3. The amount to sell distribution, N\n",
    "4. Parameterization of the RBS\n",
    "\n",
    "### Success Metrics/KPIs\n",
    "\n",
    "KPIs:\n",
    "1. Ending Price\n",
    "2. Time to return to equilibrium: The time it takes before the system stabilizes (if it does) and is trading in equilibrium\n",
    "3. Number of Interventions: The number of times the RBS had to intervene to stabilize\n",
    "4. Reserves Used: The amount of reserves used by the RBS\n",
    "\n",
    "Success Metrics:\n",
    "1. Returned to Equilibrium: Whether the system returned to the equilibrium state\n",
    "2. Time to Equilibrium Minimal: A boolean of whether the system stabilized before some C number of timesteps \n",
    "3. Minimal Interventions: A boolean of whether there was only 1 or some C number of interventions before the system reached equilibrium againstem \n"
   ]
  },
  {
   "cell_type": "code",
   "execution_count": 1,
   "metadata": {},
   "outputs": [],
   "source": [
    "from IPython.display import display\n",
    "from model.utility.default_parameters import default_params_soros as params\n",
    "from model.utility.default_initial_state import default_initial_soros as initial_state\n",
    "from model.utility.initial_state_functions import fill_in_initial_state\n",
    "from model.run import load_config, run, post_processing\n"
   ]
  },
  {
   "cell_type": "code",
   "execution_count": 7,
   "metadata": {},
   "outputs": [
    {
     "data": {
      "text/plain": [
       "{'liq_stables': 21000000,\n",
       " 'reserves_stables': 170000000,\n",
       " 'reserves_volatile': 25000000,\n",
       " 'price': 9.5,\n",
       " 'reward_rate': 0.000198,\n",
       " 'market_demand_supply': MarketDemandSupply(total_supply=0.001, total_demand=-0.008),\n",
       " 'target_liq_ratio_reached': False,\n",
       " 'reserves_in': 0,\n",
       " 'supply': 25000000,\n",
       " 'ma_target': 9.5,\n",
       " 'ask_change_ohm': 0,\n",
       " 'bid_change_ohm': 0,\n",
       " 'net_flow': None,\n",
       " 'bid_capacity_target': 16150000.0,\n",
       " 'ask_capacity_target': 1921739.1304347825,\n",
       " 'bid_capacity_target_cushion': 4966125.0,\n",
       " 'ask_capacity_target_cushion': 590934.7826086956,\n",
       " 'natural_price': None,\n",
       " 'bid_capacity_cushion': 4966125.0,\n",
       " 'ask_capacity_cushion': 590934.7826086956,\n",
       " 'bid_change_cushion_usd': None,\n",
       " 'bid_change_cushion_ohm': None,\n",
       " 'ask_change_cushion_usd': None,\n",
       " 'ask_change_cushion_ohm': None,\n",
       " 'bid_change_usd': None,\n",
       " 'ask_change_usd': None,\n",
       " 'reserves_out': None,\n",
       " 'ohm_traded': None,\n",
       " 'cum_ohm_purchased': 0,\n",
       " 'cum_ohm_burnt': 0,\n",
       " 'cum_ohm_minted': 0,\n",
       " 'cum_ohm_minted_forbond': 0,\n",
       " 'cum_ohm_burned_frombond': 0,\n",
       " 'netflow_bondexpire': 0,\n",
       " 'netflow_bondsale': 0,\n",
       " 'whale_flow': 0,\n",
       " 'soros_revenue': 0,\n",
       " 'amm_k': 46421052631578.945,\n",
       " 'price_history': [9.5],\n",
       " 'lb_target': 9.5,\n",
       " 'price_target': 9.5,\n",
       " 'liq_ohm': 2210526.3157894737,\n",
       " 'floating_supply': 22789473.684210528,\n",
       " 'treasury_stables': 191000000,\n",
       " 'liq_backing': 216000000,\n",
       " 'lower_target_wall': 8.075,\n",
       " 'upper_target_wall': 10.924999999999999,\n",
       " 'lower_target_cushion': 8.7875,\n",
       " 'upper_target_cushion': 10.2125,\n",
       " 'bid_counter': [0,\n",
       "  0,\n",
       "  0,\n",
       "  0,\n",
       "  0,\n",
       "  0,\n",
       "  0,\n",
       "  0,\n",
       "  0,\n",
       "  0,\n",
       "  0,\n",
       "  0,\n",
       "  0,\n",
       "  0,\n",
       "  0,\n",
       "  0,\n",
       "  0,\n",
       "  0,\n",
       "  0,\n",
       "  0,\n",
       "  0,\n",
       "  0,\n",
       "  0,\n",
       "  0,\n",
       "  0,\n",
       "  0,\n",
       "  0,\n",
       "  0,\n",
       "  0,\n",
       "  0],\n",
       " 'ask_counter': [0,\n",
       "  0,\n",
       "  0,\n",
       "  0,\n",
       "  0,\n",
       "  0,\n",
       "  0,\n",
       "  0,\n",
       "  0,\n",
       "  0,\n",
       "  0,\n",
       "  0,\n",
       "  0,\n",
       "  0,\n",
       "  0,\n",
       "  0,\n",
       "  0,\n",
       "  0,\n",
       "  0,\n",
       "  0,\n",
       "  0,\n",
       "  0,\n",
       "  0,\n",
       "  0,\n",
       "  0,\n",
       "  0,\n",
       "  0,\n",
       "  0,\n",
       "  0,\n",
       "  0],\n",
       " 'bid_capacity': 16150000.0,\n",
       " 'ask_capacity': 1921739.1304347825,\n",
       " 'bond_created': [],\n",
       " 'bond_created_today': [],\n",
       " 'ohm_bonded': 0,\n",
       " 'liq_ohm_into_bond': 0,\n",
       " 'ohm_released': 0,\n",
       " 'mcap': 237500000.0,\n",
       " 'floating_mcap': 216500000.0,\n",
       " 'liq_ratio': 0.1099476439790576,\n",
       " 'reserves_ratio': (8.095238095238095,),\n",
       " 'fmcap_treasury_ratio': 1.1335078534031413,\n",
       " 'liq_fmcap_ratio': 0.09699769053117784,\n",
       " 'total_demand': -0.008,\n",
       " 'total_supply': 0.001,\n",
       " 'total_net': -0.007,\n",
       " 'demand_factor': None,\n",
       " 'supply_factor': None}"
      ]
     },
     "execution_count": 7,
     "metadata": {},
     "output_type": "execute_result"
    }
   ],
   "source": [
    "initial_state = fill_in_initial_state(initial_state, params)\n",
    "\n",
    "initial_state"
   ]
  },
  {
   "cell_type": "code",
   "execution_count": 11,
   "metadata": {},
   "outputs": [
    {
     "data": {
      "text/plain": [
       "2210526.3157894737"
      ]
     },
     "execution_count": 11,
     "metadata": {},
     "output_type": "execute_result"
    }
   ],
   "source": [
    "initial_state['liq_ohm']\n",
    "# hmmm? protocol owned stability? "
   ]
  },
  {
   "attachments": {},
   "cell_type": "markdown",
   "metadata": {},
   "source": [
    "## first, show the panic sell distribution"
   ]
  },
  {
   "cell_type": "code",
   "execution_count": 23,
   "metadata": {},
   "outputs": [
    {
     "data": {
      "text/plain": [
       "[<matplotlib.lines.Line2D at 0x7fc37c8e8970>]"
      ]
     },
     "execution_count": 23,
     "metadata": {},
     "output_type": "execute_result"
    },
    {
     "data": {
      "image/png": "[encoded data removed]",
      "text/plain": [
       "<Figure size 432x288 with 1 Axes>"
      ]
     },
     "metadata": {
      "needs_background": "light"
     },
     "output_type": "display_data"
    }
   ],
   "source": [
    "import numpy as np\n",
    "def sellamount(price_change,liq_ohm,k=0.1,sigma=.05):\n",
    "    # given the price change, how much sell will happen\n",
    "    # k is the factor adjusting the curve shape, ranging (0,+inf)\n",
    "    # TODO: in the future, allow different shapes of this curve (e.g. sigmoid)\n",
    "    if price_change>=0:\n",
    "        return 0\n",
    "    else:\n",
    "        amount = liq_ohm*(1-np.exp(-k*np.abs(price_change)))\n",
    "        # turn it into log normal distribution\n",
    "        mu  = np.log(amount) + sigma ** 2 # so the mode for this random distribution is \n",
    "        rng = np.random.default_rng()\n",
    "        randamount = rng.lognormal(mu, sigma, 1)[0]\n",
    "        #randamount = np.random.lognormal(mu,sigma)\n",
    "        if randamount > liq_ohm:\n",
    "            randamount = liq_ohm\n",
    "        return randamount\n",
    "price_change_arr = np.arange(-15,5,0.1)\n",
    "amount_arr = [sellamount(p,2e7) for p in price_change_arr]\n",
    "from matplotlib import pyplot as plt\n",
    "plt.plot(price_change_arr,amount_arr,'.')"
   ]
  },
  {
   "attachments": {},
   "cell_type": "markdown",
   "metadata": {},
   "source": [
    "# Run the simulation of panic sell: examples of that happening\n",
    "\n",
    "Change of the code:\n",
    "- add one part in the netflow that is related to the price change."
   ]
  },
  {
   "cell_type": "code",
   "execution_count": 24,
   "metadata": {},
   "outputs": [
    {
     "name": "stdout",
     "output_type": "stream",
     "text": [
      "\n",
      "                  ___________    ____\n",
      "  ________ __ ___/ / ____/   |  / __ \\\n",
      " / ___/ __` / __  / /   / /| | / / / /\n",
      "/ /__/ /_/ / /_/ / /___/ ___ |/ /_/ /\n",
      "\\___/\\__,_/\\__,_/\\____/_/  |_/_____/\n",
      "by cadCAD\n",
      "\n",
      "cadCAD Version: 0.4.28\n",
      "Execution Mode: local_proc\n",
      "Simulation Dimensions:\n",
      "Entire Simulation: (Models, Unique Timesteps, Params, Total Runs, Sub-States) = (1, 100, 23, 10, 69)\n",
      "     Simulation 0: (Timesteps, Params, Runs, Sub-States) = (100, 23, 10, 69)\n",
      "Execution Method: local_simulations\n",
      "Execution Mode: parallelized\n"
     ]
    },
    {
     "ename": "KeyError",
     "evalue": "'start_days'",
     "output_type": "error",
     "traceback": [
      "\u001b[0;31m---------------------------------------------------------------------------\u001b[0m",
      "\u001b[0;31mRemoteTraceback\u001b[0m                           Traceback (most recent call last)",
      "\u001b[0;31mRemoteTraceback\u001b[0m: \n\"\"\"\nTraceback (most recent call last):\n  File \"/home/zhiwei/anaconda3/envs/cadcad/lib/python3.9/site-packages/pandas/core/indexes/base.py\", line 3621, in get_loc\n    return self._engine.get_loc(casted_key)\n  File \"pandas/_libs/index.pyx\", line 136, in pandas._libs.index.IndexEngine.get_loc\n  File \"pandas/_libs/index.pyx\", line 163, in pandas._libs.index.IndexEngine.get_loc\n  File \"pandas/_libs/hashtable_class_helper.pxi\", line 5198, in pandas._libs.hashtable.PyObjectHashTable.get_item\n  File \"pandas/_libs/hashtable_class_helper.pxi\", line 5206, in pandas._libs.hashtable.PyObjectHashTable.get_item\nKeyError: 'start_days'\n\nThe above exception was the direct cause of the following exception:\n\nTraceback (most recent call last):\n  File \"/home/zhiwei/anaconda3/envs/cadcad/lib/python3.9/site-packages/multiprocess/pool.py\", line 125, in worker\n    result = (True, func(*args, **kwds))\n  File \"/home/zhiwei/anaconda3/envs/cadcad/lib/python3.9/site-packages/multiprocess/pool.py\", line 48, in mapstar\n    return list(map(*args))\n  File \"/home/zhiwei/anaconda3/envs/cadcad/lib/python3.9/site-packages/pathos/helpers/mp_helper.py\", line 15, in <lambda>\n    func = lambda args: f(*args)\n  File \"/home/zhiwei/anaconda3/envs/cadcad/lib/python3.9/site-packages/cadCAD/engine/execution.py\", line 91, in <lambda>\n    lambda t: t[0](t[1], t[2], t[3], t[4], t[5], t[6], t[7], t[8], t[9], configured_n), params\n  File \"/home/zhiwei/anaconda3/envs/cadcad/lib/python3.9/site-packages/cadCAD/engine/simulation.py\", line 245, in simulation\n    [execute_run(sweep_dict, states_list, configs, env_processes, time_seq, run)]\n  File \"/home/zhiwei/anaconda3/envs/cadcad/lib/python3.9/site-packages/cadCAD/engine/simulation.py\", line 237, in execute_run\n    first_timestep_per_run: List[Dict[str, Any]] = self.run_pipeline(\n  File \"/home/zhiwei/Documents/blockscience/OlympusRBS/model/run.py\", line 129, in new_run_pipeline\n    pipe_run: List[Dict[str, Any]] = self.state_update_pipeline(\n  File \"/home/zhiwei/anaconda3/envs/cadcad/lib/python3.9/site-packages/cadCAD/engine/simulation.py\", line 174, in state_update_pipeline\n    states_list: List[Dict[str, Any]] = self.partial_state_update(\n  File \"/home/zhiwei/anaconda3/envs/cadcad/lib/python3.9/site-packages/cadCAD/engine/simulation.py\", line 120, in partial_state_update\n    self.get_policy_input(sweep_dict, sub_step, sH, last_in_obj, policy_funcs, additional_objs)\n  File \"/home/zhiwei/anaconda3/envs/cadcad/lib/python3.9/site-packages/cadCAD/engine/simulation.py\", line 55, in get_policy_input\n    col_results = get_col_results(sweep_dict, sub_step, sL, s, funcs)\n  File \"/home/zhiwei/anaconda3/envs/cadcad/lib/python3.9/site-packages/cadCAD/engine/simulation.py\", line 42, in get_col_results\n    return list(map(lambda f: policy_scope_tuner(additional_objs, f), funcs))\n  File \"/home/zhiwei/anaconda3/envs/cadcad/lib/python3.9/site-packages/cadCAD/engine/simulation.py\", line 42, in <lambda>\n    return list(map(lambda f: policy_scope_tuner(additional_objs, f), funcs))\n  File \"/home/zhiwei/anaconda3/envs/cadcad/lib/python3.9/site-packages/cadCAD/engine/simulation.py\", line 39, in policy_scope_tuner\n    return f(sweep_dict, sub_step, sL, s)\n  File \"/home/zhiwei/Documents/blockscience/OlympusRBS/model/psub_functions/ohmbond.py\", line 8, in p_bond_create\n    bondday = bond_create_schedule.loc[bond_create_schedule['start_days'] == day]\n  File \"/home/zhiwei/anaconda3/envs/cadcad/lib/python3.9/site-packages/pandas/core/frame.py\", line 3505, in __getitem__\n    indexer = self.columns.get_loc(key)\n  File \"/home/zhiwei/anaconda3/envs/cadcad/lib/python3.9/site-packages/pandas/core/indexes/base.py\", line 3623, in get_loc\n    raise KeyError(key) from err\nKeyError: 'start_days'\n\"\"\"",
      "\nThe above exception was the direct cause of the following exception:\n",
      "\u001b[0;31mKeyError\u001b[0m                                  Traceback (most recent call last)",
      "\u001b[1;32m/home/zhiwei/Documents/blockscience/OlympusRBS/panic_selling_exp.ipynb Cell 8\u001b[0m in \u001b[0;36m<cell line: 21>\u001b[0;34m()\u001b[0m\n\u001b[1;32m     <a href='vscode-notebook-cell:/home/zhiwei/Documents/blockscience/OlympusRBS/panic_selling_exp.ipynb#X16sZmlsZQ%3D%3D?line=17'>18</a>\u001b[0m exp \u001b[39m=\u001b[39m load_config(number_runs, params, initial_state, number_steps)\n\u001b[1;32m     <a href='vscode-notebook-cell:/home/zhiwei/Documents/blockscience/OlympusRBS/panic_selling_exp.ipynb#X16sZmlsZQ%3D%3D?line=19'>20</a>\u001b[0m \u001b[39m# Run the experiment\u001b[39;00m\n\u001b[0;32m---> <a href='vscode-notebook-cell:/home/zhiwei/Documents/blockscience/OlympusRBS/panic_selling_exp.ipynb#X16sZmlsZQ%3D%3D?line=20'>21</a>\u001b[0m raw \u001b[39m=\u001b[39m new_run(exp)\n\u001b[1;32m     <a href='vscode-notebook-cell:/home/zhiwei/Documents/blockscience/OlympusRBS/panic_selling_exp.ipynb#X16sZmlsZQ%3D%3D?line=22'>23</a>\u001b[0m \u001b[39m# Parse the raw data\u001b[39;00m\n\u001b[1;32m     <a href='vscode-notebook-cell:/home/zhiwei/Documents/blockscience/OlympusRBS/panic_selling_exp.ipynb#X16sZmlsZQ%3D%3D?line=23'>24</a>\u001b[0m df1 \u001b[39m=\u001b[39m post_processing(raw)\n",
      "File \u001b[0;32m~/Documents/blockscience/OlympusRBS/model/run.py:107\u001b[0m, in \u001b[0;36mnew_run\u001b[0;34m(exp)\u001b[0m\n\u001b[1;32m    105\u001b[0m Executor\u001b[39m.\u001b[39mrun_pipeline \u001b[39m=\u001b[39m new_run_pipeline\n\u001b[1;32m    106\u001b[0m sim \u001b[39m=\u001b[39m Executor(exec_context\u001b[39m=\u001b[39mlocal_mode_ctx, configs\u001b[39m=\u001b[39mexp\u001b[39m.\u001b[39mconfigs)\n\u001b[0;32m--> 107\u001b[0m raw_system_events, _, _ \u001b[39m=\u001b[39m sim\u001b[39m.\u001b[39;49mexecute()\n\u001b[1;32m    108\u001b[0m df \u001b[39m=\u001b[39m pd\u001b[39m.\u001b[39mDataFrame(raw_system_events)\n\u001b[1;32m    109\u001b[0m \u001b[39mreturn\u001b[39;00m df\n",
      "File \u001b[0;32m~/Documents/blockscience/OlympusRBS/model/run.py:227\u001b[0m, in \u001b[0;36mnew_execute\u001b[0;34m(self)\u001b[0m\n\u001b[1;32m    224\u001b[0m         \u001b[39mself\u001b[39m\u001b[39m.\u001b[39mexec_context, \u001b[39mself\u001b[39m\u001b[39m.\u001b[39mexec_method \u001b[39m=\u001b[39m auto_mode_switcher(config_amt)\n\u001b[1;32m    226\u001b[0m     \u001b[39mprint\u001b[39m(\u001b[39m\"\u001b[39m\u001b[39mExecution Method: \u001b[39m\u001b[39m\"\u001b[39m \u001b[39m+\u001b[39m \u001b[39mself\u001b[39m\u001b[39m.\u001b[39mexec_method\u001b[39m.\u001b[39m\u001b[39m__name__\u001b[39m)\n\u001b[0;32m--> 227\u001b[0m     simulations_results \u001b[39m=\u001b[39m \u001b[39mself\u001b[39;49m\u001b[39m.\u001b[39;49mexec_method(\n\u001b[1;32m    228\u001b[0m         sim_executors, var_dict_list, states_lists, configs_structs, env_processes_list, Ts, SimIDs, RunIDs,\n\u001b[1;32m    229\u001b[0m         ExpIDs, SubsetIDs, SubsetWindows, original_N\n\u001b[1;32m    230\u001b[0m     )\n\u001b[1;32m    232\u001b[0m     final_result \u001b[39m=\u001b[39m get_final_results(simulations_results, partial_state_updates, eps, sessions, remote_threshold)\n\u001b[1;32m    233\u001b[0m \u001b[39melif\u001b[39;00m \u001b[39mself\u001b[39m\u001b[39m.\u001b[39mexec_context \u001b[39m==\u001b[39m ExecutionMode\u001b[39m.\u001b[39mdistributed:\n",
      "File \u001b[0;32m~/anaconda3/envs/cadcad/lib/python3.9/site-packages/cadCAD/engine/execution.py:131\u001b[0m, in \u001b[0;36mlocal_simulations\u001b[0;34m(simulation_execs, var_dict_list, states_lists, configs_structs, env_processes_list, Ts, SimIDs, Ns, ExpIDs, SubsetIDs, SubsetWindows, configured_n)\u001b[0m\n\u001b[1;32m    129\u001b[0m \u001b[39melif\u001b[39;00m config_amt \u001b[39m>\u001b[39m \u001b[39m1\u001b[39m: \u001b[39m# and configured_n != 1\u001b[39;00m\n\u001b[1;32m    130\u001b[0m     _params \u001b[39m=\u001b[39m var_dict_list\n\u001b[0;32m--> 131\u001b[0m     \u001b[39mreturn\u001b[39;00m parallelize_simulations(\n\u001b[1;32m    132\u001b[0m         simulation_execs, _params, states_lists, configs_structs, env_processes_list,\n\u001b[1;32m    133\u001b[0m         Ts, SimIDs, Ns, ExpIDs, SubsetIDs, SubsetWindows, configured_n\n\u001b[1;32m    134\u001b[0m     )\n",
      "File \u001b[0;32m~/anaconda3/envs/cadcad/lib/python3.9/site-packages/cadCAD/engine/execution.py:101\u001b[0m, in \u001b[0;36mparallelize_simulations\u001b[0;34m(simulation_execs, var_dict_list, states_lists, configs_structs, env_processes_list, Ts, SimIDs, Ns, ExpIDs, SubsetIDs, SubsetWindows, configured_n)\u001b[0m\n\u001b[1;32m     98\u001b[0m         results \u001b[39m=\u001b[39m t[\u001b[39m0\u001b[39m](t[\u001b[39m1\u001b[39m], t[\u001b[39m2\u001b[39m], t[\u001b[39m3\u001b[39m], t[\u001b[39m4\u001b[39m], t[\u001b[39m5\u001b[39m], t[\u001b[39m6\u001b[39m], t[\u001b[39m7\u001b[39m], t[\u001b[39m8\u001b[39m], t[\u001b[39m9\u001b[39m], configured_n)\n\u001b[1;32m     99\u001b[0m     \u001b[39mreturn\u001b[39;00m results\n\u001b[0;32m--> 101\u001b[0m results \u001b[39m=\u001b[39m flatten(\u001b[39mlist\u001b[39;49m(\u001b[39mmap\u001b[39;49m(\u001b[39mlambda\u001b[39;49;00m params: process_executor(params), new_params)))\n\u001b[1;32m    103\u001b[0m \u001b[39mreturn\u001b[39;00m results\n",
      "File \u001b[0;32m~/anaconda3/envs/cadcad/lib/python3.9/site-packages/cadCAD/engine/execution.py:101\u001b[0m, in \u001b[0;36mparallelize_simulations.<locals>.<lambda>\u001b[0;34m(params)\u001b[0m\n\u001b[1;32m     98\u001b[0m         results \u001b[39m=\u001b[39m t[\u001b[39m0\u001b[39m](t[\u001b[39m1\u001b[39m], t[\u001b[39m2\u001b[39m], t[\u001b[39m3\u001b[39m], t[\u001b[39m4\u001b[39m], t[\u001b[39m5\u001b[39m], t[\u001b[39m6\u001b[39m], t[\u001b[39m7\u001b[39m], t[\u001b[39m8\u001b[39m], t[\u001b[39m9\u001b[39m], configured_n)\n\u001b[1;32m     99\u001b[0m     \u001b[39mreturn\u001b[39;00m results\n\u001b[0;32m--> 101\u001b[0m results \u001b[39m=\u001b[39m flatten(\u001b[39mlist\u001b[39m(\u001b[39mmap\u001b[39m(\u001b[39mlambda\u001b[39;00m params: process_executor(params), new_params)))\n\u001b[1;32m    103\u001b[0m \u001b[39mreturn\u001b[39;00m results\n",
      "File \u001b[0;32m~/anaconda3/envs/cadcad/lib/python3.9/site-packages/cadCAD/engine/execution.py:90\u001b[0m, in \u001b[0;36mparallelize_simulations.<locals>.process_executor\u001b[0;34m(params)\u001b[0m\n\u001b[1;32m     88\u001b[0m \u001b[39mif\u001b[39;00m len_configs_structs \u001b[39m>\u001b[39m \u001b[39m1\u001b[39m:\n\u001b[1;32m     89\u001b[0m     pp \u001b[39m=\u001b[39m PPool(processes\u001b[39m=\u001b[39mlen_configs_structs)\n\u001b[0;32m---> 90\u001b[0m     results \u001b[39m=\u001b[39m pp\u001b[39m.\u001b[39;49mmap(\n\u001b[1;32m     91\u001b[0m         \u001b[39mlambda\u001b[39;49;00m t: t[\u001b[39m0\u001b[39;49m](t[\u001b[39m1\u001b[39;49m], t[\u001b[39m2\u001b[39;49m], t[\u001b[39m3\u001b[39;49m], t[\u001b[39m4\u001b[39;49m], t[\u001b[39m5\u001b[39;49m], t[\u001b[39m6\u001b[39;49m], t[\u001b[39m7\u001b[39;49m], t[\u001b[39m8\u001b[39;49m], t[\u001b[39m9\u001b[39;49m], configured_n), params\n\u001b[1;32m     92\u001b[0m     )\n\u001b[1;32m     93\u001b[0m     pp\u001b[39m.\u001b[39mclose()\n\u001b[1;32m     94\u001b[0m     pp\u001b[39m.\u001b[39mjoin()\n",
      "File \u001b[0;32m~/anaconda3/envs/cadcad/lib/python3.9/site-packages/pathos/multiprocessing.py:139\u001b[0m, in \u001b[0;36mProcessPool.map\u001b[0;34m(self, f, *args, **kwds)\u001b[0m\n\u001b[1;32m    137\u001b[0m AbstractWorkerPool\u001b[39m.\u001b[39m_AbstractWorkerPool__map(\u001b[39mself\u001b[39m, f, \u001b[39m*\u001b[39margs, \u001b[39m*\u001b[39m\u001b[39m*\u001b[39mkwds)\n\u001b[1;32m    138\u001b[0m _pool \u001b[39m=\u001b[39m \u001b[39mself\u001b[39m\u001b[39m.\u001b[39m_serve()\n\u001b[0;32m--> 139\u001b[0m \u001b[39mreturn\u001b[39;00m _pool\u001b[39m.\u001b[39;49mmap(star(f), \u001b[39mzip\u001b[39;49m(\u001b[39m*\u001b[39;49margs))\n",
      "File \u001b[0;32m~/anaconda3/envs/cadcad/lib/python3.9/site-packages/multiprocess/pool.py:364\u001b[0m, in \u001b[0;36mPool.map\u001b[0;34m(self, func, iterable, chunksize)\u001b[0m\n\u001b[1;32m    359\u001b[0m \u001b[39mdef\u001b[39;00m \u001b[39mmap\u001b[39m(\u001b[39mself\u001b[39m, func, iterable, chunksize\u001b[39m=\u001b[39m\u001b[39mNone\u001b[39;00m):\n\u001b[1;32m    360\u001b[0m     \u001b[39m'''\u001b[39;00m\n\u001b[1;32m    361\u001b[0m \u001b[39m    Apply `func` to each element in `iterable`, collecting the results\u001b[39;00m\n\u001b[1;32m    362\u001b[0m \u001b[39m    in a list that is returned.\u001b[39;00m\n\u001b[1;32m    363\u001b[0m \u001b[39m    '''\u001b[39;00m\n\u001b[0;32m--> 364\u001b[0m     \u001b[39mreturn\u001b[39;00m \u001b[39mself\u001b[39;49m\u001b[39m.\u001b[39;49m_map_async(func, iterable, mapstar, chunksize)\u001b[39m.\u001b[39;49mget()\n",
      "File \u001b[0;32m~/anaconda3/envs/cadcad/lib/python3.9/site-packages/multiprocess/pool.py:771\u001b[0m, in \u001b[0;36mApplyResult.get\u001b[0;34m(self, timeout)\u001b[0m\n\u001b[1;32m    769\u001b[0m     \u001b[39mreturn\u001b[39;00m \u001b[39mself\u001b[39m\u001b[39m.\u001b[39m_value\n\u001b[1;32m    770\u001b[0m \u001b[39melse\u001b[39;00m:\n\u001b[0;32m--> 771\u001b[0m     \u001b[39mraise\u001b[39;00m \u001b[39mself\u001b[39m\u001b[39m.\u001b[39m_value\n",
      "\u001b[0;31mKeyError\u001b[0m: 'start_days'"
     ]
    }
   ],
   "source": [
    "from model.utility.default_parameters import default_params1 as params\n",
    "import pandas as pd\n",
    "from model.signals.bond_signals import total_value_bond_creation\n",
    "number_runs = 10\n",
    "number_steps = 100\n",
    "\n",
    "params.update({'bond_create_schedule':[pd.DataFrame({})]})\n",
    "params.update({'bond_schedule_name':[None]})\n",
    "\n",
    "params.update({'panic_sell_on':[True]})\n",
    "from model.utility.default_initial_state import default_initial_state1 as initial_state\n",
    "# Fill in the initial state\n",
    "from model.utility.initial_state_functions import fill_in_initial_state\n",
    "initial_state = fill_in_initial_state(initial_state, params)\n",
    "\n",
    "from model.run import load_config, run,new_run, post_processing\n",
    "# Load the experiment\n",
    "exp = load_config(number_runs, params, initial_state, number_steps)\n",
    "\n",
    "# Run the experiment\n",
    "raw = new_run(exp)\n",
    "\n",
    "# Parse the raw data\n",
    "df1 = post_processing(raw)"
   ]
  },
  {
   "cell_type": "code",
   "execution_count": null,
   "metadata": {},
   "outputs": [],
   "source": []
  }
 ],
 "metadata": {
  "kernelspec": {
   "display_name": "cadcad",
   "language": "python",
   "name": "python3"
  },
  "language_info": {
   "codemirror_mode": {
    "name": "ipython",
    "version": 3
   },
   "file_extension": ".py",
   "mimetype": "text/x-python",
   "name": "python",
   "nbconvert_exporter": "python",
   "pygments_lexer": "ipython3",
   "version": "3.9.12"
  },
  "orig_nbformat": 4,
  "vscode": {
   "interpreter": {
    "hash": "8ab5428ae62201533e8ec752f6037af62c93c7d07f0b1421de25a96eddaa6eb7"
   }
  }
 },
 "nbformat": 4,
 "nbformat_minor": 2
}
