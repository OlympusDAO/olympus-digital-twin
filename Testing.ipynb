{
 "cells": [
  {
   "cell_type": "code",
   "execution_count": 1,
   "id": "3f624147",
   "metadata": {},
   "outputs": [
    {
     "data": {
      "text/plain": [
       "{'net_flow': 5000.0,\n",
       " 'market_demand': 15.193464134282106,\n",
       " 'market_supply': 10.85167894137021}"
      ]
     },
     "execution_count": 1,
     "metadata": {},
     "output_type": "execute_result"
    }
   ],
   "source": [
    "from model.psub_functions.demand import p_demand\n",
    "\n",
    "state = {\"treasury\": 100,\n",
    "        \"total_supply\": 50,\n",
    "        \"total_demand\": 50}\n",
    "params = {\"demand_factor\": 10,\n",
    "         \"supply_factor\": 10}\n",
    "\n",
    "p_demand(params, None, None, state)"
   ]
  },
  {
   "cell_type": "code",
   "execution_count": null,
   "id": "0f587001",
   "metadata": {},
   "outputs": [],
   "source": []
  }
 ],
 "metadata": {
  "kernelspec": {
   "display_name": "Python 3 (ipykernel)",
   "language": "python",
   "name": "python3"
  },
  "language_info": {
   "codemirror_mode": {
    "name": "ipython",
    "version": 3
   },
   "file_extension": ".py",
   "mimetype": "text/x-python",
   "name": "python",
   "nbconvert_exporter": "python",
   "pygments_lexer": "ipython3",
   "version": "3.9.12"
  }
 },
 "nbformat": 4,
 "nbformat_minor": 5
}
