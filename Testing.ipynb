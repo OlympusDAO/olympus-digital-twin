{
 "cells": [
  {
   "cell_type": "code",
   "execution_count": 1,
   "id": "0dda76db",
   "metadata": {},
   "outputs": [
    {
     "ename": "KeyError",
     "evalue": "'total_supply'",
     "output_type": "error",
     "traceback": [
      "\u001b[0;31m---------------------------------------------------------------------------\u001b[0m",
      "\u001b[0;31mKeyError\u001b[0m                                  Traceback (most recent call last)",
      "Input \u001b[0;32mIn [1]\u001b[0m, in \u001b[0;36m<cell line: 11>\u001b[0;34m()\u001b[0m\n\u001b[1;32m      7\u001b[0m params \u001b[38;5;241m=\u001b[39m {\u001b[38;5;124m\"\u001b[39m\u001b[38;5;124mdemand_factor\u001b[39m\u001b[38;5;124m\"\u001b[39m: \u001b[38;5;241m10\u001b[39m,\n\u001b[1;32m      8\u001b[0m          \u001b[38;5;124m\"\u001b[39m\u001b[38;5;124msupply_factor\u001b[39m\u001b[38;5;124m\"\u001b[39m: \u001b[38;5;241m10\u001b[39m}\n\u001b[1;32m     10\u001b[0m _input \u001b[38;5;241m=\u001b[39m p_demand(params, \u001b[38;5;28;01mNone\u001b[39;00m, \u001b[38;5;28;01mNone\u001b[39;00m, state)\n\u001b[0;32m---> 11\u001b[0m \u001b[43ms_demand\u001b[49m\u001b[43m(\u001b[49m\u001b[43mparams\u001b[49m\u001b[43m,\u001b[49m\u001b[43m \u001b[49m\u001b[38;5;28;43;01mNone\u001b[39;49;00m\u001b[43m,\u001b[49m\u001b[43m \u001b[49m\u001b[38;5;28;43;01mNone\u001b[39;49;00m\u001b[43m,\u001b[49m\u001b[43m \u001b[49m\u001b[43mstate\u001b[49m\u001b[43m,\u001b[49m\u001b[43m \u001b[49m\u001b[43m_input\u001b[49m\u001b[43m)\u001b[49m\n",
      "File \u001b[0;32m~/Dropbox/BlockScience/OlympusRBS/model/psub_functions/demand.py:11\u001b[0m, in \u001b[0;36ms_demand\u001b[0;34m(_params, substep, state_history, state, _input)\u001b[0m\n\u001b[1;32m     10\u001b[0m \u001b[38;5;28;01mdef\u001b[39;00m \u001b[38;5;21ms_demand\u001b[39m(_params, substep, state_history, state, _input) \u001b[38;5;241m-\u001b[39m\u001b[38;5;241m>\u001b[39m \u001b[38;5;28mdict\u001b[39m:\n\u001b[0;32m---> 11\u001b[0m     out \u001b[38;5;241m=\u001b[39m \u001b[43mupdate_market_demand\u001b[49m\u001b[43m(\u001b[49m\u001b[43mstate\u001b[49m\u001b[43m,\u001b[49m\u001b[43m \u001b[49m\u001b[43m_params\u001b[49m\u001b[43m,\u001b[49m\u001b[43m \u001b[49m\u001b[43m_input\u001b[49m\u001b[43m)\u001b[49m\n\u001b[1;32m     13\u001b[0m     \u001b[38;5;28;01mreturn\u001b[39;00m (\u001b[38;5;124m\"\u001b[39m\u001b[38;5;124mmarket_demand_supply\u001b[39m\u001b[38;5;124m\"\u001b[39m, out)\n",
      "File \u001b[0;32m~/Dropbox/BlockScience/OlympusRBS/model/mechanism/demand.py:6\u001b[0m, in \u001b[0;36mupdate_market_demand\u001b[0;34m(state, params, _input)\u001b[0m\n\u001b[1;32m      5\u001b[0m \u001b[38;5;28;01mdef\u001b[39;00m \u001b[38;5;21mupdate_market_demand\u001b[39m(state: StateType, params: ParamsType, _input):\n\u001b[0;32m----> 6\u001b[0m     out \u001b[38;5;241m=\u001b[39m MarketDemandSupply(total_supply\u001b[38;5;241m=\u001b[39m\u001b[43m_input\u001b[49m\u001b[43m[\u001b[49m\u001b[38;5;124;43m\"\u001b[39;49m\u001b[38;5;124;43mtotal_supply\u001b[39;49m\u001b[38;5;124;43m\"\u001b[39;49m\u001b[43m]\u001b[49m,\n\u001b[1;32m      7\u001b[0m                              total_demand\u001b[38;5;241m=\u001b[39m_input[\u001b[38;5;124m\"\u001b[39m\u001b[38;5;124mtotal_demand\u001b[39m\u001b[38;5;124m\"\u001b[39m])\n\u001b[1;32m      9\u001b[0m     \u001b[38;5;28;01mreturn\u001b[39;00m out\n",
      "\u001b[0;31mKeyError\u001b[0m: 'total_supply'"
     ]
    }
   ],
   "source": [
    "from model.psub_functions.demand import p_demand, s_demand\n",
    "from model.types import MarketDemandSupply\n",
    "\n",
    "state = {\"treasury\": 100,\n",
    "         \"market_demand_supply\": MarketDemandSupply(total_supply = 50,\n",
    "                                                   total_demand = 50)}\n",
    "params = {\"demand_factor\": 10,\n",
    "         \"supply_factor\": 10}\n",
    "\n",
    "_input = p_demand(params, None, None, state)\n",
    "s_demand(params, None, None, state, _input)"
   ]
  },
  {
   "cell_type": "code",
   "execution_count": null,
   "id": "d802f8bd",
   "metadata": {},
   "outputs": [],
   "source": []
  }
 ],
 "metadata": {
  "kernelspec": {
   "display_name": "Python 3 (ipykernel)",
   "language": "python",
   "name": "python3"
  },
  "language_info": {
   "codemirror_mode": {
    "name": "ipython",
    "version": 3
   },
   "file_extension": ".py",
   "mimetype": "text/x-python",
   "name": "python",
   "nbconvert_exporter": "python",
   "pygments_lexer": "ipython3",
   "version": "3.9.12"
  }
 },
 "nbformat": 4,
 "nbformat_minor": 5
}
