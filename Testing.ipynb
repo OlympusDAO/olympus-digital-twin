{
 "cells": [
  {
   "cell_type": "code",
   "execution_count": 1,
   "id": "9fa2ed18",
   "metadata": {},
   "outputs": [],
   "source": [
    "from model.behavioral.demand import market_demand_behavioral"
   ]
  },
  {
   "cell_type": "code",
   "execution_count": null,
   "id": "8e5c0207",
   "metadata": {},
   "outputs": [],
   "source": []
  },
  {
   "cell_type": "code",
   "execution_count": 3,
   "id": "ad467942",
   "metadata": {},
   "outputs": [
    {
     "data": {
      "text/plain": [
       "{'net_flow': 5000.0,\n",
       " 'market_demand': 9.738905222216175,\n",
       " 'market_supply': 13.07849868019462}"
      ]
     },
     "execution_count": 3,
     "metadata": {},
     "output_type": "execute_result"
    }
   ],
   "source": [
    "state = {\"treasury\": 100,\n",
    "        \"total_supply\": 50,\n",
    "        \"total_demand\": 50}\n",
    "params = {\"demand_factor\": 10,\n",
    "         \"supply_factor\": 10}\n",
    "\n",
    "market_demand_behavioral(state, params)"
   ]
  },
  {
   "cell_type": "code",
   "execution_count": null,
   "id": "3d165b91",
   "metadata": {},
   "outputs": [],
   "source": []
  }
 ],
 "metadata": {
  "kernelspec": {
   "display_name": "Python 3 (ipykernel)",
   "language": "python",
   "name": "python3"
  },
  "language_info": {
   "codemirror_mode": {
    "name": "ipython",
    "version": 3
   },
   "file_extension": ".py",
   "mimetype": "text/x-python",
   "name": "python",
   "nbconvert_exporter": "python",
   "pygments_lexer": "ipython3",
   "version": "3.9.12"
  }
 },
 "nbformat": 4,
 "nbformat_minor": 5
}
