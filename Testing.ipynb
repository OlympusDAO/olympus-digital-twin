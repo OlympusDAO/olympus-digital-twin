{
 "cells": [
  {
   "cell_type": "code",
   "execution_count": 3,
   "id": "64bd22e3",
   "metadata": {},
   "outputs": [
    {
     "data": {
      "text/plain": [
       "{'net_flow': 5000.0,\n",
       " 'market_demand': 8.6368082433332,\n",
       " 'market_supply': 6.5535750026176744}"
      ]
     },
     "execution_count": 3,
     "metadata": {},
     "output_type": "execute_result"
    }
   ],
   "source": [
    "from model.psub_functions.demand import p_demand\n",
    "from model.types import MarketDemandSupply\n",
    "\n",
    "state = {\"treasury\": 100,\n",
    "         \"market_demand_supply\": MarketDemandSupply(total_supply = 50,\n",
    "                                                   total_demand = 50)}\n",
    "params = {\"demand_factor\": 10,\n",
    "         \"supply_factor\": 10}\n",
    "\n",
    "p_demand(params, None, None, state)"
   ]
  },
  {
   "cell_type": "code",
   "execution_count": 2,
   "id": "11cc0cfc",
   "metadata": {},
   "outputs": [],
   "source": []
  },
  {
   "cell_type": "code",
   "execution_count": null,
   "id": "5fe6b3fd",
   "metadata": {},
   "outputs": [],
   "source": []
  }
 ],
 "metadata": {
  "kernelspec": {
   "display_name": "Python 3 (ipykernel)",
   "language": "python",
   "name": "python3"
  },
  "language_info": {
   "codemirror_mode": {
    "name": "ipython",
    "version": 3
   },
   "file_extension": ".py",
   "mimetype": "text/x-python",
   "name": "python",
   "nbconvert_exporter": "python",
   "pygments_lexer": "ipython3",
   "version": "3.9.12"
  }
 },
 "nbformat": 4,
 "nbformat_minor": 5
}
