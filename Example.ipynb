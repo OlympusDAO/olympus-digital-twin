{
 "cells": [
  {
   "cell_type": "markdown",
   "id": "c6e15fe5",
   "metadata": {},
   "source": [
    "## Parameters\n",
    "\n",
    "You can import default parameters for the cadCAD model to be used within the system. For our simple example, we are only going to be using single sets of parameters so it will be arrays of length 1. These parameters can be changed as well but they are dictionaries which dictate system level parameters."
   ]
  },
  {
   "cell_type": "code",
   "execution_count": 7,
   "id": "34b3b84e",
   "metadata": {},
   "outputs": [
    {
     "data": {
      "text/plain": [
       "{'demand_factor': [0.07],\n",
       " 'supply_factor': [-0.07],\n",
       " 'initial_reserves_volatile': [25000000],\n",
       " 'max_liq_ratio': [0.14375],\n",
       " 'target_ma': [30],\n",
       " 'lower_wall': [0.15],\n",
       " 'upper_wall': [0.15],\n",
       " 'lower_cushion': [0.075],\n",
       " 'upper_cushion': [0.075],\n",
       " 'reinstate_window': [30],\n",
       " 'max_outflow_rate': [0.05],\n",
       " 'reward_rate_policy': ['Flat'],\n",
       " 'ask_factor': [0.095],\n",
       " 'bid_factor': [0.095],\n",
       " 'cushion_factor': [0.3075],\n",
       " 'min_counter_reinstate': [6],\n",
       " 'with_reinstate_window': ['Yes'],\n",
       " 'bond_create_schedule': [   start_days                                              bonds\n",
       "  0           1  [OHMbond(total_amount=1000000.0, expiration_du...],\n",
       " 'bond_annual_discount_rate': [0.04]}"
      ]
     },
     "metadata": {},
     "output_type": "display_data"
    }
   ],
   "source": [
    "# Import a set of default parameters\n",
    "from IPython.display import display\n",
    "from model.utility.default_parameters import default_params1 as params\n",
    "\n",
    "display(params)"
   ]
  },
  {
   "cell_type": "code",
   "execution_count": 8,
   "id": "820d8173",
   "metadata": {},
   "outputs": [
    {
     "data": {
      "text/plain": [
       "{'demand_factor': [0.05],\n",
       " 'supply_factor': [-0.05],\n",
       " 'initial_reserves_volatile': [25000000],\n",
       " 'max_liq_ratio': [0.14375],\n",
       " 'target_ma': [30],\n",
       " 'lower_wall': [0.15],\n",
       " 'upper_wall': [0.15],\n",
       " 'lower_cushion': [0.075],\n",
       " 'upper_cushion': [0.075],\n",
       " 'reinstate_window': [30],\n",
       " 'max_outflow_rate': [0.05],\n",
       " 'reward_rate_policy': ['Flat'],\n",
       " 'ask_factor': [0.095],\n",
       " 'bid_factor': [0.095],\n",
       " 'cushion_factor': [0.3075],\n",
       " 'min_counter_reinstate': [6],\n",
       " 'with_reinstate_window': ['Yes'],\n",
       " 'bond_create_schedule': [   start_days                                              bonds\n",
       "  0           1  [OHMbond(total_amount=1000000.0, expiration_du...],\n",
       " 'bond_annual_discount_rate': [0.04]}"
      ]
     },
     "metadata": {},
     "output_type": "display_data"
    }
   ],
   "source": [
    "# Change the demand and supply factors to be .05 and -.05\n",
    "params[\"demand_factor\"] = [0.05]\n",
    "params[\"supply_factor\"] = [-.05]\n",
    "display(params)"
   ]
  },
  {
   "cell_type": "code",
   "execution_count": null,
   "id": "a5887676",
   "metadata": {},
   "outputs": [],
   "source": []
  }
 ],
 "metadata": {
  "kernelspec": {
   "display_name": "Python 3 (ipykernel)",
   "language": "python",
   "name": "python3"
  },
  "language_info": {
   "codemirror_mode": {
    "name": "ipython",
    "version": 3
   },
   "file_extension": ".py",
   "mimetype": "text/x-python",
   "name": "python",
   "nbconvert_exporter": "python",
   "pygments_lexer": "ipython3",
   "version": "3.9.12"
  }
 },
 "nbformat": 4,
 "nbformat_minor": 5
}
