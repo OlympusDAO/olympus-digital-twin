{
 "cells": [
  {
   "cell_type": "markdown",
   "id": "08330132",
   "metadata": {},
   "source": [
    "## Parameters\n",
    "\n",
    "You can import default parameters for the cadCAD model to be used within the system. For our simple example, we are only going to be using single sets of parameters so it will be arrays of length 1. These parameters can be changed as well but they are dictionaries which dictate system level parameters."
   ]
  },
  {
   "cell_type": "code",
   "execution_count": 7,
   "id": "7e0642b5",
   "metadata": {},
   "outputs": [
    {
     "data": {
      "text/plain": [
       "{'demand_factor': [0.07],\n",
       " 'supply_factor': [-0.07],\n",
       " 'initial_reserves_volatile': [25000000],\n",
       " 'max_liq_ratio': [0.14375],\n",
       " 'target_ma': [30],\n",
       " 'lower_wall': [0.15],\n",
       " 'upper_wall': [0.15],\n",
       " 'lower_cushion': [0.075],\n",
       " 'upper_cushion': [0.075],\n",
       " 'reinstate_window': [30],\n",
       " 'max_outflow_rate': [0.05],\n",
       " 'reward_rate_policy': ['Flat'],\n",
       " 'ask_factor': [0.095],\n",
       " 'bid_factor': [0.095],\n",
       " 'cushion_factor': [0.3075],\n",
       " 'min_counter_reinstate': [6],\n",
       " 'with_reinstate_window': ['Yes'],\n",
       " 'bond_create_schedule': [   start_days                                              bonds\n",
       "  0           1  [OHMbond(total_amount=1000000.0, expiration_du...],\n",
       " 'bond_annual_discount_rate': [0.04]}"
      ]
     },
     "metadata": {},
     "output_type": "display_data"
    }
   ],
   "source": [
    "# Import a set of default parameters\n",
    "from IPython.display import display\n",
    "from model.utility.default_parameters import default_params1 as params\n",
    "\n",
    "display(params)"
   ]
  },
  {
   "cell_type": "code",
   "execution_count": 8,
   "id": "e6d60be6",
   "metadata": {},
   "outputs": [
    {
     "data": {
      "text/plain": [
       "{'demand_factor': [0.05],\n",
       " 'supply_factor': [-0.05],\n",
       " 'initial_reserves_volatile': [25000000],\n",
       " 'max_liq_ratio': [0.14375],\n",
       " 'target_ma': [30],\n",
       " 'lower_wall': [0.15],\n",
       " 'upper_wall': [0.15],\n",
       " 'lower_cushion': [0.075],\n",
       " 'upper_cushion': [0.075],\n",
       " 'reinstate_window': [30],\n",
       " 'max_outflow_rate': [0.05],\n",
       " 'reward_rate_policy': ['Flat'],\n",
       " 'ask_factor': [0.095],\n",
       " 'bid_factor': [0.095],\n",
       " 'cushion_factor': [0.3075],\n",
       " 'min_counter_reinstate': [6],\n",
       " 'with_reinstate_window': ['Yes'],\n",
       " 'bond_create_schedule': [   start_days                                              bonds\n",
       "  0           1  [OHMbond(total_amount=1000000.0, expiration_du...],\n",
       " 'bond_annual_discount_rate': [0.04]}"
      ]
     },
     "metadata": {},
     "output_type": "display_data"
    }
   ],
   "source": [
    "# Change the demand and supply factors to be .05 and -.05\n",
    "params[\"demand_factor\"] = [0.05]\n",
    "params[\"supply_factor\"] = [-.05]\n",
    "display(params)"
   ]
  },
  {
   "cell_type": "markdown",
   "id": "6055afa3",
   "metadata": {},
   "source": [
    "## Initial State\n",
    "\n",
    "Starting state for the simulation needs to be specified but also comes with defaults. Some of the initial state variables, however, do get influenced by the parameters so there is a step to prep those variables that do get set based upon that."
   ]
  },
  {
   "cell_type": "code",
   "execution_count": 10,
   "id": "c7001a1a",
   "metadata": {},
   "outputs": [
    {
     "data": {
      "text/plain": [
       "{'liq_stables': 21000000,\n",
       " 'reserves_stables': 170000000,\n",
       " 'reserves_volatile': 25000000,\n",
       " 'price': 9.5,\n",
       " 'reward_rate': 0.000198,\n",
       " 'market_demand_supply': MarketDemandSupply(total_supply=0.001, total_demand=-0.008),\n",
       " 'target_liq_ratio_reached': False,\n",
       " 'reserves_in': 0,\n",
       " 'supply': 25000000,\n",
       " 'ma_target': 9.5,\n",
       " 'ask_change_ohm': 0,\n",
       " 'bid_change_ohm': 0,\n",
       " 'net_flow': None,\n",
       " 'bid_capacity_target': None,\n",
       " 'ask_capacity_target': None,\n",
       " 'bid_capacity_target_cushion': None,\n",
       " 'ask_capacity_target_cushion': None,\n",
       " 'natural_price': None,\n",
       " 'bid_capacity_cushion': None,\n",
       " 'ask_capacity_cushion': None,\n",
       " 'bid_change_cushion_usd': None,\n",
       " 'bid_change_cushion_ohm': None,\n",
       " 'ask_change_cushion_usd': None,\n",
       " 'ask_change_cushion_ohm': None,\n",
       " 'bid_change_usd': None,\n",
       " 'ask_change_usd': None,\n",
       " 'reserves_out': None,\n",
       " 'ohm_traded': None,\n",
       " 'cum_ohm_purchased': 0,\n",
       " 'cum_ohm_burnt': 0,\n",
       " 'cum_ohm_minted': 0}"
      ]
     },
     "metadata": {},
     "output_type": "display_data"
    }
   ],
   "source": [
    "# Import a default initial state\n",
    "from model.utility.default_initial_state import default_initial_state1 as initial_state\n",
    "\n",
    "display(initial_state)"
   ]
  },
  {
   "cell_type": "code",
   "execution_count": 11,
   "id": "9c24d365",
   "metadata": {},
   "outputs": [],
   "source": [
    "# Fill in the initial state\n",
    "from model.utility.initial_state_functions import fill_in_initial_state\n",
    "\n",
    "initial_state = fill_in_initial_state(initial_state, params)"
   ]
  },
  {
   "cell_type": "code",
   "execution_count": null,
   "id": "3224bf9f",
   "metadata": {},
   "outputs": [],
   "source": []
  }
 ],
 "metadata": {
  "kernelspec": {
   "display_name": "Python 3 (ipykernel)",
   "language": "python",
   "name": "python3"
  },
  "language_info": {
   "codemirror_mode": {
    "name": "ipython",
    "version": 3
   },
   "file_extension": ".py",
   "mimetype": "text/x-python",
   "name": "python",
   "nbconvert_exporter": "python",
   "pygments_lexer": "ipython3",
   "version": "3.9.12"
  }
 },
 "nbformat": 4,
 "nbformat_minor": 5
}
