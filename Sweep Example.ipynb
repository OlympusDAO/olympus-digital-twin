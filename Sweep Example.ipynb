{
 "cells": [
  {
   "cell_type": "markdown",
   "id": "1109be26",
   "metadata": {},
   "source": [
    "## Parameters\n",
    "\n",
    "You can import default parameters for the cadCAD model to be used within the system. For our sweep example, we need to distinguish between how to do multiple options versus a single option.\n",
    "\n",
    "For all parameters, there is two lengths which the list can have:\n",
    "- 1 (meaning the parameter is used for all sweeps)\n",
    "- N (meaning for the N parameter sweeps, there are N different values)\n",
    "\n",
    "The value for N can be anything, but all paramters that are not of length 1 have to have length of N."
   ]
  },
  {
   "cell_type": "code",
   "execution_count": 1,
   "id": "b28fdfd2",
   "metadata": {},
   "outputs": [
    {
     "data": {
      "text/plain": [
       "{'demand_factor': [0.07],\n",
       " 'supply_factor': [-0.07],\n",
       " 'initial_reserves_volatile': [25000000],\n",
       " 'max_liq_ratio': [0.14375],\n",
       " 'target_ma': [30],\n",
       " 'lower_wall': [0.15],\n",
       " 'upper_wall': [0.15],\n",
       " 'lower_cushion': [0.075],\n",
       " 'upper_cushion': [0.075],\n",
       " 'reinstate_window': [30],\n",
       " 'max_outflow_rate': [0.05],\n",
       " 'reward_rate_policy': ['Flat'],\n",
       " 'ask_factor': [0.095],\n",
       " 'bid_factor': [0.095],\n",
       " 'cushion_factor': [0.3075],\n",
       " 'min_counter_reinstate': [6],\n",
       " 'with_reinstate_window': ['Yes'],\n",
       " 'bond_create_schedule': [   start_days                                              bonds\n",
       "  0           1  [OHMbond(total_amount=1000000.0, expiration_du...],\n",
       " 'bond_annual_discount_rate': [0.04],\n",
       " 'ohm_bond_to_netflow_ratio': [0.5]}"
      ]
     },
     "metadata": {},
     "output_type": "display_data"
    }
   ],
   "source": [
    "# Import a set of default parameters\n",
    "from IPython.display import display\n",
    "from model.utility.default_parameters import default_params1 as params\n",
    "\n",
    "display(params)"
   ]
  },
  {
   "cell_type": "code",
   "execution_count": 2,
   "id": "c8815621",
   "metadata": {},
   "outputs": [
    {
     "data": {
      "text/plain": [
       "{'demand_factor': [0.01, 0.025],\n",
       " 'supply_factor': [-0.01, -0.025],\n",
       " 'initial_reserves_volatile': [25000000],\n",
       " 'max_liq_ratio': [0.14375],\n",
       " 'target_ma': [30],\n",
       " 'lower_wall': [0.15],\n",
       " 'upper_wall': [0.15],\n",
       " 'lower_cushion': [0.075],\n",
       " 'upper_cushion': [0.075],\n",
       " 'reinstate_window': [30],\n",
       " 'max_outflow_rate': [0.05],\n",
       " 'reward_rate_policy': ['Flat'],\n",
       " 'ask_factor': [0.095],\n",
       " 'bid_factor': [0.095],\n",
       " 'cushion_factor': [0.3075],\n",
       " 'min_counter_reinstate': [6],\n",
       " 'with_reinstate_window': ['Yes'],\n",
       " 'bond_create_schedule': [   start_days                                              bonds\n",
       "  0           1  [OHMbond(total_amount=1000000.0, expiration_du...],\n",
       " 'bond_annual_discount_rate': [0.04],\n",
       " 'ohm_bond_to_netflow_ratio': [0.5]}"
      ]
     },
     "metadata": {},
     "output_type": "display_data"
    }
   ],
   "source": [
    "# For example, we can have two sets of values for demand and supply to see the differences\n",
    "\n",
    "params[\"demand_factor\"] = [0.01, .025]\n",
    "params[\"supply_factor\"] = [-.01, -.025]\n",
    "display(params)"
   ]
  },
  {
   "cell_type": "markdown",
   "id": "83e47f98",
   "metadata": {},
   "source": [
    "## Initial State\n",
    "\n",
    "Starting state for the simulation needs to be specified but also comes with defaults. Some of the initial state variables, however, do get influenced by the parameters so there is a step to prep those variables that do get set based upon that."
   ]
  },
  {
   "cell_type": "code",
   "execution_count": 3,
   "id": "fa8c1cca",
   "metadata": {},
   "outputs": [
    {
     "data": {
      "text/plain": [
       "{'liq_stables': 21000000,\n",
       " 'reserves_stables': 170000000,\n",
       " 'reserves_volatile': 25000000,\n",
       " 'price': 9.5,\n",
       " 'reward_rate': 0.000198,\n",
       " 'market_demand_supply': MarketDemandSupply(total_supply=0.001, total_demand=-0.008),\n",
       " 'target_liq_ratio_reached': False,\n",
       " 'reserves_in': 0,\n",
       " 'supply': 25000000,\n",
       " 'ma_target': 9.5,\n",
       " 'ask_change_ohm': 0,\n",
       " 'bid_change_ohm': 0,\n",
       " 'net_flow': None,\n",
       " 'bid_capacity_target': None,\n",
       " 'ask_capacity_target': None,\n",
       " 'bid_capacity_target_cushion': None,\n",
       " 'ask_capacity_target_cushion': None,\n",
       " 'natural_price': None,\n",
       " 'bid_capacity_cushion': None,\n",
       " 'ask_capacity_cushion': None,\n",
       " 'bid_change_cushion_usd': None,\n",
       " 'bid_change_cushion_ohm': None,\n",
       " 'ask_change_cushion_usd': None,\n",
       " 'ask_change_cushion_ohm': None,\n",
       " 'bid_change_usd': None,\n",
       " 'ask_change_usd': None,\n",
       " 'reserves_out': None,\n",
       " 'ohm_traded': None,\n",
       " 'cum_ohm_purchased': 0,\n",
       " 'cum_ohm_burnt': 0,\n",
       " 'cum_ohm_minted': 0,\n",
       " 'cum_ohm_minted_forbond': 0,\n",
       " 'cum_ohm_burned_frombond': 0,\n",
       " 'netflow_bondexpire': 0,\n",
       " 'netflow_bondsale': 0}"
      ]
     },
     "metadata": {},
     "output_type": "display_data"
    }
   ],
   "source": [
    "# Import a default initial state\n",
    "from model.utility.default_initial_state import default_initial_state1 as initial_state\n",
    "\n",
    "display(initial_state)"
   ]
  },
  {
   "cell_type": "code",
   "execution_count": 4,
   "id": "591b168e",
   "metadata": {},
   "outputs": [],
   "source": [
    "# Fill in the initial state\n",
    "from model.utility.initial_state_functions import fill_in_initial_state\n",
    "\n",
    "initial_state = fill_in_initial_state(initial_state, params)"
   ]
  },
  {
   "cell_type": "markdown",
   "id": "a75133c4",
   "metadata": {},
   "source": [
    "## Run Experiment\n",
    "\n",
    "You can set two parameters for the simulation model at this phase. The number of monte carlo runs (number_runs) and the number of timesteps for each run (number_steps). Then you load the experiment with load_config, get raw output from running the experiment, and finally apply to post-processing function to parse the data into a smaller and enhanced dataframe.\n",
    "\n",
    "For each of the N parameter sweeps, there will be the set number of monte carlo runs ran."
   ]
  },
  {
   "cell_type": "code",
   "execution_count": 5,
   "id": "d89f5d25",
   "metadata": {},
   "outputs": [
    {
     "name": "stdout",
     "output_type": "stream",
     "text": [
      "\n",
      "                  ___________    ____\n",
      "  ________ __ ___/ / ____/   |  / __ \\\n",
      " / ___/ __` / __  / /   / /| | / / / /\n",
      "/ /__/ /_/ / /_/ / /___/ ___ |/ /_/ /\n",
      "\\___/\\__,_/\\__,_/\\____/_/  |_/_____/\n",
      "by cadCAD\n",
      "\n",
      "cadCAD Version: 0.4.28\n",
      "Execution Mode: local_proc\n",
      "Simulation Dimensions:\n",
      "Entire Simulation: (Models, Unique Timesteps, Params, Total Runs, Sub-States) = (1, 100, 20, 6, 67)\n",
      "     Simulation 0: (Timesteps, Params, Runs, Sub-States) = (100, 20, 6, 67)\n",
      "Execution Method: local_simulations\n",
      "Execution Mode: parallelized\n",
      "Total execution time: 23.93s\n"
     ]
    }
   ],
   "source": [
    "from model.run import load_config, run, post_processing\n",
    "\n",
    "# Set the params for runs and timesteps\n",
    "number_runs = 3\n",
    "number_steps = 100\n",
    "\n",
    "# Load the experiment\n",
    "exp = load_config(number_runs, params, initial_state, number_steps)\n",
    "\n",
    "# Run the experiment\n",
    "raw = run(exp)\n",
    "\n",
    "# Parse the raw data\n",
    "df = post_processing(raw)"
   ]
  },
  {
   "cell_type": "markdown",
   "id": "17b81192",
   "metadata": {},
   "source": [
    "## Cartesian Sweep"
   ]
  },
  {
   "cell_type": "code",
   "execution_count": null,
   "id": "27bfabb1",
   "metadata": {},
   "outputs": [],
   "source": []
  }
 ],
 "metadata": {
  "kernelspec": {
   "display_name": "Python 3 (ipykernel)",
   "language": "python",
   "name": "python3"
  },
  "language_info": {
   "codemirror_mode": {
    "name": "ipython",
    "version": 3
   },
   "file_extension": ".py",
   "mimetype": "text/x-python",
   "name": "python",
   "nbconvert_exporter": "python",
   "pygments_lexer": "ipython3",
   "version": "3.9.12"
  }
 },
 "nbformat": 4,
 "nbformat_minor": 5
}
