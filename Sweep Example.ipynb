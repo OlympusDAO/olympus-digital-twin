{
 "cells": [
  {
   "cell_type": "markdown",
   "id": "b7fd0e8f",
   "metadata": {},
   "source": [
    "## Parameters\n",
    "\n",
    "You can import default parameters for the cadCAD model to be used within the system. For our sweep example, we need to distinguish between how to do multiple options versus a single option.\n",
    "\n",
    "For all parameters, there is two lengths which the list can have:\n",
    "- 1 (meaning the parameter is used for all sweeps)\n",
    "- N (meaning for the N parameter sweeps, there are N different values)\n",
    "\n",
    "The value for N can be anything, but all paramters that are not of length 1 have to have length of N."
   ]
  },
  {
   "cell_type": "code",
   "execution_count": 9,
   "id": "3bf44de5",
   "metadata": {},
   "outputs": [
    {
     "data": {
      "text/plain": [
       "{'demand_factor': [0.01, 0.025],\n",
       " 'supply_factor': [-0.01, -0.025],\n",
       " 'initial_reserves_volatile': [25000000],\n",
       " 'max_liq_ratio': [0.14375],\n",
       " 'target_ma': [30],\n",
       " 'lower_wall': [0.15],\n",
       " 'upper_wall': [0.15],\n",
       " 'lower_cushion': [0.075],\n",
       " 'upper_cushion': [0.075],\n",
       " 'reinstate_window': [30],\n",
       " 'max_outflow_rate': [0.05],\n",
       " 'reward_rate_policy': ['Flat'],\n",
       " 'ask_factor': [0.095],\n",
       " 'bid_factor': [0.095],\n",
       " 'cushion_factor': [0.3075],\n",
       " 'min_counter_reinstate': [6],\n",
       " 'with_reinstate_window': ['Yes'],\n",
       " 'bond_create_schedule': [Empty DataFrame\n",
       "  Columns: [start_days, bonds]\n",
       "  Index: []],\n",
       " 'bond_annual_discount_rate': [0.04],\n",
       " 'ohm_bond_to_netflow_ratio': [0.5]}"
      ]
     },
     "metadata": {},
     "output_type": "display_data"
    }
   ],
   "source": [
    "# Import a set of default parameters\n",
    "from IPython.display import display\n",
    "from model.utility.default_parameters import default_params1 as params\n",
    "\n",
    "display(params)"
   ]
  },
  {
   "cell_type": "code",
   "execution_count": 10,
   "id": "9b9dd537",
   "metadata": {},
   "outputs": [
    {
     "data": {
      "text/plain": [
       "{'demand_factor': [0.01, 0.05],\n",
       " 'supply_factor': [-0.01, -0.05],\n",
       " 'initial_reserves_volatile': [25000000],\n",
       " 'max_liq_ratio': [0.14375],\n",
       " 'target_ma': [30],\n",
       " 'lower_wall': [0.15],\n",
       " 'upper_wall': [0.15],\n",
       " 'lower_cushion': [0.075],\n",
       " 'upper_cushion': [0.075],\n",
       " 'reinstate_window': [30],\n",
       " 'max_outflow_rate': [0.05],\n",
       " 'reward_rate_policy': ['Flat'],\n",
       " 'ask_factor': [0.095],\n",
       " 'bid_factor': [0.095],\n",
       " 'cushion_factor': [0.3075],\n",
       " 'min_counter_reinstate': [6],\n",
       " 'with_reinstate_window': ['Yes'],\n",
       " 'bond_create_schedule': [Empty DataFrame\n",
       "  Columns: [start_days, bonds]\n",
       "  Index: []],\n",
       " 'bond_annual_discount_rate': [0.04],\n",
       " 'ohm_bond_to_netflow_ratio': [0.5]}"
      ]
     },
     "metadata": {},
     "output_type": "display_data"
    }
   ],
   "source": [
    "# For example, we can have two sets of values for demand and supply to see the differences\n",
    "\n",
    "params[\"demand_factor\"] = [0.01, .05]\n",
    "params[\"supply_factor\"] = [-.01, -.05]\n",
    "display(params)"
   ]
  },
  {
   "cell_type": "code",
   "execution_count": 11,
   "id": "9a20a152",
   "metadata": {},
   "outputs": [],
   "source": [
    "import pandas as pd\n",
    "\n",
    "# And we can also set a parameter (here setting it so no bonds are made) to have just length 1\n",
    "# So that is applies to all simulations\n",
    "params[\"bond_create_schedule\"] = [pd.DataFrame([], columns = ['start_days', 'bonds'])]"
   ]
  },
  {
   "cell_type": "markdown",
   "id": "fa9a48d1",
   "metadata": {},
   "source": [
    "## Initial State\n",
    "\n",
    "Starting state for the simulation needs to be specified but also comes with defaults. Some of the initial state variables, however, do get influenced by the parameters so there is a step to prep those variables that do get set based upon that."
   ]
  },
  {
   "cell_type": "code",
   "execution_count": 12,
   "id": "8c07c257",
   "metadata": {},
   "outputs": [
    {
     "data": {
      "text/plain": [
       "{'liq_stables': 21000000,\n",
       " 'reserves_stables': 170000000,\n",
       " 'reserves_volatile': 25000000,\n",
       " 'price': 9.5,\n",
       " 'reward_rate': 0.000198,\n",
       " 'market_demand_supply': MarketDemandSupply(total_supply=0.001, total_demand=-0.008),\n",
       " 'target_liq_ratio_reached': False,\n",
       " 'reserves_in': 0,\n",
       " 'supply': 25000000,\n",
       " 'ma_target': 9.5,\n",
       " 'ask_change_ohm': 0,\n",
       " 'bid_change_ohm': 0,\n",
       " 'net_flow': None,\n",
       " 'bid_capacity_target': 16150000.0,\n",
       " 'ask_capacity_target': 1921739.1304347825,\n",
       " 'bid_capacity_target_cushion': 4966125.0,\n",
       " 'ask_capacity_target_cushion': 590934.7826086956,\n",
       " 'natural_price': None,\n",
       " 'bid_capacity_cushion': 4966125.0,\n",
       " 'ask_capacity_cushion': 590934.7826086956,\n",
       " 'bid_change_cushion_usd': None,\n",
       " 'bid_change_cushion_ohm': None,\n",
       " 'ask_change_cushion_usd': None,\n",
       " 'ask_change_cushion_ohm': None,\n",
       " 'bid_change_usd': None,\n",
       " 'ask_change_usd': None,\n",
       " 'reserves_out': None,\n",
       " 'ohm_traded': None,\n",
       " 'cum_ohm_purchased': 0,\n",
       " 'cum_ohm_burnt': 0,\n",
       " 'cum_ohm_minted': 0,\n",
       " 'cum_ohm_minted_forbond': 0,\n",
       " 'cum_ohm_burned_frombond': 0,\n",
       " 'netflow_bondexpire': 0,\n",
       " 'netflow_bondsale': 0,\n",
       " 'amm_k': 46421052631578.945,\n",
       " 'price_history': [9.5],\n",
       " 'lb_target': 9.5,\n",
       " 'price_target': 9.5,\n",
       " 'liq_ohm': 2210526.3157894737,\n",
       " 'floating_supply': 22789473.684210528,\n",
       " 'treasury_stables': 191000000,\n",
       " 'liq_backing': 216000000,\n",
       " 'lower_target_wall': 8.075,\n",
       " 'upper_target_wall': 10.924999999999999,\n",
       " 'lower_target_cushion': 8.7875,\n",
       " 'upper_target_cushion': 10.2125,\n",
       " 'bid_counter': [0,\n",
       "  0,\n",
       "  0,\n",
       "  0,\n",
       "  0,\n",
       "  0,\n",
       "  0,\n",
       "  0,\n",
       "  0,\n",
       "  0,\n",
       "  0,\n",
       "  0,\n",
       "  0,\n",
       "  0,\n",
       "  0,\n",
       "  0,\n",
       "  0,\n",
       "  0,\n",
       "  0,\n",
       "  0,\n",
       "  0,\n",
       "  0,\n",
       "  0,\n",
       "  0,\n",
       "  0,\n",
       "  0,\n",
       "  0,\n",
       "  0,\n",
       "  0,\n",
       "  0],\n",
       " 'ask_counter': [0,\n",
       "  0,\n",
       "  0,\n",
       "  0,\n",
       "  0,\n",
       "  0,\n",
       "  0,\n",
       "  0,\n",
       "  0,\n",
       "  0,\n",
       "  0,\n",
       "  0,\n",
       "  0,\n",
       "  0,\n",
       "  0,\n",
       "  0,\n",
       "  0,\n",
       "  0,\n",
       "  0,\n",
       "  0,\n",
       "  0,\n",
       "  0,\n",
       "  0,\n",
       "  0,\n",
       "  0,\n",
       "  0,\n",
       "  0,\n",
       "  0,\n",
       "  0,\n",
       "  0],\n",
       " 'bid_capacity': 16150000.0,\n",
       " 'ask_capacity': 1921739.1304347825,\n",
       " 'bond_created': [],\n",
       " 'bond_created_today': [],\n",
       " 'ohm_bonded': 0,\n",
       " 'liq_ohm_into_bond': 0,\n",
       " 'ohm_released': 0,\n",
       " 'mcap': 237500000.0,\n",
       " 'floating_mcap': 216500000.0,\n",
       " 'liq_ratio': 0.1099476439790576,\n",
       " 'reserves_ratio': (8.095238095238095,),\n",
       " 'fmcap_treasury_ratio': 1.1335078534031413,\n",
       " 'liq_fmcap_ratio': 0.09699769053117784,\n",
       " 'total_demand': -0.008,\n",
       " 'total_supply': 0.001,\n",
       " 'total_net': -0.007,\n",
       " 'demand_factor': None,\n",
       " 'supply_factor': None}"
      ]
     },
     "metadata": {},
     "output_type": "display_data"
    }
   ],
   "source": [
    "# Import a default initial state\n",
    "from model.utility.default_initial_state import default_initial_state1 as initial_state\n",
    "\n",
    "display(initial_state)"
   ]
  },
  {
   "cell_type": "code",
   "execution_count": 13,
   "id": "49004a50",
   "metadata": {},
   "outputs": [],
   "source": [
    "# Fill in the initial state\n",
    "from model.utility.initial_state_functions import fill_in_initial_state\n",
    "\n",
    "initial_state = fill_in_initial_state(initial_state, params)"
   ]
  },
  {
   "cell_type": "markdown",
   "id": "f8ea8f38",
   "metadata": {},
   "source": [
    "## Run Experiment\n",
    "\n",
    "You can set two parameters for the simulation model at this phase. The number of monte carlo runs (number_runs) and the number of timesteps for each run (number_steps). Then you load the experiment with load_config, get raw output from running the experiment, and finally apply to post-processing function to parse the data into a smaller and enhanced dataframe.\n",
    "\n",
    "For each of the N parameter sweeps, there will be the set number of monte carlo runs ran."
   ]
  },
  {
   "cell_type": "code",
   "execution_count": null,
   "id": "ddb4d7c6",
   "metadata": {},
   "outputs": [
    {
     "name": "stdout",
     "output_type": "stream",
     "text": [
      "\n",
      "                  ___________    ____\n",
      "  ________ __ ___/ / ____/   |  / __ \\\n",
      " / ___/ __` / __  / /   / /| | / / / /\n",
      "/ /__/ /_/ / /_/ / /___/ ___ |/ /_/ /\n",
      "\\___/\\__,_/\\__,_/\\____/_/  |_/_____/\n",
      "by cadCAD\n",
      "\n",
      "cadCAD Version: 0.4.28\n",
      "Execution Mode: local_proc\n",
      "Simulation Dimensions:\n",
      "Entire Simulation: (Models, Unique Timesteps, Params, Total Runs, Sub-States) = (1, 100, 20, 6, 67)\n",
      "     Simulation 0: (Timesteps, Params, Runs, Sub-States) = (100, 20, 6, 67)\n",
      "Execution Method: local_simulations\n",
      "Execution Mode: parallelized\n"
     ]
    }
   ],
   "source": [
    "from model.run import load_config, run, post_processing\n",
    "\n",
    "# Set the params for runs and timesteps\n",
    "number_runs = 3\n",
    "number_steps = 100\n",
    "\n",
    "# Load the experiment\n",
    "exp = load_config(number_runs, params, initial_state, number_steps)\n",
    "\n",
    "# Run the experiment\n",
    "raw = run(exp)\n",
    "\n",
    "# Parse the raw data\n",
    "df = post_processing(raw)"
   ]
  },
  {
   "cell_type": "markdown",
   "id": "cce213e0",
   "metadata": {},
   "source": [
    "## Visualization\n",
    "\n",
    "There are functions to easily visualize some of the results of the cadCAD runs. Below we will show some graphics from the monte carlo simulations.\n",
    "\n",
    "Some of these visualizations are based upon the aggregate simulations, and some are grouped by variables."
   ]
  },
  {
   "cell_type": "code",
   "execution_count": null,
   "id": "1133867d",
   "metadata": {},
   "outputs": [],
   "source": [
    "from model.utility.visualization import plot_all_sims\n",
    "\n",
    "# Plot all simulation values for natural price\n",
    "plot_all_sims([\"natural_price\"], df)"
   ]
  },
  {
   "cell_type": "code",
   "execution_count": null,
   "id": "1c630853",
   "metadata": {},
   "outputs": [],
   "source": [
    "from model.utility.visualization import plot_grouped_variables_average\n",
    "\n",
    "# Plot the average values for natural price by the groups of supply and demand factor\n",
    "variables_to_plot = [\"natural_price\"]\n",
    "grouping_variables = [\"demand_factor\", \"supply_factor\"]\n",
    "\n",
    "plot_grouped_variables_average(variables_to_plot,\n",
    "                               grouping_variables,\n",
    "                               df)"
   ]
  },
  {
   "cell_type": "markdown",
   "id": "8571d86b",
   "metadata": {},
   "source": [
    "## Cartesian Sweep"
   ]
  },
  {
   "cell_type": "code",
   "execution_count": null,
   "id": "2cc5a819",
   "metadata": {},
   "outputs": [],
   "source": []
  }
 ],
 "metadata": {
  "kernelspec": {
   "display_name": "Python 3 (ipykernel)",
   "language": "python",
   "name": "python3"
  },
  "language_info": {
   "codemirror_mode": {
    "name": "ipython",
    "version": 3
   },
   "file_extension": ".py",
   "mimetype": "text/x-python",
   "name": "python",
   "nbconvert_exporter": "python",
   "pygments_lexer": "ipython3",
   "version": "3.9.12"
  }
 },
 "nbformat": 4,
 "nbformat_minor": 5
}
