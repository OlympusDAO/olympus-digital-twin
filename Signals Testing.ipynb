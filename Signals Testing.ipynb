{
 "cells": [
  {
   "cell_type": "code",
   "execution_count": 1,
   "id": "41b909ee",
   "metadata": {},
   "outputs": [],
   "source": [
    "from model.utility.default_parameters import default_params1 as params\n",
    "from model.signals.bond_signals import periodic_bond_creation"
   ]
  },
  {
   "cell_type": "code",
   "execution_count": 6,
   "id": "99557a57",
   "metadata": {},
   "outputs": [
    {
     "data": {
      "text/html": [
       "<div>\n",
       "<style scoped>\n",
       "    .dataframe tbody tr th:only-of-type {\n",
       "        vertical-align: middle;\n",
       "    }\n",
       "\n",
       "    .dataframe tbody tr th {\n",
       "        vertical-align: top;\n",
       "    }\n",
       "\n",
       "    .dataframe thead th {\n",
       "        text-align: right;\n",
       "    }\n",
       "</style>\n",
       "<table border=\"1\" class=\"dataframe\">\n",
       "  <thead>\n",
       "    <tr style=\"text-align: right;\">\n",
       "      <th></th>\n",
       "      <th>start_days</th>\n",
       "      <th>bonds</th>\n",
       "    </tr>\n",
       "  </thead>\n",
       "  <tbody>\n",
       "    <tr>\n",
       "      <th>0</th>\n",
       "      <td>1</td>\n",
       "      <td>[OHMbond(total_amount=10000, expiration_durati...</td>\n",
       "    </tr>\n",
       "    <tr>\n",
       "      <th>1</th>\n",
       "      <td>26</td>\n",
       "      <td>[OHMbond(total_amount=10000, expiration_durati...</td>\n",
       "    </tr>\n",
       "    <tr>\n",
       "      <th>2</th>\n",
       "      <td>51</td>\n",
       "      <td>[OHMbond(total_amount=10000, expiration_durati...</td>\n",
       "    </tr>\n",
       "    <tr>\n",
       "      <th>3</th>\n",
       "      <td>76</td>\n",
       "      <td>[OHMbond(total_amount=10000, expiration_durati...</td>\n",
       "    </tr>\n",
       "  </tbody>\n",
       "</table>\n",
       "</div>"
      ],
      "text/plain": [
       "   start_days                                              bonds\n",
       "0           1  [OHMbond(total_amount=10000, expiration_durati...\n",
       "1          26  [OHMbond(total_amount=10000, expiration_durati...\n",
       "2          51  [OHMbond(total_amount=10000, expiration_durati...\n",
       "3          76  [OHMbond(total_amount=10000, expiration_durati..."
      ]
     },
     "execution_count": 6,
     "metadata": {},
     "output_type": "execute_result"
    }
   ],
   "source": [
    "periodic_bond_creation(25, [30, 60, 90], 10000, 100)"
   ]
  },
  {
   "cell_type": "code",
   "execution_count": 4,
   "id": "dda11038",
   "metadata": {},
   "outputs": [
    {
     "data": {
      "text/html": [
       "<div>\n",
       "<style scoped>\n",
       "    .dataframe tbody tr th:only-of-type {\n",
       "        vertical-align: middle;\n",
       "    }\n",
       "\n",
       "    .dataframe tbody tr th {\n",
       "        vertical-align: top;\n",
       "    }\n",
       "\n",
       "    .dataframe thead th {\n",
       "        text-align: right;\n",
       "    }\n",
       "</style>\n",
       "<table border=\"1\" class=\"dataframe\">\n",
       "  <thead>\n",
       "    <tr style=\"text-align: right;\">\n",
       "      <th></th>\n",
       "      <th>start_days</th>\n",
       "      <th>bonds</th>\n",
       "    </tr>\n",
       "  </thead>\n",
       "  <tbody>\n",
       "    <tr>\n",
       "      <th>0</th>\n",
       "      <td>1</td>\n",
       "      <td>[OHMbond(total_amount=1000000.0, expiration_du...</td>\n",
       "    </tr>\n",
       "  </tbody>\n",
       "</table>\n",
       "</div>"
      ],
      "text/plain": [
       "   start_days                                              bonds\n",
       "0           1  [OHMbond(total_amount=1000000.0, expiration_du..."
      ]
     },
     "execution_count": 4,
     "metadata": {},
     "output_type": "execute_result"
    }
   ],
   "source": [
    "params['bond_create_schedule'][0]"
   ]
  },
  {
   "cell_type": "code",
   "execution_count": 6,
   "id": "afed15f5",
   "metadata": {},
   "outputs": [
    {
     "data": {
      "text/plain": [
       "[OHMbond(total_amount=1000000.0, expiration_duration=30, start_date=1),\n",
       " OHMbond(total_amount=1000000.0, expiration_duration=60, start_date=1),\n",
       " OHMbond(total_amount=1000000.0, expiration_duration=90, start_date=1)]"
      ]
     },
     "execution_count": 6,
     "metadata": {},
     "output_type": "execute_result"
    }
   ],
   "source": [
    "params['bond_create_schedule'][0]['bonds'].values[0]"
   ]
  },
  {
   "cell_type": "code",
   "execution_count": null,
   "id": "98b0150a",
   "metadata": {},
   "outputs": [],
   "source": []
  }
 ],
 "metadata": {
  "kernelspec": {
   "display_name": "Python 3 (ipykernel)",
   "language": "python",
   "name": "python3"
  },
  "language_info": {
   "codemirror_mode": {
    "name": "ipython",
    "version": 3
   },
   "file_extension": ".py",
   "mimetype": "text/x-python",
   "name": "python",
   "nbconvert_exporter": "python",
   "pygments_lexer": "ipython3",
   "version": "3.9.7"
  }
 },
 "nbformat": 4,
 "nbformat_minor": 5
}
