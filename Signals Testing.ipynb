{
 "cells": [
  {
   "cell_type": "code",
   "execution_count": 1,
   "id": "16576b8c",
   "metadata": {},
   "outputs": [],
   "source": [
    "from model.utility.default_parameters import default_params1 as params\n",
    "from model.signals.bond_signals import periodic_bond_creation, period_bond_creation_normal_dist"
   ]
  },
  {
   "cell_type": "code",
   "execution_count": 2,
   "id": "4d78004e",
   "metadata": {},
   "outputs": [
    {
     "data": {
      "text/html": [
       "<div>\n",
       "<style scoped>\n",
       "    .dataframe tbody tr th:only-of-type {\n",
       "        vertical-align: middle;\n",
       "    }\n",
       "\n",
       "    .dataframe tbody tr th {\n",
       "        vertical-align: top;\n",
       "    }\n",
       "\n",
       "    .dataframe thead th {\n",
       "        text-align: right;\n",
       "    }\n",
       "</style>\n",
       "<table border=\"1\" class=\"dataframe\">\n",
       "  <thead>\n",
       "    <tr style=\"text-align: right;\">\n",
       "      <th></th>\n",
       "      <th>start_days</th>\n",
       "      <th>bonds</th>\n",
       "    </tr>\n",
       "  </thead>\n",
       "  <tbody>\n",
       "    <tr>\n",
       "      <th>0</th>\n",
       "      <td>1</td>\n",
       "      <td>[OHMbond(total_amount=10000, expiration_durati...</td>\n",
       "    </tr>\n",
       "    <tr>\n",
       "      <th>1</th>\n",
       "      <td>26</td>\n",
       "      <td>[OHMbond(total_amount=10000, expiration_durati...</td>\n",
       "    </tr>\n",
       "    <tr>\n",
       "      <th>2</th>\n",
       "      <td>51</td>\n",
       "      <td>[OHMbond(total_amount=10000, expiration_durati...</td>\n",
       "    </tr>\n",
       "    <tr>\n",
       "      <th>3</th>\n",
       "      <td>76</td>\n",
       "      <td>[OHMbond(total_amount=10000, expiration_durati...</td>\n",
       "    </tr>\n",
       "  </tbody>\n",
       "</table>\n",
       "</div>"
      ],
      "text/plain": [
       "   start_days                                              bonds\n",
       "0           1  [OHMbond(total_amount=10000, expiration_durati...\n",
       "1          26  [OHMbond(total_amount=10000, expiration_durati...\n",
       "2          51  [OHMbond(total_amount=10000, expiration_durati...\n",
       "3          76  [OHMbond(total_amount=10000, expiration_durati..."
      ]
     },
     "execution_count": 2,
     "metadata": {},
     "output_type": "execute_result"
    }
   ],
   "source": [
    "periodic_bond_creation(25, [30, 60, 90], 10000, 100)"
   ]
  },
  {
   "cell_type": "code",
   "execution_count": 3,
   "id": "d91335dd",
   "metadata": {},
   "outputs": [
    {
     "data": {
      "text/html": [
       "<div>\n",
       "<style scoped>\n",
       "    .dataframe tbody tr th:only-of-type {\n",
       "        vertical-align: middle;\n",
       "    }\n",
       "\n",
       "    .dataframe tbody tr th {\n",
       "        vertical-align: top;\n",
       "    }\n",
       "\n",
       "    .dataframe thead th {\n",
       "        text-align: right;\n",
       "    }\n",
       "</style>\n",
       "<table border=\"1\" class=\"dataframe\">\n",
       "  <thead>\n",
       "    <tr style=\"text-align: right;\">\n",
       "      <th></th>\n",
       "      <th>start_days</th>\n",
       "      <th>bonds</th>\n",
       "    </tr>\n",
       "  </thead>\n",
       "  <tbody>\n",
       "    <tr>\n",
       "      <th>0</th>\n",
       "      <td>1</td>\n",
       "      <td>[OHMbond(total_amount=10441.75944699274, expir...</td>\n",
       "    </tr>\n",
       "    <tr>\n",
       "      <th>1</th>\n",
       "      <td>26</td>\n",
       "      <td>[OHMbond(total_amount=12160.518887852713, expi...</td>\n",
       "    </tr>\n",
       "    <tr>\n",
       "      <th>2</th>\n",
       "      <td>51</td>\n",
       "      <td>[OHMbond(total_amount=11375.605118833777, expi...</td>\n",
       "    </tr>\n",
       "    <tr>\n",
       "      <th>3</th>\n",
       "      <td>76</td>\n",
       "      <td>[OHMbond(total_amount=9959.027737335613, expir...</td>\n",
       "    </tr>\n",
       "  </tbody>\n",
       "</table>\n",
       "</div>"
      ],
      "text/plain": [
       "   start_days                                              bonds\n",
       "0           1  [OHMbond(total_amount=10441.75944699274, expir...\n",
       "1          26  [OHMbond(total_amount=12160.518887852713, expi...\n",
       "2          51  [OHMbond(total_amount=11375.605118833777, expi...\n",
       "3          76  [OHMbond(total_amount=9959.027737335613, expir..."
      ]
     },
     "execution_count": 3,
     "metadata": {},
     "output_type": "execute_result"
    }
   ],
   "source": [
    "period_bond_creation_normal_dist(25, [30, 60, 90], 10000, 1500, 100)"
   ]
  },
  {
   "cell_type": "code",
   "execution_count": 6,
   "id": "29aa51ee",
   "metadata": {},
   "outputs": [
    {
     "data": {
      "text/plain": [
       "[OHMbond(total_amount=1000000.0, expiration_duration=30, start_date=1),\n",
       " OHMbond(total_amount=1000000.0, expiration_duration=60, start_date=1),\n",
       " OHMbond(total_amount=1000000.0, expiration_duration=90, start_date=1)]"
      ]
     },
     "execution_count": 6,
     "metadata": {},
     "output_type": "execute_result"
    }
   ],
   "source": [
    "params['bond_create_schedule'][0]['bonds'].values[0]"
   ]
  },
  {
   "cell_type": "code",
   "execution_count": 7,
   "id": "0a8c4690",
   "metadata": {},
   "outputs": [],
   "source": [
    "import numpy as np"
   ]
  },
  {
   "cell_type": "code",
   "execution_count": 10,
   "id": "fdcf9d90",
   "metadata": {},
   "outputs": [
    {
     "data": {
      "text/plain": [
       "[[1.0809757034754377,\n",
       "  1.0822341898129137,\n",
       "  0.014894487621785135,\n",
       "  0.742839157537262,\n",
       "  1.7228210810900322],\n",
       " [1.5715978298019024,\n",
       "  0.12356007593186213,\n",
       "  0.9495426754126253,\n",
       "  1.5611657229162506,\n",
       "  1.4520709245633936]]"
      ]
     },
     "execution_count": 10,
     "metadata": {},
     "output_type": "execute_result"
    }
   ],
   "source": [
    "np.random.normal(1,1, (2, 5)).tolist()"
   ]
  },
  {
   "cell_type": "code",
   "execution_count": 12,
   "id": "3023f772",
   "metadata": {},
   "outputs": [
    {
     "data": {
      "text/plain": [
       "-0.2907182439133247"
      ]
     },
     "execution_count": 12,
     "metadata": {},
     "output_type": "execute_result"
    }
   ],
   "source": [
    "np.random.normal(1,1, (2, 5)).min()"
   ]
  },
  {
   "cell_type": "code",
   "execution_count": null,
   "id": "3db1c3f6",
   "metadata": {},
   "outputs": [],
   "source": []
  }
 ],
 "metadata": {
  "kernelspec": {
   "display_name": "Python 3 (ipykernel)",
   "language": "python",
   "name": "python3"
  },
  "language_info": {
   "codemirror_mode": {
    "name": "ipython",
    "version": 3
   },
   "file_extension": ".py",
   "mimetype": "text/x-python",
   "name": "python",
   "nbconvert_exporter": "python",
   "pygments_lexer": "ipython3",
   "version": "3.9.7"
  }
 },
 "nbformat": 4,
 "nbformat_minor": 5
}
