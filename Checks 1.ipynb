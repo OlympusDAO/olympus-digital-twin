{
 "cells": [
  {
   "cell_type": "code",
   "execution_count": 1,
   "id": "8cf6901a",
   "metadata": {},
   "outputs": [
    {
     "name": "stdout",
     "output_type": "stream",
     "text": [
      "\n",
      "                  ___________    ____\n",
      "  ________ __ ___/ / ____/   |  / __ \\\n",
      " / ___/ __` / __  / /   / /| | / / / /\n",
      "/ /__/ /_/ / /_/ / /___/ ___ |/ /_/ /\n",
      "\\___/\\__,_/\\__,_/\\____/_/  |_/_____/\n",
      "by cadCAD\n",
      "\n",
      "cadCAD Version: 0.4.28\n",
      "Execution Mode: local_proc\n",
      "Simulation Dimensions:\n",
      "Entire Simulation: (Models, Unique Timesteps, Params, Total Runs, Sub-States) = (1, 10, 12, 5, 24)\n",
      "     Simulation 0: (Timesteps, Params, Runs, Sub-States) = (10, 12, 5, 24)\n",
      "Execution Method: local_simulations\n",
      "Execution Mode: parallelized\n",
      "Total execution time: 0.49s\n"
     ]
    }
   ],
   "source": [
    "from model.types import MarketDemandSupply\n",
    "from model.run import load_config, run, post_processing\n",
    "import matplotlib.pyplot as plt\n",
    "from model.mechanism.amm_k import amm_k_mechanism\n",
    "from model.mechanism.treasury import liq_backing_mechanism,treasury_stables_mechanism,floating_supply_mechanism,liq_ohm_mechanism\n",
    "from model.policy.rbs_price import lower_target_policy,upper_target_policy\n",
    "\n",
    "params = {\"demand_factor\": [10],\n",
    "         \"supply_factor\": [10],\n",
    "         \"initial_reserves_volatile\":[17000000], # setting it as constant since in this simulation we don't use it at all.\n",
    "         \"reward_rate\":[0.000198], # flat reward rate; (1 + r) ^ 365 ~ 7.5%\n",
    "         \"max_liq_ratio\":[0.14375],  # LiquidityUSD : reservesUSD ratio --> 1:1 = 0.5\n",
    "         \"target_ma\":[30], # number of days\n",
    "         \"lower_wall\":[0.15],\n",
    "         \"upper_wall\":[0.15],\n",
    "         \"lower_cushion\":[.075],\n",
    "         \"upper_cushion\":[.075],\n",
    "          \"reinstate_window\": [30],\n",
    "          \"max_outflow_rate\": [0.05]\n",
    "         }\n",
    "\n",
    "\n",
    "initialstate = { # variable values borrowed from liquidity-olympus/simulation.ipynb\n",
    "            'supply':30000000,\n",
    "            \"liq_stables\": 21000000,\n",
    "            \"reserves_stables\":200000000,\n",
    "            \"reserves_volatile\":17000000,\n",
    "            \"price\":9,\n",
    "\n",
    "            \"market_demand_supply\": MarketDemandSupply(total_supply = 50,\n",
    "                                                   total_demand = 50),\n",
    "                                                   \n",
    "            # treasury policy\n",
    "            'target_liq_ratio_reached':False,\n",
    "            'reserves_in':0,\n",
    "            'supply':25000000,\n",
    "\n",
    "            # RBS related\n",
    "            'ma_target':9,\n",
    "            # market transaction variables\n",
    "            'ask_change_ohm':0,\n",
    "            'bid_change_ohm':0,\n",
    "            \"net_flow\": None\n",
    "            }\n",
    "# initialize parameters that are decided by other parameters\n",
    "initialstate['amm_k'] = amm_k_mechanism(initialstate)\n",
    "initialstate['price_history']=[initialstate['price']]\n",
    "\n",
    "initialstate['lb_target'] = initialstate['ma_target']\n",
    "initialstate['price_target']=initialstate['ma_target']\n",
    "\n",
    "initialstate['liq_ohm'] = liq_ohm_mechanism(initialstate['liq_stables'],initialstate['price'])\n",
    "initialstate['floating_supply'] = floating_supply_mechanism(initialstate['supply'],initialstate['liq_ohm'])\n",
    "\n",
    "\n",
    "\n",
    "initialstate['treasury_stables'] = treasury_stables_mechanism(initialstate['liq_stables'],initialstate['reserves_stables'])\n",
    "initialstate['liq_backing'] = liq_backing_mechanism(initialstate['treasury_stables'],params['initial_reserves_volatile'][0])\n",
    "initialstate['target_walls'] = [lower_target_policy(initialstate['price_target'], params['lower_wall'][0]),\n",
    "                                upper_target_policy(initialstate['price_target'], params['upper_wall'][0])]\n",
    "initialstate['target_cushions'] = [lower_target_policy(initialstate['price_target'], params['lower_cushion'][0]),\n",
    "                                    upper_target_policy(initialstate['price_target'], params['upper_cushion'][0])]\n",
    "initialstate['bid_counter'],initialstate['ask_counter'] = [0] * params[\"reinstate_window\"][0],[0]* params[\"reinstate_window\"][0]\n",
    "\n",
    "nrun = 5\n",
    "nstep = 10\n",
    "exp = load_config(nrun, params, initialstate, nstep)\n",
    "raw = run(exp)\n",
    "df = post_processing(raw)"
   ]
  },
  {
   "cell_type": "code",
   "execution_count": 2,
   "id": "be062e9c",
   "metadata": {},
   "outputs": [],
   "source": [
    "left = raw[raw[\"substep\"] == 1][['liq_stables', 'reserves_stables']].sum(axis=1)\n",
    "right = raw[raw[\"substep\"] == 1]['treasury_stables']\n",
    "\n",
    "assert (left == right).all()"
   ]
  },
  {
   "cell_type": "code",
   "execution_count": 3,
   "id": "e6d1f0dd",
   "metadata": {},
   "outputs": [],
   "source": [
    "left = raw[raw[\"substep\"] == 2][['liq_stables', 'reserves_stables', 'reserves_volatile']].sum(axis=1)\n",
    "right = raw[raw[\"substep\"] == 2]['liq_backing']\n",
    "\n",
    "assert (left == right).all()"
   ]
  },
  {
   "cell_type": "code",
   "execution_count": 4,
   "id": "fc3dc903",
   "metadata": {},
   "outputs": [],
   "source": [
    "left = raw[raw[\"substep\"] == 3]['price_history'].apply(lambda x: len(x))\n",
    "right = raw[raw[\"substep\"] == 3]['timestep'] + 1\n",
    "\n",
    "assert (left == right).all()"
   ]
  },
  {
   "cell_type": "code",
   "execution_count": 5,
   "id": "68d1406e",
   "metadata": {},
   "outputs": [],
   "source": [
    "sample = raw[raw[\"substep\"] == 4]\n",
    "\n",
    "# Check length\n",
    "assert (sample['bid_counter'].apply(lambda x: len(x)) == 30).all()\n",
    "\n",
    "# Check last value\n",
    "left = sample['bid_counter'].apply(lambda x: x[-1])\n",
    "right = sample[\"price\"] > sample['ma_target']\n",
    "\n",
    "assert (left == right).all()"
   ]
  },
  {
   "cell_type": "code",
   "execution_count": 7,
   "id": "df96fa04",
   "metadata": {},
   "outputs": [],
   "source": [
    "sample = raw[raw[\"substep\"] == 5]\n",
    "\n",
    "# Check length\n",
    "assert (sample['ask_counter'].apply(lambda x: len(x)) == 30).all()\n",
    "\n",
    "# Check last value\n",
    "left = sample['ask_counter'].apply(lambda x: x[-1])\n",
    "right = sample[\"price\"] < sample['price_target']\n",
    "\n",
    "assert (left == right).all()"
   ]
  },
  {
   "cell_type": "markdown",
   "id": "8650af96",
   "metadata": {},
   "source": [
    "Skipping check on 6 for now because I think there is an implementation question on whether this is the best way to calculate the moving average."
   ]
  },
  {
   "cell_type": "code",
   "execution_count": 8,
   "id": "b29913dc",
   "metadata": {},
   "outputs": [
    {
     "data": {
      "image/png": "[encoded data removed]",
      "text/plain": [
       "<Figure size 432x288 with 1 Axes>"
      ]
     },
     "metadata": {
      "needs_background": "light"
     },
     "output_type": "display_data"
    },
    {
     "data": {
      "image/png": "[encoded data removed]",
      "text/plain": [
       "<Figure size 432x288 with 1 Axes>"
      ]
     },
     "metadata": {
      "needs_background": "light"
     },
     "output_type": "display_data"
    }
   ],
   "source": [
    "sample = raw[raw[\"substep\"] == 6]\n",
    "sample['ma_target'].plot(kind='line')\n",
    "plt.show()\n",
    "sample['lb_target'].plot(kind='line')\n",
    "plt.show()"
   ]
  },
  {
   "cell_type": "code",
   "execution_count": 9,
   "id": "3ad6b56d",
   "metadata": {},
   "outputs": [],
   "source": [
    "sample = raw[raw[\"substep\"] == 7]\n",
    "\n",
    "left = sample[[\"lb_target\", \"ma_target\"]].apply(lambda x: max(x), axis=1)\n",
    "right = sample[\"price_target\"]\n",
    "\n",
    "assert (left == right).all()"
   ]
  },
  {
   "cell_type": "code",
   "execution_count": 10,
   "id": "57ab1939",
   "metadata": {},
   "outputs": [],
   "source": [
    "from math import isclose\n",
    "sample = raw[raw[\"substep\"] == 8]\n",
    "\n",
    "left = sample.apply(lambda x: [(1 - params[\"lower_wall\"][0]) * x[\"price_target\"],\n",
    "(1 + params[\"upper_wall\"][0]) * x[\"price_target\"]], axis=1)\n",
    "right = sample[\"target_walls\"]\n",
    "\n",
    "for i in range(len(right)):\n",
    "    assert isclose(left.iloc[i][0], right.iloc[i][0])\n",
    "    assert isclose(left.iloc[i][1], right.iloc[i][1])"
   ]
  },
  {
   "cell_type": "code",
   "execution_count": 11,
   "id": "70f4acc8",
   "metadata": {},
   "outputs": [],
   "source": [
    "sample = raw[raw[\"substep\"] == 9]\n",
    "\n",
    "left = sample.apply(lambda x: [(1 - params[\"lower_cushion\"][0]) * x[\"price_target\"],\n",
    "(1 + params[\"upper_cushion\"][0]) * x[\"price_target\"]], axis=1)\n",
    "right = sample[\"target_cushions\"]\n",
    "\n",
    "for i in range(len(right)):\n",
    "    assert isclose(left.iloc[i][0], right.iloc[i][0])\n",
    "    assert isclose(left.iloc[i][1], right.iloc[i][1])"
   ]
  },
  {
   "cell_type": "code",
   "execution_count": 12,
   "id": "522fe5cd",
   "metadata": {},
   "outputs": [],
   "source": [
    "sample = raw[raw[\"substep\"] == 9]\n",
    "left = (sample[\"supply\"] - sample[\"reserves_in\"] / sample[\"price\"] + sample[\"ask_change_ohm\"] - sample[\"bid_change_ohm\"]) * (1 + params[\"reward_rate\"][0])\n",
    "sample = raw[raw[\"substep\"] == 10]\n",
    "right = sample[\"supply\"]\n",
    "\n",
    "for i in range(len(right)):\n",
    "    assert isclose(left.iloc[i], right.iloc[i])"
   ]
  },
  {
   "cell_type": "code",
   "execution_count": 13,
   "id": "3fc51651",
   "metadata": {},
   "outputs": [
    {
     "data": {
      "text/plain": [
       "<AxesSubplot:>"
      ]
     },
     "execution_count": 13,
     "metadata": {},
     "output_type": "execute_result"
    },
    {
     "data": {
      "image/png": "[encoded data removed]",
      "text/plain": [
       "<Figure size 432x288 with 1 Axes>"
      ]
     },
     "metadata": {
      "needs_background": "light"
     },
     "output_type": "display_data"
    }
   ],
   "source": [
    "sample = raw[raw[\"substep\"] == 11]\n",
    "sample[\"reserves_in\"].plot(kind='line')"
   ]
  },
  {
   "cell_type": "code",
   "execution_count": 14,
   "id": "a36ec905",
   "metadata": {},
   "outputs": [],
   "source": [
    "sample = raw[raw[\"substep\"] == 12]\n",
    "assert (sample['amm_k'] == 4.900000e+13).all()"
   ]
  },
  {
   "cell_type": "code",
   "execution_count": null,
   "id": "82d83b71",
   "metadata": {},
   "outputs": [],
   "source": []
  }
 ],
 "metadata": {
  "kernelspec": {
   "display_name": "Python 3 (ipykernel)",
   "language": "python",
   "name": "python3"
  },
  "language_info": {
   "codemirror_mode": {
    "name": "ipython",
    "version": 3
   },
   "file_extension": ".py",
   "mimetype": "text/x-python",
   "name": "python",
   "nbconvert_exporter": "python",
   "pygments_lexer": "ipython3",
   "version": "3.9.12"
  }
 },
 "nbformat": 4,
 "nbformat_minor": 5
}
