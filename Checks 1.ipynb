{
 "cells": [
  {
   "cell_type": "code",
   "execution_count": 1,
   "id": "93875d9f",
   "metadata": {},
   "outputs": [
    {
     "name": "stdout",
     "output_type": "stream",
     "text": [
      "\n",
      "                  ___________    ____\n",
      "  ________ __ ___/ / ____/   |  / __ \\\n",
      " / ___/ __` / __  / /   / /| | / / / /\n",
      "/ /__/ /_/ / /_/ / /___/ ___ |/ /_/ /\n",
      "\\___/\\__,_/\\__,_/\\____/_/  |_/_____/\n",
      "by cadCAD\n",
      "\n",
      "cadCAD Version: 0.4.28\n",
      "Execution Mode: local_proc\n",
      "Simulation Dimensions:\n",
      "Entire Simulation: (Models, Unique Timesteps, Params, Total Runs, Sub-States) = (1, 10, 11, 5, 24)\n",
      "     Simulation 0: (Timesteps, Params, Runs, Sub-States) = (10, 11, 5, 24)\n",
      "Execution Method: local_simulations\n",
      "Execution Mode: parallelized\n",
      "Total execution time: 0.47s\n"
     ]
    }
   ],
   "source": [
    "from model.types import MarketDemandSupply\n",
    "from model.run import load_config, run, post_processing\n",
    "\n",
    "from model.mechanism.amm_k import amm_k_mechanism\n",
    "from model.mechanism.treasury import liq_backing_mechanism,treasury_stables_mechanism,floating_supply_mechanism,liq_ohm_mechanism\n",
    "from model.policy.rbs_price import lower_target_policy,upper_target_policy\n",
    "\n",
    "params = {\"demand_factor\": [10],\n",
    "         \"supply_factor\": [10],\n",
    "         \"initial_reserves_volatile\":[17000000], # setting it as constant since in this simulation we don't use it at all.\n",
    "         \"reward_rate\":[0.000198], # flat reward rate; (1 + r) ^ 365 ~ 7.5%\n",
    "         \"max_liq_ratio\":[0.14375],  # LiquidityUSD : reservesUSD ratio --> 1:1 = 0.5\n",
    "         \"target_ma\":[30], # number of days\n",
    "         \"lower_wall\":[0.15],\n",
    "         \"upper_wall\":[0.15],\n",
    "         \"lower_cushion\":[.075],\n",
    "         \"upper_cushion\":[.075],\n",
    "          \"reinstate_window\": [30]\n",
    "         }\n",
    "\n",
    "\n",
    "initialstate = { # variable values borrowed from liquidity-olympus/simulation.ipynb\n",
    "            'supply':30000000,\n",
    "            \"liq_stables\": 21000000,\n",
    "            \"reserves_stables\":200000000,\n",
    "            \"reserves_volatile\":17000000,\n",
    "            \"price\":9,\n",
    "\n",
    "            \"market_demand_supply\": MarketDemandSupply(total_supply = 50,\n",
    "                                                   total_demand = 50),\n",
    "                                                   \n",
    "            # treasury policy\n",
    "            'target_liq_ratio_reached':False,\n",
    "            'reserves_in':0,\n",
    "            'supply':25000000,\n",
    "\n",
    "            # RBS related\n",
    "            'ma_target':9,\n",
    "            # market transaction variables\n",
    "            'ask_change_ohm':0,\n",
    "            'bid_change_ohm':0,\n",
    "            \"net_flow\": None\n",
    "            }\n",
    "# initialize parameters that are decided by other parameters\n",
    "initialstate['amm_k'] = amm_k_mechanism(initialstate)\n",
    "initialstate['price_history']=[initialstate['price']]\n",
    "\n",
    "initialstate['lb_target'] = initialstate['ma_target']\n",
    "initialstate['price_target']=initialstate['ma_target']\n",
    "\n",
    "initialstate['liq_ohm'] = liq_ohm_mechanism(initialstate['liq_stables'],initialstate['price'])\n",
    "initialstate['floating_supply'] = floating_supply_mechanism(initialstate['supply'],initialstate['liq_ohm'])\n",
    "\n",
    "\n",
    "\n",
    "initialstate['treasury_stables'] = treasury_stables_mechanism(initialstate['liq_stables'],initialstate['reserves_stables'])\n",
    "initialstate['liq_backing'] = liq_backing_mechanism(initialstate['treasury_stables'],params['initial_reserves_volatile'][0])\n",
    "initialstate['target_walls'] = [lower_target_policy(initialstate['price_target'], params['lower_wall'][0]),\n",
    "                                upper_target_policy(initialstate['price_target'], params['upper_wall'][0])]\n",
    "initialstate['target_cushions'] = [lower_target_policy(initialstate['price_target'], params['lower_cushion'][0]),\n",
    "                                    upper_target_policy(initialstate['price_target'], params['upper_cushion'][0])]\n",
    "initialstate['bid_counter'],initialstate['ask_counter'] = [0] * params[\"reinstate_window\"][0],[0]* params[\"reinstate_window\"][0]\n",
    "\n",
    "nrun = 5\n",
    "nstep = 10\n",
    "exp = load_config(nrun, params, initialstate, nstep)\n",
    "raw = run(exp)\n",
    "df = post_processing(raw)"
   ]
  },
  {
   "cell_type": "code",
   "execution_count": 2,
   "id": "8f6e4e8f",
   "metadata": {},
   "outputs": [
    {
     "data": {
      "text/plain": [
       "Index(['supply', 'liq_stables', 'reserves_stables', 'reserves_volatile',\n",
       "       'price', 'market_demand_supply', 'target_liq_ratio_reached',\n",
       "       'reserves_in', 'ma_target', 'ask_change_ohm', 'bid_change_ohm',\n",
       "       'net_flow', 'amm_k', 'price_history', 'lb_target', 'price_target',\n",
       "       'liq_ohm', 'floating_supply', 'treasury_stables', 'liq_backing',\n",
       "       'target_walls', 'target_cushions', 'bid_counter', 'ask_counter',\n",
       "       'simulation', 'subset', 'run', 'substep', 'timestep'],\n",
       "      dtype='object')"
      ]
     },
     "execution_count": 2,
     "metadata": {},
     "output_type": "execute_result"
    }
   ],
   "source": [
    "raw.columns"
   ]
  },
  {
   "cell_type": "markdown",
   "id": "73cd527f",
   "metadata": {},
   "source": [
    "# Check Summary\n",
    "\n",
    "1. Changed s_liq_backing to use the state instead of parameters for reserves_volatile.\n",
    "2. Ordering needs to be changed of substeps\n",
    "3. Added in re-instate window parameter\n",
    "4. Initialized bid/ask counter based on re-instate window with 0. Was leading to an error before because the length of the array was only 1 all the way through.\n",
    "\n",
    "\n",
    "# Checks Questions\n",
    "\n",
    "1. Why is it price_target vs. ma_target for p_ask_counter? It's ma_target in the code, are you going off of the doc or something else?"
   ]
  },
  {
   "cell_type": "code",
   "execution_count": 3,
   "id": "6494937b",
   "metadata": {},
   "outputs": [],
   "source": [
    "left = raw[raw[\"substep\"] == 1][['liq_stables', 'reserves_stables']].sum(axis=1)\n",
    "right = raw[raw[\"substep\"] == 1]['treasury_stables']\n",
    "\n",
    "assert (left == right).all()"
   ]
  },
  {
   "cell_type": "code",
   "execution_count": 4,
   "id": "880bf1d0",
   "metadata": {},
   "outputs": [],
   "source": [
    "left = raw[raw[\"substep\"] == 2][['liq_stables', 'reserves_stables', 'reserves_volatile']].sum(axis=1)\n",
    "right = raw[raw[\"substep\"] == 2]['liq_backing']\n",
    "\n",
    "assert (left == right).all()"
   ]
  },
  {
   "cell_type": "code",
   "execution_count": 5,
   "id": "1024a07c",
   "metadata": {},
   "outputs": [],
   "source": [
    "left = raw[raw[\"substep\"] == 3]['price_history'].apply(lambda x: len(x))\n",
    "right = raw[raw[\"substep\"] == 3]['timestep'] + 1\n",
    "\n",
    "assert (left == right).all()"
   ]
  },
  {
   "cell_type": "code",
   "execution_count": 6,
   "id": "2d129995",
   "metadata": {},
   "outputs": [],
   "source": [
    "sample = raw[raw[\"substep\"] == 4]\n",
    "\n",
    "# Check length\n",
    "assert (sample['bid_counter'].apply(lambda x: len(x)) == 30).all()\n",
    "\n",
    "# Check last value\n",
    "left = sample['bid_counter'].apply(lambda x: x[-1])\n",
    "right = sample[\"price\"] > sample['ma_target']\n",
    "\n",
    "assert (left == right).all()"
   ]
  },
  {
   "cell_type": "code",
   "execution_count": 7,
   "id": "d992a8c1",
   "metadata": {},
   "outputs": [
    {
     "ename": "AssertionError",
     "evalue": "",
     "output_type": "error",
     "traceback": [
      "\u001b[0;31m---------------------------------------------------------------------------\u001b[0m",
      "\u001b[0;31mAssertionError\u001b[0m                            Traceback (most recent call last)",
      "\u001b[0;32m/var/folders/y0/fwkpk2ps087b_2qxvhjstrfr0000gn/T/ipykernel_92041/2835294994.py\u001b[0m in \u001b[0;36m<module>\u001b[0;34m\u001b[0m\n\u001b[1;32m      8\u001b[0m \u001b[0mright\u001b[0m \u001b[0;34m=\u001b[0m \u001b[0msample\u001b[0m\u001b[0;34m[\u001b[0m\u001b[0;34m\"price\"\u001b[0m\u001b[0;34m]\u001b[0m \u001b[0;34m<\u001b[0m \u001b[0msample\u001b[0m\u001b[0;34m[\u001b[0m\u001b[0;34m'ma_target'\u001b[0m\u001b[0;34m]\u001b[0m\u001b[0;34m\u001b[0m\u001b[0;34m\u001b[0m\u001b[0m\n\u001b[1;32m      9\u001b[0m \u001b[0;34m\u001b[0m\u001b[0m\n\u001b[0;32m---> 10\u001b[0;31m \u001b[0;32massert\u001b[0m \u001b[0;34m(\u001b[0m\u001b[0mleft\u001b[0m \u001b[0;34m==\u001b[0m \u001b[0mright\u001b[0m\u001b[0;34m)\u001b[0m\u001b[0;34m.\u001b[0m\u001b[0mall\u001b[0m\u001b[0;34m(\u001b[0m\u001b[0;34m)\u001b[0m\u001b[0;34m\u001b[0m\u001b[0;34m\u001b[0m\u001b[0m\n\u001b[0m",
      "\u001b[0;31mAssertionError\u001b[0m: "
     ]
    }
   ],
   "source": [
    "sample = raw[raw[\"substep\"] == 5]\n",
    "\n",
    "# Check length\n",
    "assert (sample['ask_counter'].apply(lambda x: len(x)) == 30).all()\n",
    "\n",
    "# Check last value\n",
    "left = sample['ask_counter'].apply(lambda x: x[-1])\n",
    "right = sample[\"price\"] < sample['ma_target']\n",
    "\n",
    "assert (left == right).all()"
   ]
  },
  {
   "cell_type": "code",
   "execution_count": 12,
   "id": "4814e8c9",
   "metadata": {},
   "outputs": [
    {
     "data": {
      "text/plain": [
       "5       9.0\n",
       "17     10.5\n",
       "29     10.5\n",
       "41     10.5\n",
       "53     10.5\n",
       "65     10.5\n",
       "77     10.5\n",
       "89     10.5\n",
       "101    10.5\n",
       "113    10.5\n",
       "126     9.0\n",
       "138    10.5\n",
       "150    10.5\n",
       "162    10.5\n",
       "174    10.5\n",
       "186    10.5\n",
       "198    10.5\n",
       "210    10.5\n",
       "222    10.5\n",
       "234    10.5\n",
       "247     9.0\n",
       "259    10.5\n",
       "271    10.5\n",
       "283    10.5\n",
       "295    10.5\n",
       "307    10.5\n",
       "319    10.5\n",
       "331    10.5\n",
       "343    10.5\n",
       "355    10.5\n",
       "368     9.0\n",
       "380    10.5\n",
       "392    10.5\n",
       "404    10.5\n",
       "416    10.5\n",
       "428    10.5\n",
       "440    10.5\n",
       "452    10.5\n",
       "464    10.5\n",
       "476    10.5\n",
       "489     9.0\n",
       "501    10.5\n",
       "513    10.5\n",
       "525    10.5\n",
       "537    10.5\n",
       "549    10.5\n",
       "561    10.5\n",
       "573    10.5\n",
       "585    10.5\n",
       "597    10.5\n",
       "Name: price_target, dtype: float64"
      ]
     },
     "execution_count": 12,
     "metadata": {},
     "output_type": "execute_result"
    }
   ],
   "source": [
    "sample[\"price_target\"]"
   ]
  },
  {
   "cell_type": "code",
   "execution_count": null,
   "id": "f3592280",
   "metadata": {},
   "outputs": [],
   "source": []
  }
 ],
 "metadata": {
  "kernelspec": {
   "display_name": "Python 3 (ipykernel)",
   "language": "python",
   "name": "python3"
  },
  "language_info": {
   "codemirror_mode": {
    "name": "ipython",
    "version": 3
   },
   "file_extension": ".py",
   "mimetype": "text/x-python",
   "name": "python",
   "nbconvert_exporter": "python",
   "pygments_lexer": "ipython3",
   "version": "3.9.12"
  }
 },
 "nbformat": 4,
 "nbformat_minor": 5
}
