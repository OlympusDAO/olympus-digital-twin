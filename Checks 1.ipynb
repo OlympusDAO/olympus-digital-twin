{
 "cells": [
  {
   "cell_type": "code",
   "execution_count": 1,
   "id": "11386877",
   "metadata": {},
   "outputs": [
    {
     "name": "stdout",
     "output_type": "stream",
     "text": [
      "\n",
      "                  ___________    ____\n",
      "  ________ __ ___/ / ____/   |  / __ \\\n",
      " / ___/ __` / __  / /   / /| | / / / /\n",
      "/ /__/ /_/ / /_/ / /___/ ___ |/ /_/ /\n",
      "\\___/\\__,_/\\__,_/\\____/_/  |_/_____/\n",
      "by cadCAD\n",
      "\n",
      "cadCAD Version: 0.4.28\n",
      "Execution Mode: local_proc\n",
      "Simulation Dimensions:\n",
      "Entire Simulation: (Models, Unique Timesteps, Params, Total Runs, Sub-States) = (1, 10, 11, 5, 24)\n",
      "     Simulation 0: (Timesteps, Params, Runs, Sub-States) = (10, 11, 5, 24)\n",
      "Execution Method: local_simulations\n",
      "Execution Mode: parallelized\n",
      "Total execution time: 0.49s\n"
     ]
    }
   ],
   "source": [
    "from model.types import MarketDemandSupply\n",
    "from model.run import load_config, run, post_processing\n",
    "import matplotlib.pyplot as plt\n",
    "from model.mechanism.amm_k import amm_k_mechanism\n",
    "from model.mechanism.treasury import liq_backing_mechanism,treasury_stables_mechanism,floating_supply_mechanism,liq_ohm_mechanism\n",
    "from model.policy.rbs_price import lower_target_policy,upper_target_policy\n",
    "\n",
    "params = {\"demand_factor\": [10],\n",
    "         \"supply_factor\": [10],\n",
    "         \"initial_reserves_volatile\":[17000000], # setting it as constant since in this simulation we don't use it at all.\n",
    "         \"reward_rate\":[0.000198], # flat reward rate; (1 + r) ^ 365 ~ 7.5%\n",
    "         \"max_liq_ratio\":[0.14375],  # LiquidityUSD : reservesUSD ratio --> 1:1 = 0.5\n",
    "         \"target_ma\":[30], # number of days\n",
    "         \"lower_wall\":[0.15],\n",
    "         \"upper_wall\":[0.15],\n",
    "         \"lower_cushion\":[.075],\n",
    "         \"upper_cushion\":[.075],\n",
    "          \"reinstate_window\": [30]\n",
    "         }\n",
    "\n",
    "\n",
    "initialstate = { # variable values borrowed from liquidity-olympus/simulation.ipynb\n",
    "            'supply':30000000,\n",
    "            \"liq_stables\": 21000000,\n",
    "            \"reserves_stables\":200000000,\n",
    "            \"reserves_volatile\":17000000,\n",
    "            \"price\":9,\n",
    "\n",
    "            \"market_demand_supply\": MarketDemandSupply(total_supply = 50,\n",
    "                                                   total_demand = 50),\n",
    "                                                   \n",
    "            # treasury policy\n",
    "            'target_liq_ratio_reached':False,\n",
    "            'reserves_in':0,\n",
    "            'supply':25000000,\n",
    "\n",
    "            # RBS related\n",
    "            'ma_target':9,\n",
    "            # market transaction variables\n",
    "            'ask_change_ohm':0,\n",
    "            'bid_change_ohm':0,\n",
    "            \"net_flow\": None\n",
    "            }\n",
    "# initialize parameters that are decided by other parameters\n",
    "initialstate['amm_k'] = amm_k_mechanism(initialstate)\n",
    "initialstate['price_history']=[initialstate['price']]\n",
    "\n",
    "initialstate['lb_target'] = initialstate['ma_target']\n",
    "initialstate['price_target']=initialstate['ma_target']\n",
    "\n",
    "initialstate['liq_ohm'] = liq_ohm_mechanism(initialstate['liq_stables'],initialstate['price'])\n",
    "initialstate['floating_supply'] = floating_supply_mechanism(initialstate['supply'],initialstate['liq_ohm'])\n",
    "\n",
    "\n",
    "\n",
    "initialstate['treasury_stables'] = treasury_stables_mechanism(initialstate['liq_stables'],initialstate['reserves_stables'])\n",
    "initialstate['liq_backing'] = liq_backing_mechanism(initialstate['treasury_stables'],params['initial_reserves_volatile'][0])\n",
    "initialstate['target_walls'] = [lower_target_policy(initialstate['price_target'], params['lower_wall'][0]),\n",
    "                                upper_target_policy(initialstate['price_target'], params['upper_wall'][0])]\n",
    "initialstate['target_cushions'] = [lower_target_policy(initialstate['price_target'], params['lower_cushion'][0]),\n",
    "                                    upper_target_policy(initialstate['price_target'], params['upper_cushion'][0])]\n",
    "initialstate['bid_counter'],initialstate['ask_counter'] = [0] * params[\"reinstate_window\"][0],[0]* params[\"reinstate_window\"][0]\n",
    "\n",
    "nrun = 5\n",
    "nstep = 10\n",
    "exp = load_config(nrun, params, initialstate, nstep)\n",
    "raw = run(exp)\n",
    "df = post_processing(raw)"
   ]
  },
  {
   "cell_type": "code",
   "execution_count": 2,
   "id": "61b0ecb1",
   "metadata": {},
   "outputs": [
    {
     "data": {
      "text/plain": [
       "Index(['supply', 'liq_stables', 'reserves_stables', 'reserves_volatile',\n",
       "       'price', 'market_demand_supply', 'target_liq_ratio_reached',\n",
       "       'reserves_in', 'ma_target', 'ask_change_ohm', 'bid_change_ohm',\n",
       "       'net_flow', 'amm_k', 'price_history', 'lb_target', 'price_target',\n",
       "       'liq_ohm', 'floating_supply', 'treasury_stables', 'liq_backing',\n",
       "       'target_walls', 'target_cushions', 'bid_counter', 'ask_counter',\n",
       "       'simulation', 'subset', 'run', 'substep', 'timestep'],\n",
       "      dtype='object')"
      ]
     },
     "execution_count": 2,
     "metadata": {},
     "output_type": "execute_result"
    }
   ],
   "source": [
    "raw.columns"
   ]
  },
  {
   "cell_type": "markdown",
   "id": "182c973e",
   "metadata": {},
   "source": [
    "# Check Summary\n",
    "\n",
    "1. Changed s_liq_backing to use the state instead of parameters for reserves_volatile.\n",
    "2. Ordering needs to be changed of substeps, I will follow up on this.\n",
    "3. Added in re-instate window parameter\n",
    "4. Initialized bid/ask counter based on re-instate window with 0. Was leading to an error before because the length of the array was only 1 all the way through.\n",
    "5. I realize the moving average issue was coming from their end on the code I think. I'll leave it for now but we may want to come up with a better way than heavyily weighting at index 1.\n",
    "6. Updated the lb target to be the minimum of lb target and supply, and check to make sure it is at least 0.\n",
    "\n",
    "\n",
    "# Checks Questions\n",
    "\n",
    "1. Why is it price_target vs. ma_target for p_ask_counter? It's ma_target in the code, are you going off of the doc or something else?\n",
    "2. Why did you take out the demand_update_block in psubs?"
   ]
  },
  {
   "cell_type": "code",
   "execution_count": 3,
   "id": "62f3152b",
   "metadata": {},
   "outputs": [],
   "source": [
    "left = raw[raw[\"substep\"] == 1][['liq_stables', 'reserves_stables']].sum(axis=1)\n",
    "right = raw[raw[\"substep\"] == 1]['treasury_stables']\n",
    "\n",
    "assert (left == right).all()"
   ]
  },
  {
   "cell_type": "code",
   "execution_count": 4,
   "id": "1a138c6e",
   "metadata": {},
   "outputs": [],
   "source": [
    "left = raw[raw[\"substep\"] == 2][['liq_stables', 'reserves_stables', 'reserves_volatile']].sum(axis=1)\n",
    "right = raw[raw[\"substep\"] == 2]['liq_backing']\n",
    "\n",
    "assert (left == right).all()"
   ]
  },
  {
   "cell_type": "code",
   "execution_count": 5,
   "id": "8f07fc04",
   "metadata": {},
   "outputs": [],
   "source": [
    "left = raw[raw[\"substep\"] == 3]['price_history'].apply(lambda x: len(x))\n",
    "right = raw[raw[\"substep\"] == 3]['timestep'] + 1\n",
    "\n",
    "assert (left == right).all()"
   ]
  },
  {
   "cell_type": "code",
   "execution_count": 6,
   "id": "ea235717",
   "metadata": {},
   "outputs": [],
   "source": [
    "sample = raw[raw[\"substep\"] == 4]\n",
    "\n",
    "# Check length\n",
    "assert (sample['bid_counter'].apply(lambda x: len(x)) == 30).all()\n",
    "\n",
    "# Check last value\n",
    "left = sample['bid_counter'].apply(lambda x: x[-1])\n",
    "right = sample[\"price\"] > sample['ma_target']\n",
    "\n",
    "assert (left == right).all()"
   ]
  },
  {
   "cell_type": "code",
   "execution_count": 7,
   "id": "a4116ee7",
   "metadata": {},
   "outputs": [
    {
     "ename": "AssertionError",
     "evalue": "",
     "output_type": "error",
     "traceback": [
      "\u001b[0;31m---------------------------------------------------------------------------\u001b[0m",
      "\u001b[0;31mAssertionError\u001b[0m                            Traceback (most recent call last)",
      "\u001b[0;32m/var/folders/y0/fwkpk2ps087b_2qxvhjstrfr0000gn/T/ipykernel_92708/2835294994.py\u001b[0m in \u001b[0;36m<module>\u001b[0;34m\u001b[0m\n\u001b[1;32m      8\u001b[0m \u001b[0mright\u001b[0m \u001b[0;34m=\u001b[0m \u001b[0msample\u001b[0m\u001b[0;34m[\u001b[0m\u001b[0;34m\"price\"\u001b[0m\u001b[0;34m]\u001b[0m \u001b[0;34m<\u001b[0m \u001b[0msample\u001b[0m\u001b[0;34m[\u001b[0m\u001b[0;34m'ma_target'\u001b[0m\u001b[0;34m]\u001b[0m\u001b[0;34m\u001b[0m\u001b[0;34m\u001b[0m\u001b[0m\n\u001b[1;32m      9\u001b[0m \u001b[0;34m\u001b[0m\u001b[0m\n\u001b[0;32m---> 10\u001b[0;31m \u001b[0;32massert\u001b[0m \u001b[0;34m(\u001b[0m\u001b[0mleft\u001b[0m \u001b[0;34m==\u001b[0m \u001b[0mright\u001b[0m\u001b[0;34m)\u001b[0m\u001b[0;34m.\u001b[0m\u001b[0mall\u001b[0m\u001b[0;34m(\u001b[0m\u001b[0;34m)\u001b[0m\u001b[0;34m\u001b[0m\u001b[0;34m\u001b[0m\u001b[0m\n\u001b[0m",
      "\u001b[0;31mAssertionError\u001b[0m: "
     ]
    }
   ],
   "source": [
    "sample = raw[raw[\"substep\"] == 5]\n",
    "\n",
    "# Check length\n",
    "assert (sample['ask_counter'].apply(lambda x: len(x)) == 30).all()\n",
    "\n",
    "# Check last value\n",
    "left = sample['ask_counter'].apply(lambda x: x[-1])\n",
    "right = sample[\"price\"] < sample['ma_target']\n",
    "\n",
    "assert (left == right).all()"
   ]
  },
  {
   "cell_type": "markdown",
   "id": "726b01ca",
   "metadata": {},
   "source": [
    "Skipping check on 6 for now because I think there is an implementation question on whether this is the best way to calculate the moving average."
   ]
  },
  {
   "cell_type": "code",
   "execution_count": 8,
   "id": "f2a6062f",
   "metadata": {},
   "outputs": [
    {
     "data": {
      "image/png": "[encoded data removed]",
      "text/plain": [
       "<Figure size 432x288 with 1 Axes>"
      ]
     },
     "metadata": {
      "needs_background": "light"
     },
     "output_type": "display_data"
    },
    {
     "data": {
      "image/png": "[encoded data removed]",
      "text/plain": [
       "<Figure size 432x288 with 1 Axes>"
      ]
     },
     "metadata": {
      "needs_background": "light"
     },
     "output_type": "display_data"
    }
   ],
   "source": [
    "sample = raw[raw[\"substep\"] == 6]\n",
    "sample['ma_target'].plot(kind='line')\n",
    "plt.show()\n",
    "sample['lb_target'].plot(kind='line')\n",
    "plt.show()"
   ]
  },
  {
   "cell_type": "code",
   "execution_count": 9,
   "id": "84dd771a",
   "metadata": {},
   "outputs": [],
   "source": [
    "sample = raw[raw[\"substep\"] == 7]\n",
    "\n",
    "left = sample[[\"lb_target\", \"ma_target\"]].apply(lambda x: max(x), axis=1)\n",
    "right = sample[\"price_target\"]\n",
    "\n",
    "assert (left == right).all()"
   ]
  },
  {
   "cell_type": "code",
   "execution_count": 10,
   "id": "3d7793a9",
   "metadata": {},
   "outputs": [],
   "source": [
    "from math import isclose\n",
    "sample = raw[raw[\"substep\"] == 8]\n",
    "\n",
    "left = sample.apply(lambda x: [(1 - params[\"lower_wall\"][0]) * x[\"price_target\"],\n",
    "(1 + params[\"upper_wall\"][0]) * x[\"price_target\"]], axis=1)\n",
    "right = sample[\"target_walls\"]\n",
    "\n",
    "for i in range(len(right)):\n",
    "    assert isclose(left.iloc[i][0], right.iloc[i][0])\n",
    "    assert isclose(left.iloc[i][1], right.iloc[i][1])"
   ]
  },
  {
   "cell_type": "code",
   "execution_count": 14,
   "id": "44b1636d",
   "metadata": {},
   "outputs": [],
   "source": [
    "sample = raw[raw[\"substep\"] == 9]\n",
    "\n",
    "left = sample.apply(lambda x: [(1 - params[\"lower_cushion\"][0]) * x[\"price_target\"],\n",
    "(1 + params[\"upper_cushion\"][0]) * x[\"price_target\"]], axis=1)\n",
    "right = sample[\"target_cushions\"]\n",
    "\n",
    "for i in range(len(right)):\n",
    "    assert isclose(left.iloc[i][0], right.iloc[i][0])\n",
    "    assert isclose(left.iloc[i][1], right.iloc[i][1])"
   ]
  },
  {
   "cell_type": "code",
   "execution_count": 30,
   "id": "c0ac0d0e",
   "metadata": {},
   "outputs": [],
   "source": [
    "sample = raw[raw[\"substep\"] == 9]\n",
    "left = (sample[\"supply\"] - sample[\"reserves_in\"] / sample[\"price\"] + sample[\"ask_change_ohm\"] - sample[\"bid_change_ohm\"]) * (1 + params[\"reward_rate\"][0])\n",
    "sample = raw[raw[\"substep\"] == 10]\n",
    "right = sample[\"supply\"]\n",
    "\n",
    "for i in range(len(right)):\n",
    "    assert isclose(left.iloc[i], right.iloc[i])"
   ]
  },
  {
   "cell_type": "code",
   "execution_count": null,
   "id": "23be6921",
   "metadata": {},
   "outputs": [],
   "source": []
  }
 ],
 "metadata": {
  "kernelspec": {
   "display_name": "Python 3 (ipykernel)",
   "language": "python",
   "name": "python3"
  },
  "language_info": {
   "codemirror_mode": {
    "name": "ipython",
    "version": 3
   },
   "file_extension": ".py",
   "mimetype": "text/x-python",
   "name": "python",
   "nbconvert_exporter": "python",
   "pygments_lexer": "ipython3",
   "version": "3.9.12"
  }
 },
 "nbformat": 4,
 "nbformat_minor": 5
}
