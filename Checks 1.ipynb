{
 "cells": [
  {
   "cell_type": "code",
   "execution_count": 1,
   "id": "a89a2705",
   "metadata": {},
   "outputs": [
    {
     "name": "stdout",
     "output_type": "stream",
     "text": [
      "\n",
      "                  ___________    ____\n",
      "  ________ __ ___/ / ____/   |  / __ \\\n",
      " / ___/ __` / __  / /   / /| | / / / /\n",
      "/ /__/ /_/ / /_/ / /___/ ___ |/ /_/ /\n",
      "\\___/\\__,_/\\__,_/\\____/_/  |_/_____/\n",
      "by cadCAD\n",
      "\n",
      "cadCAD Version: 0.4.28\n",
      "Execution Mode: local_proc\n",
      "Simulation Dimensions:\n",
      "Entire Simulation: (Models, Unique Timesteps, Params, Total Runs, Sub-States) = (1, 10, 10, 5, 24)\n",
      "     Simulation 0: (Timesteps, Params, Runs, Sub-States) = (10, 10, 5, 24)\n",
      "Execution Method: local_simulations\n",
      "Execution Mode: parallelized\n",
      "Total execution time: 0.42s\n"
     ]
    }
   ],
   "source": [
    "from model.types import MarketDemandSupply\n",
    "from model.run import load_config, run, post_processing\n",
    "\n",
    "from model.mechanism.amm_k import amm_k_mechanism\n",
    "from model.mechanism.treasury import liq_backing_mechanism,treasury_stables_mechanism,floating_supply_mechanism,liq_ohm_mechanism\n",
    "from model.policy.rbs_price import lower_target_policy,upper_target_policy\n",
    "initialstate = { # variable values borrowed from liquidity-olympus/simulation.ipynb\n",
    "            'supply':30000000,\n",
    "            \"liq_stables\": 21000000,\n",
    "            \"reserves_stables\":200000000,\n",
    "            \"reserves_volatile\":17000000,\n",
    "            \"price\":9,\n",
    "\n",
    "            \"market_demand_supply\": MarketDemandSupply(total_supply = 50,\n",
    "                                                   total_demand = 50),\n",
    "                                                   \n",
    "            # treasury policy\n",
    "            'target_liq_ratio_reached':False,\n",
    "            'reserves_in':0,\n",
    "            'supply':25000000,\n",
    "\n",
    "            # RBS related\n",
    "            'ma_target':9,\n",
    "            # market transaction variables\n",
    "            'ask_change_ohm':0,\n",
    "            'bid_change_ohm':0,\n",
    "            \"net_flow\": None\n",
    "            }\n",
    "# initialize parameters that are decided by other parameters\n",
    "initialstate['amm_k'] = amm_k_mechanism(initialstate)\n",
    "initialstate['price_history']=[initialstate['price']]\n",
    "\n",
    "initialstate['lb_target'] = initialstate['ma_target']\n",
    "initialstate['price_target']=initialstate['ma_target']\n",
    "\n",
    "initialstate['liq_ohm'] = liq_ohm_mechanism(initialstate['liq_stables'],initialstate['price'])\n",
    "initialstate['floating_supply'] = floating_supply_mechanism(initialstate['supply'],initialstate['liq_ohm'])\n",
    "\n",
    "params = {\"demand_factor\": [10],\n",
    "         \"supply_factor\": [10],\n",
    "         \"initial_reserves_volatile\":[17000000], # setting it as constant since in this simulation we don't use it at all.\n",
    "         \"reward_rate\":[0.000198], # flat reward rate; (1 + r) ^ 365 ~ 7.5%\n",
    "         \"max_liq_ratio\":[0.14375],  # LiquidityUSD : reservesUSD ratio --> 1:1 = 0.5\n",
    "         \"target_ma\":[30], # number of days\n",
    "         \"lower_wall\":[0.15],\n",
    "         \"upper_wall\":[0.15],\n",
    "         \"lower_cushion\":[.075],\n",
    "         \"upper_cushion\":[.075],\n",
    "         }\n",
    "\n",
    "initialstate['treasury_stables'] = treasury_stables_mechanism(initialstate['liq_stables'],initialstate['reserves_stables'])\n",
    "initialstate['liq_backing'] = liq_backing_mechanism(initialstate['treasury_stables'],params['initial_reserves_volatile'][0])\n",
    "initialstate['target_walls'] = [lower_target_policy(initialstate['price_target'], params['lower_wall'][0]),\n",
    "                                upper_target_policy(initialstate['price_target'], params['upper_wall'][0])]\n",
    "initialstate['target_cushions'] = [lower_target_policy(initialstate['price_target'], params['lower_cushion'][0]),\n",
    "                                    upper_target_policy(initialstate['price_target'], params['upper_cushion'][0])]\n",
    "initialstate['bid_counter'],initialstate['ask_counter'] = [],[]\n",
    "\n",
    "nrun = 5\n",
    "nstep = 10\n",
    "exp = load_config(nrun, params, initialstate, nstep)\n",
    "raw = run(exp)\n",
    "df = post_processing(raw)"
   ]
  },
  {
   "cell_type": "code",
   "execution_count": 2,
   "id": "64d22217",
   "metadata": {},
   "outputs": [
    {
     "data": {
      "text/plain": [
       "Index(['supply', 'liq_stables', 'reserves_stables', 'reserves_volatile',\n",
       "       'price', 'market_demand_supply', 'target_liq_ratio_reached',\n",
       "       'reserves_in', 'ma_target', 'ask_change_ohm', 'bid_change_ohm',\n",
       "       'net_flow', 'amm_k', 'price_history', 'lb_target', 'price_target',\n",
       "       'liq_ohm', 'floating_supply', 'treasury_stables', 'liq_backing',\n",
       "       'target_walls', 'target_cushions', 'bid_counter', 'ask_counter',\n",
       "       'simulation', 'subset', 'run', 'substep', 'timestep'],\n",
       "      dtype='object')"
      ]
     },
     "execution_count": 2,
     "metadata": {},
     "output_type": "execute_result"
    }
   ],
   "source": [
    "raw.columns"
   ]
  },
  {
   "cell_type": "markdown",
   "id": "163233be",
   "metadata": {},
   "source": [
    "# Check Summary\n",
    "\n",
    "1. Changed s_liq_backing to use the state instead of parameters for reserves_volatile.\n",
    "2. Ordering needs to be changed of substeps"
   ]
  },
  {
   "cell_type": "code",
   "execution_count": 3,
   "id": "6c671830",
   "metadata": {},
   "outputs": [],
   "source": [
    "left = raw[raw[\"substep\"] == 1][['liq_stables', 'reserves_stables']].sum(axis=1)\n",
    "right = raw[raw[\"substep\"] == 1]['treasury_stables']\n",
    "\n",
    "assert (left == right).all()"
   ]
  },
  {
   "cell_type": "code",
   "execution_count": 4,
   "id": "4f767968",
   "metadata": {},
   "outputs": [],
   "source": [
    "left = raw[raw[\"substep\"] == 2][['liq_stables', 'reserves_stables', 'reserves_volatile']].sum(axis=1)\n",
    "right = raw[raw[\"substep\"] == 2]['liq_backing']\n",
    "\n",
    "assert (left == right).all()"
   ]
  },
  {
   "cell_type": "code",
   "execution_count": 5,
   "id": "e34732ee",
   "metadata": {},
   "outputs": [],
   "source": [
    "left = raw[raw[\"substep\"] == 3]['price_history'].apply(lambda x: len(x))\n",
    "right = raw[raw[\"substep\"] == 3]['timestep'] + 1\n",
    "\n",
    "assert (left == right).all()"
   ]
  },
  {
   "cell_type": "code",
   "execution_count": 6,
   "id": "ae790caf",
   "metadata": {},
   "outputs": [
    {
     "data": {
      "text/plain": [
       "0       []\n",
       "1       []\n",
       "2       []\n",
       "3       []\n",
       "4      [0]\n",
       "      ... \n",
       "600    [0]\n",
       "601    [0]\n",
       "602    [0]\n",
       "603    [0]\n",
       "604    [0]\n",
       "Name: bid_counter, Length: 605, dtype: object"
      ]
     },
     "execution_count": 6,
     "metadata": {},
     "output_type": "execute_result"
    }
   ],
   "source": [
    "raw['bid_counter']"
   ]
  },
  {
   "cell_type": "code",
   "execution_count": 7,
   "id": "d384028f",
   "metadata": {},
   "outputs": [
    {
     "data": {
      "text/plain": [
       "0       []\n",
       "1       []\n",
       "2       []\n",
       "3       []\n",
       "4       []\n",
       "      ... \n",
       "600    [1]\n",
       "601    [1]\n",
       "602    [1]\n",
       "603    [1]\n",
       "604    [1]\n",
       "Name: ask_counter, Length: 605, dtype: object"
      ]
     },
     "execution_count": 7,
     "metadata": {},
     "output_type": "execute_result"
    }
   ],
   "source": [
    "raw['ask_counter']"
   ]
  },
  {
   "cell_type": "code",
   "execution_count": null,
   "id": "92247200",
   "metadata": {},
   "outputs": [],
   "source": []
  }
 ],
 "metadata": {
  "kernelspec": {
   "display_name": "Python 3 (ipykernel)",
   "language": "python",
   "name": "python3"
  },
  "language_info": {
   "codemirror_mode": {
    "name": "ipython",
    "version": 3
   },
   "file_extension": ".py",
   "mimetype": "text/x-python",
   "name": "python",
   "nbconvert_exporter": "python",
   "pygments_lexer": "ipython3",
   "version": "3.9.12"
  }
 },
 "nbformat": 4,
 "nbformat_minor": 5
}
