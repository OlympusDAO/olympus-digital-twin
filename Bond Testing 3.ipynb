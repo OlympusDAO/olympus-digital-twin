{
 "cells": [
  {
   "attachments": {},
   "cell_type": "markdown",
   "id": "8193664d",
   "metadata": {},
   "source": [
    "Notebook adapted from bond testing 2.ipynb\n",
    "\n",
    "Major changes:\n",
    "- now the mechanism has added the interaction of OHM bond with netflow (added new variables: net_flow_bondsale and net_flow_bondexpire), which is controlled by the percentage parameter\n",
    "    - to check: is the ohm2stable function used correctly?\n",
    "- added new variables to track the burning and minting: cum_ohm_burned_frombond and cum_ohm_minted_forbond\n",
    "- analysis added the price change of ohm because of its interaction with netflow\n",
    "\n",
    "Minor changes: \n",
    "\n",
    "TO-DO:\n",
    "- the supply...how to model its relation with ohm bond?"
   ]
  },
  {
   "cell_type": "code",
   "execution_count": 1,
   "id": "0b231926",
   "metadata": {},
   "outputs": [],
   "source": [
    "# Import a set of default parameters\n",
    "from IPython.display import display\n",
    "from model.utility.default_parameters import default_params1 as params\n",
    "# Import a default initial state\n",
    "from model.utility.default_initial_state import default_initial_state1 as initial_state\n",
    "# Fill in the initial state\n",
    "from model.utility.initial_state_functions import fill_in_initial_state\n",
    "initial_state = fill_in_initial_state(initial_state, params)\n",
    "from model.utility.par_sweep import create_par_sweep\n",
    "# Parameter sweep\n",
    "# sweep_dict = {'demand_factor':[0.007],'supply_factor':[-0.007],'bond_annual_discount_rate':[.01, .08]}\n",
    "# params.update(create_par_sweep(sweep_dict))"
   ]
  },
  {
   "cell_type": "code",
   "execution_count": 2,
   "id": "4df023c0",
   "metadata": {},
   "outputs": [
    {
     "data": {
      "text/plain": [
       "{'demand_factor': [0.07],\n",
       " 'supply_factor': [-0.07],\n",
       " 'initial_reserves_volatile': [25000000],\n",
       " 'max_liq_ratio': [0.14375],\n",
       " 'target_ma': [30],\n",
       " 'lower_wall': [0.15],\n",
       " 'upper_wall': [0.15],\n",
       " 'lower_cushion': [0.075],\n",
       " 'upper_cushion': [0.075],\n",
       " 'reinstate_window': [30],\n",
       " 'max_outflow_rate': [0.05],\n",
       " 'reward_rate_policy': ['Flat'],\n",
       " 'ask_factor': [0.095],\n",
       " 'bid_factor': [0.095],\n",
       " 'cushion_factor': [0.3075],\n",
       " 'min_counter_reinstate': [6],\n",
       " 'with_reinstate_window': ['Yes'],\n",
       " 'bond_create_schedule': [   start_days                                              bonds\n",
       "  0           1  [OHMbond(total_amount=1000000.0, expiration_du...],\n",
       " 'bond_annual_discount_rate': [0.04],\n",
       " 'ohm_bond_to_netflow_ratio': [0.5]}"
      ]
     },
     "execution_count": 2,
     "metadata": {},
     "output_type": "execute_result"
    }
   ],
   "source": [
    "params"
   ]
  },
  {
   "cell_type": "code",
   "execution_count": 3,
   "id": "d5d670a2",
   "metadata": {},
   "outputs": [
    {
     "name": "stdout",
     "output_type": "stream",
     "text": [
      "\n",
      "                  ___________    ____\n",
      "  ________ __ ___/ / ____/   |  / __ \\\n",
      " / ___/ __` / __  / /   / /| | / / / /\n",
      "/ /__/ /_/ / /_/ / /___/ ___ |/ /_/ /\n",
      "\\___/\\__,_/\\__,_/\\____/_/  |_/_____/\n",
      "by cadCAD\n",
      "\n",
      "cadCAD Version: 0.4.28\n",
      "Execution Mode: local_proc\n",
      "Simulation Dimensions:\n",
      "Entire Simulation: (Models, Unique Timesteps, Params, Total Runs, Sub-States) = (1, 100, 20, 2, 67)\n",
      "     Simulation 0: (Timesteps, Params, Runs, Sub-States) = (100, 20, 2, 67)\n",
      "Execution Method: local_simulations\n",
      "Execution Mode: parallelized\n"
     ]
    },
    {
     "ename": "AttributeError",
     "evalue": "'set' object has no attribute 'keys'",
     "output_type": "error",
     "traceback": [
      "\u001b[0;31m---------------------------------------------------------------------------\u001b[0m",
      "\u001b[0;31mRemoteTraceback\u001b[0m                           Traceback (most recent call last)",
      "\u001b[0;31mRemoteTraceback\u001b[0m: \n\"\"\"\nTraceback (most recent call last):\n  File \"/home/zhiwei/anaconda3/envs/cadcad/lib/python3.9/site-packages/multiprocess/pool.py\", line 125, in worker\n    result = (True, func(*args, **kwds))\n  File \"/home/zhiwei/anaconda3/envs/cadcad/lib/python3.9/site-packages/multiprocess/pool.py\", line 48, in mapstar\n    return list(map(*args))\n  File \"/home/zhiwei/anaconda3/envs/cadcad/lib/python3.9/site-packages/pathos/helpers/mp_helper.py\", line 15, in <lambda>\n    func = lambda args: f(*args)\n  File \"/home/zhiwei/anaconda3/envs/cadcad/lib/python3.9/site-packages/cadCAD/engine/execution.py\", line 91, in <lambda>\n    lambda t: t[0](t[1], t[2], t[3], t[4], t[5], t[6], t[7], t[8], t[9], configured_n), params\n  File \"/home/zhiwei/anaconda3/envs/cadcad/lib/python3.9/site-packages/cadCAD/engine/simulation.py\", line 245, in simulation\n    [execute_run(sweep_dict, states_list, configs, env_processes, time_seq, run)]\n  File \"/home/zhiwei/anaconda3/envs/cadcad/lib/python3.9/site-packages/cadCAD/engine/simulation.py\", line 237, in execute_run\n    first_timestep_per_run: List[Dict[str, Any]] = self.run_pipeline(\n  File \"/home/zhiwei/anaconda3/envs/cadcad/lib/python3.9/site-packages/cadCAD/engine/simulation.py\", line 199, in run_pipeline\n    pipe_run: List[Dict[str, Any]] = self.state_update_pipeline(\n  File \"/home/zhiwei/anaconda3/envs/cadcad/lib/python3.9/site-packages/cadCAD/engine/simulation.py\", line 174, in state_update_pipeline\n    states_list: List[Dict[str, Any]] = self.partial_state_update(\n  File \"/home/zhiwei/anaconda3/envs/cadcad/lib/python3.9/site-packages/cadCAD/engine/simulation.py\", line 120, in partial_state_update\n    self.get_policy_input(sweep_dict, sub_step, sH, last_in_obj, policy_funcs, additional_objs)\n  File \"/home/zhiwei/anaconda3/envs/cadcad/lib/python3.9/site-packages/cadCAD/engine/simulation.py\", line 56, in get_policy_input\n    key_set = list(set(list(reduce(lambda a, b: a + b, list(map(lambda x: list(x.keys()), col_results))))))\n  File \"/home/zhiwei/anaconda3/envs/cadcad/lib/python3.9/site-packages/cadCAD/engine/simulation.py\", line 56, in <lambda>\n    key_set = list(set(list(reduce(lambda a, b: a + b, list(map(lambda x: list(x.keys()), col_results))))))\nAttributeError: 'set' object has no attribute 'keys'\n\"\"\"",
      "\nThe above exception was the direct cause of the following exception:\n",
      "\u001b[0;31mAttributeError\u001b[0m                            Traceback (most recent call last)",
      "\u001b[1;32m/home/zhiwei/Documents/blockscience/OlympusRBS/Bond Testing 3.ipynb Cell 4\u001b[0m in \u001b[0;36m<cell line: 11>\u001b[0;34m()\u001b[0m\n\u001b[1;32m      <a href='vscode-notebook-cell:/home/zhiwei/Documents/blockscience/OlympusRBS/Bond%20Testing%203.ipynb#W3sZmlsZQ%3D%3D?line=7'>8</a>\u001b[0m exp \u001b[39m=\u001b[39m load_config(number_runs, params, initial_state, number_steps)\n\u001b[1;32m     <a href='vscode-notebook-cell:/home/zhiwei/Documents/blockscience/OlympusRBS/Bond%20Testing%203.ipynb#W3sZmlsZQ%3D%3D?line=9'>10</a>\u001b[0m \u001b[39m# Run the experiment\u001b[39;00m\n\u001b[0;32m---> <a href='vscode-notebook-cell:/home/zhiwei/Documents/blockscience/OlympusRBS/Bond%20Testing%203.ipynb#W3sZmlsZQ%3D%3D?line=10'>11</a>\u001b[0m raw \u001b[39m=\u001b[39m run(exp)\n\u001b[1;32m     <a href='vscode-notebook-cell:/home/zhiwei/Documents/blockscience/OlympusRBS/Bond%20Testing%203.ipynb#W3sZmlsZQ%3D%3D?line=12'>13</a>\u001b[0m \u001b[39m# Parse the raw data\u001b[39;00m\n\u001b[1;32m     <a href='vscode-notebook-cell:/home/zhiwei/Documents/blockscience/OlympusRBS/Bond%20Testing%203.ipynb#W3sZmlsZQ%3D%3D?line=13'>14</a>\u001b[0m df \u001b[39m=\u001b[39m post_processing(raw)\n",
      "File \u001b[0;32m~/Documents/blockscience/OlympusRBS/model/run.py:50\u001b[0m, in \u001b[0;36mrun\u001b[0;34m(exp)\u001b[0m\n\u001b[1;32m     47\u001b[0m local_mode_ctx \u001b[39m=\u001b[39m ExecutionContext(context\u001b[39m=\u001b[39mexec_mode\u001b[39m.\u001b[39mlocal_mode)\n\u001b[1;32m     49\u001b[0m sim \u001b[39m=\u001b[39m Executor(exec_context\u001b[39m=\u001b[39mlocal_mode_ctx, configs\u001b[39m=\u001b[39mexp\u001b[39m.\u001b[39mconfigs)\n\u001b[0;32m---> 50\u001b[0m raw_system_events, _, _ \u001b[39m=\u001b[39m sim\u001b[39m.\u001b[39;49mexecute()\n\u001b[1;32m     51\u001b[0m df \u001b[39m=\u001b[39m pd\u001b[39m.\u001b[39mDataFrame(raw_system_events)\n\u001b[1;32m     52\u001b[0m \u001b[39mreturn\u001b[39;00m df\n",
      "File \u001b[0;32m~/anaconda3/envs/cadcad/lib/python3.9/site-packages/cadCAD/engine/__init__.py:152\u001b[0m, in \u001b[0;36mExecutor.execute\u001b[0;34m(self)\u001b[0m\n\u001b[1;32m    149\u001b[0m         \u001b[39mself\u001b[39m\u001b[39m.\u001b[39mexec_context, \u001b[39mself\u001b[39m\u001b[39m.\u001b[39mexec_method \u001b[39m=\u001b[39m auto_mode_switcher(config_amt)\n\u001b[1;32m    151\u001b[0m     \u001b[39mprint\u001b[39m(\u001b[39m\"\u001b[39m\u001b[39mExecution Method: \u001b[39m\u001b[39m\"\u001b[39m \u001b[39m+\u001b[39m \u001b[39mself\u001b[39m\u001b[39m.\u001b[39mexec_method\u001b[39m.\u001b[39m\u001b[39m__name__\u001b[39m)\n\u001b[0;32m--> 152\u001b[0m     simulations_results \u001b[39m=\u001b[39m \u001b[39mself\u001b[39;49m\u001b[39m.\u001b[39;49mexec_method(\n\u001b[1;32m    153\u001b[0m         sim_executors, var_dict_list, states_lists, configs_structs, env_processes_list, Ts, SimIDs, RunIDs,\n\u001b[1;32m    154\u001b[0m         ExpIDs, SubsetIDs, SubsetWindows, original_N\n\u001b[1;32m    155\u001b[0m     )\n\u001b[1;32m    157\u001b[0m     final_result \u001b[39m=\u001b[39m get_final_results(simulations_results, partial_state_updates, eps, sessions, remote_threshold)\n\u001b[1;32m    158\u001b[0m \u001b[39melif\u001b[39;00m \u001b[39mself\u001b[39m\u001b[39m.\u001b[39mexec_context \u001b[39m==\u001b[39m ExecutionMode\u001b[39m.\u001b[39mdistributed:\n",
      "File \u001b[0;32m~/anaconda3/envs/cadcad/lib/python3.9/site-packages/cadCAD/engine/execution.py:131\u001b[0m, in \u001b[0;36mlocal_simulations\u001b[0;34m(simulation_execs, var_dict_list, states_lists, configs_structs, env_processes_list, Ts, SimIDs, Ns, ExpIDs, SubsetIDs, SubsetWindows, configured_n)\u001b[0m\n\u001b[1;32m    129\u001b[0m \u001b[39melif\u001b[39;00m config_amt \u001b[39m>\u001b[39m \u001b[39m1\u001b[39m: \u001b[39m# and configured_n != 1\u001b[39;00m\n\u001b[1;32m    130\u001b[0m     _params \u001b[39m=\u001b[39m var_dict_list\n\u001b[0;32m--> 131\u001b[0m     \u001b[39mreturn\u001b[39;00m parallelize_simulations(\n\u001b[1;32m    132\u001b[0m         simulation_execs, _params, states_lists, configs_structs, env_processes_list,\n\u001b[1;32m    133\u001b[0m         Ts, SimIDs, Ns, ExpIDs, SubsetIDs, SubsetWindows, configured_n\n\u001b[1;32m    134\u001b[0m     )\n",
      "File \u001b[0;32m~/anaconda3/envs/cadcad/lib/python3.9/site-packages/cadCAD/engine/execution.py:101\u001b[0m, in \u001b[0;36mparallelize_simulations\u001b[0;34m(simulation_execs, var_dict_list, states_lists, configs_structs, env_processes_list, Ts, SimIDs, Ns, ExpIDs, SubsetIDs, SubsetWindows, configured_n)\u001b[0m\n\u001b[1;32m     98\u001b[0m         results \u001b[39m=\u001b[39m t[\u001b[39m0\u001b[39m](t[\u001b[39m1\u001b[39m], t[\u001b[39m2\u001b[39m], t[\u001b[39m3\u001b[39m], t[\u001b[39m4\u001b[39m], t[\u001b[39m5\u001b[39m], t[\u001b[39m6\u001b[39m], t[\u001b[39m7\u001b[39m], t[\u001b[39m8\u001b[39m], t[\u001b[39m9\u001b[39m], configured_n)\n\u001b[1;32m     99\u001b[0m     \u001b[39mreturn\u001b[39;00m results\n\u001b[0;32m--> 101\u001b[0m results \u001b[39m=\u001b[39m flatten(\u001b[39mlist\u001b[39;49m(\u001b[39mmap\u001b[39;49m(\u001b[39mlambda\u001b[39;49;00m params: process_executor(params), new_params)))\n\u001b[1;32m    103\u001b[0m \u001b[39mreturn\u001b[39;00m results\n",
      "File \u001b[0;32m~/anaconda3/envs/cadcad/lib/python3.9/site-packages/cadCAD/engine/execution.py:101\u001b[0m, in \u001b[0;36mparallelize_simulations.<locals>.<lambda>\u001b[0;34m(params)\u001b[0m\n\u001b[1;32m     98\u001b[0m         results \u001b[39m=\u001b[39m t[\u001b[39m0\u001b[39m](t[\u001b[39m1\u001b[39m], t[\u001b[39m2\u001b[39m], t[\u001b[39m3\u001b[39m], t[\u001b[39m4\u001b[39m], t[\u001b[39m5\u001b[39m], t[\u001b[39m6\u001b[39m], t[\u001b[39m7\u001b[39m], t[\u001b[39m8\u001b[39m], t[\u001b[39m9\u001b[39m], configured_n)\n\u001b[1;32m     99\u001b[0m     \u001b[39mreturn\u001b[39;00m results\n\u001b[0;32m--> 101\u001b[0m results \u001b[39m=\u001b[39m flatten(\u001b[39mlist\u001b[39m(\u001b[39mmap\u001b[39m(\u001b[39mlambda\u001b[39;00m params: process_executor(params), new_params)))\n\u001b[1;32m    103\u001b[0m \u001b[39mreturn\u001b[39;00m results\n",
      "File \u001b[0;32m~/anaconda3/envs/cadcad/lib/python3.9/site-packages/cadCAD/engine/execution.py:90\u001b[0m, in \u001b[0;36mparallelize_simulations.<locals>.process_executor\u001b[0;34m(params)\u001b[0m\n\u001b[1;32m     88\u001b[0m \u001b[39mif\u001b[39;00m len_configs_structs \u001b[39m>\u001b[39m \u001b[39m1\u001b[39m:\n\u001b[1;32m     89\u001b[0m     pp \u001b[39m=\u001b[39m PPool(processes\u001b[39m=\u001b[39mlen_configs_structs)\n\u001b[0;32m---> 90\u001b[0m     results \u001b[39m=\u001b[39m pp\u001b[39m.\u001b[39;49mmap(\n\u001b[1;32m     91\u001b[0m         \u001b[39mlambda\u001b[39;49;00m t: t[\u001b[39m0\u001b[39;49m](t[\u001b[39m1\u001b[39;49m], t[\u001b[39m2\u001b[39;49m], t[\u001b[39m3\u001b[39;49m], t[\u001b[39m4\u001b[39;49m], t[\u001b[39m5\u001b[39;49m], t[\u001b[39m6\u001b[39;49m], t[\u001b[39m7\u001b[39;49m], t[\u001b[39m8\u001b[39;49m], t[\u001b[39m9\u001b[39;49m], configured_n), params\n\u001b[1;32m     92\u001b[0m     )\n\u001b[1;32m     93\u001b[0m     pp\u001b[39m.\u001b[39mclose()\n\u001b[1;32m     94\u001b[0m     pp\u001b[39m.\u001b[39mjoin()\n",
      "File \u001b[0;32m~/anaconda3/envs/cadcad/lib/python3.9/site-packages/pathos/multiprocessing.py:139\u001b[0m, in \u001b[0;36mProcessPool.map\u001b[0;34m(self, f, *args, **kwds)\u001b[0m\n\u001b[1;32m    137\u001b[0m AbstractWorkerPool\u001b[39m.\u001b[39m_AbstractWorkerPool__map(\u001b[39mself\u001b[39m, f, \u001b[39m*\u001b[39margs, \u001b[39m*\u001b[39m\u001b[39m*\u001b[39mkwds)\n\u001b[1;32m    138\u001b[0m _pool \u001b[39m=\u001b[39m \u001b[39mself\u001b[39m\u001b[39m.\u001b[39m_serve()\n\u001b[0;32m--> 139\u001b[0m \u001b[39mreturn\u001b[39;00m _pool\u001b[39m.\u001b[39;49mmap(star(f), \u001b[39mzip\u001b[39;49m(\u001b[39m*\u001b[39;49margs))\n",
      "File \u001b[0;32m~/anaconda3/envs/cadcad/lib/python3.9/site-packages/multiprocess/pool.py:364\u001b[0m, in \u001b[0;36mPool.map\u001b[0;34m(self, func, iterable, chunksize)\u001b[0m\n\u001b[1;32m    359\u001b[0m \u001b[39mdef\u001b[39;00m \u001b[39mmap\u001b[39m(\u001b[39mself\u001b[39m, func, iterable, chunksize\u001b[39m=\u001b[39m\u001b[39mNone\u001b[39;00m):\n\u001b[1;32m    360\u001b[0m     \u001b[39m'''\u001b[39;00m\n\u001b[1;32m    361\u001b[0m \u001b[39m    Apply `func` to each element in `iterable`, collecting the results\u001b[39;00m\n\u001b[1;32m    362\u001b[0m \u001b[39m    in a list that is returned.\u001b[39;00m\n\u001b[1;32m    363\u001b[0m \u001b[39m    '''\u001b[39;00m\n\u001b[0;32m--> 364\u001b[0m     \u001b[39mreturn\u001b[39;00m \u001b[39mself\u001b[39;49m\u001b[39m.\u001b[39;49m_map_async(func, iterable, mapstar, chunksize)\u001b[39m.\u001b[39;49mget()\n",
      "File \u001b[0;32m~/anaconda3/envs/cadcad/lib/python3.9/site-packages/multiprocess/pool.py:771\u001b[0m, in \u001b[0;36mApplyResult.get\u001b[0;34m(self, timeout)\u001b[0m\n\u001b[1;32m    769\u001b[0m     \u001b[39mreturn\u001b[39;00m \u001b[39mself\u001b[39m\u001b[39m.\u001b[39m_value\n\u001b[1;32m    770\u001b[0m \u001b[39melse\u001b[39;00m:\n\u001b[0;32m--> 771\u001b[0m     \u001b[39mraise\u001b[39;00m \u001b[39mself\u001b[39m\u001b[39m.\u001b[39m_value\n",
      "\u001b[0;31mAttributeError\u001b[0m: 'set' object has no attribute 'keys'"
     ]
    }
   ],
   "source": [
    "from model.run import load_config, run, post_processing\n",
    "\n",
    "# Set the params for runs and timesteps\n",
    "number_runs = 2\n",
    "number_steps = 100\n",
    "\n",
    "# Load the experiment\n",
    "exp = load_config(number_runs, params, initial_state, number_steps)\n",
    "\n",
    "# Run the experiment\n",
    "raw = run(exp)\n",
    "\n",
    "# Parse the raw data\n",
    "df = post_processing(raw)"
   ]
  }
 ],
 "metadata": {
  "kernelspec": {
   "display_name": "cadcad",
   "language": "python",
   "name": "python3"
  },
  "language_info": {
   "codemirror_mode": {
    "name": "ipython",
    "version": 3
   },
   "file_extension": ".py",
   "mimetype": "text/x-python",
   "name": "python",
   "nbconvert_exporter": "python",
   "pygments_lexer": "ipython3",
   "version": "3.9.12"
  },
  "vscode": {
   "interpreter": {
    "hash": "8ab5428ae62201533e8ec752f6037af62c93c7d07f0b1421de25a96eddaa6eb7"
   }
  }
 },
 "nbformat": 4,
 "nbformat_minor": 5
}
