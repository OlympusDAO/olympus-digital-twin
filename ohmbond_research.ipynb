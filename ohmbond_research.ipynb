{
 "cells": [
  {
   "cell_type": "markdown",
   "metadata": {},
   "source": [
    "# OHM Bond Volatility Research\n",
    "\n",
    "## Summary\n",
    "\n",
    "The research created here aims to discern the drivers of system volatility as it relates to bond release. Different parameterizations of bond release and the overall system are studied to determine the main effects.\n",
    "\n",
    "## Experimental Set Up/Parameters\n",
    "\n",
    "For each of the experiments below, there is a separate experimental set up described.\n",
    "\n",
    "## KPIs/Metrics\n",
    "\n",
    "TODO: Add descriptions"
   ]
  },
  {
   "cell_type": "markdown",
   "metadata": {},
   "source": [
    "# Experiment 1 - Release Date Distribution Effect\n",
    "\n",
    "## Experimental Setup\n",
    "\n",
    "- The simulations are generally run with the normal parameters\n",
    "- The bond scheduling is the change applied in this experiment\n",
    "- There are three sets of bond release schedules and two levels of total face value which are compared against one and other\n",
    "\n",
    "## Parameter Sweep\n",
    "\n",
    "- total_face_value: The total amount of face value attributed to the bond release\n",
    "    - Values are 2e6 and 5e6\n",
    "- bond_value_distribution: The distribution between the values for each bond distribution. The larger the number, the higher the share of the total face value that is released at that given date.\n",
    "    - Values are [1, 1, 1], [2, 1, 1], [4, 1, 1]"
   ]
  },
  {
   "cell_type": "code",
   "execution_count": 1,
   "metadata": {},
   "outputs": [
    {
     "name": "stdout",
     "output_type": "stream",
     "text": [
      "\n",
      "                  ___________    ____\n",
      "  ________ __ ___/ / ____/   |  / __ \\\n",
      " / ___/ __` / __  / /   / /| | / / / /\n",
      "/ /__/ /_/ / /_/ / /___/ ___ |/ /_/ /\n",
      "\\___/\\__,_/\\__,_/\\____/_/  |_/_____/\n",
      "by cadCAD\n",
      "\n",
      "cadCAD Version: 0.4.28\n",
      "Execution Mode: local_proc\n",
      "Simulation Dimensions:\n",
      "Entire Simulation: (Models, Unique Timesteps, Params, Total Runs, Sub-States) = (1, 100, 22, 60, 69)\n",
      "     Simulation 0: (Timesteps, Params, Runs, Sub-States) = (100, 22, 60, 69)\n",
      "Execution Method: local_simulations\n",
      "Execution Mode: parallelized\n",
      "Total execution time: 416.08s\n"
     ]
    }
   ],
   "source": [
    "from model.utility.default_parameters import default_params1 as params\n",
    "from model.signals.bond_signals import total_value_bond_creation\n",
    "from model.utility.default_initial_state import default_initial_state1 as initial_state\n",
    "from model.utility.initial_state_functions import fill_in_initial_state\n",
    "from model.run import load_config, run,new_run, post_processing\n",
    "\n",
    "# Create the different bonds\n",
    "bonds = []\n",
    "bond_schedule_name = []\n",
    "\n",
    "# Universal Bond Params\n",
    "start_dates = [10,30,50]\n",
    "bond_tenors = 30\n",
    "\n",
    "# Run parameters\n",
    "number_runs = 10\n",
    "number_steps = 100\n",
    "\n",
    "# Equal value release bond\n",
    "bonds.append(total_value_bond_creation(start_dates= start_dates,\n",
    "                                  simulation_timesteps=number_steps,\n",
    "                                  bond_tenors=bond_tenors,\n",
    "                                  total_face_value=2e6,\n",
    "                                  bond_value_distribution=[1, 1, 1]))\n",
    "bond_schedule_name.append(\"1/1/1 Med\")\n",
    "\n",
    "bonds.append(total_value_bond_creation(start_dates= start_dates,\n",
    "                                  simulation_timesteps=number_steps,\n",
    "                                  bond_tenors=bond_tenors,\n",
    "                                  total_face_value=5e6,\n",
    "                                  bond_value_distribution=[1, 1, 1]))\n",
    "bond_schedule_name.append(\"1/1/1 Lrg\")\n",
    "\n",
    "# Front loaded\n",
    "bonds.append(total_value_bond_creation(start_dates= start_dates,\n",
    "                                  simulation_timesteps=number_steps,\n",
    "                                  bond_tenors=bond_tenors,\n",
    "                                  total_face_value=2e6,\n",
    "                                  bond_value_distribution=[2, 1, 1]))\n",
    "bond_schedule_name.append(\"2/1/1 Med\")\n",
    "\n",
    "bonds.append(total_value_bond_creation(start_dates= start_dates,\n",
    "                                  simulation_timesteps=number_steps,\n",
    "                                  bond_tenors=bond_tenors,\n",
    "                                  total_face_value=5e6,\n",
    "                                  bond_value_distribution=[2, 1, 1]))\n",
    "bond_schedule_name.append(\"2/1/1 Lrg\")\n",
    "\n",
    "# Extreme front loaded\n",
    "bonds.append(total_value_bond_creation(start_dates= start_dates,\n",
    "                                  simulation_timesteps=number_steps,\n",
    "                                  bond_tenors=bond_tenors,\n",
    "                                  total_face_value=2e6,\n",
    "                                  bond_value_distribution=[4, 1, 1]))\n",
    "bond_schedule_name.append(\"4/1/1 Med\")\n",
    "\n",
    "bonds.append(total_value_bond_creation(start_dates= start_dates,\n",
    "                                  simulation_timesteps=number_steps,\n",
    "                                  bond_tenors=bond_tenors,\n",
    "                                  total_face_value=5e6,\n",
    "                                  bond_value_distribution=[4, 1, 1]))\n",
    "bond_schedule_name.append(\"4/1/1 Lrg\")\n",
    "\n",
    "\n",
    "\n",
    "params.update({'bond_create_schedule':bonds})\n",
    "params.update({'bond_schedule_name':bond_schedule_name})\n",
    "\n",
    "# Fill in the initial state\n",
    "initial_state = fill_in_initial_state(initial_state, params)\n",
    "\n",
    "\n",
    "\n",
    "# Load the experiment\n",
    "exp = load_config(number_runs, params, initial_state, number_steps)\n",
    "\n",
    "# Run the experiment\n",
    "raw = new_run(exp)\n",
    "\n",
    "# Parse the raw data\n",
    "df1 = post_processing(raw)"
   ]
  },
  {
   "cell_type": "code",
   "execution_count": 2,
   "metadata": {},
   "outputs": [],
   "source": [
    "df1.to_csv(\"bond_research_runs1.csv\")\n"
   ]
  },
  {
   "cell_type": "code",
   "execution_count": 1,
   "metadata": {},
   "outputs": [],
   "source": [
    "import pandas as pd\n",
    "df1 = pd.read_csv(\"bond_research_runs1.csv\", index_col=0)\n",
    "number_steps = 100"
   ]
  },
  {
   "cell_type": "markdown",
   "metadata": {},
   "source": [
    "### General Visualizations\n",
    "\n",
    "The following are two visualizations for the rate at which experiments were interrupted as well as the averages of standard deviations between runs."
   ]
  },
  {
   "cell_type": "code",
   "execution_count": 2,
   "metadata": {},
   "outputs": [
    {
     "data": {
      "image/png": "[encoded data removed]",
      "text/plain": [
       "<Figure size 432x288 with 1 Axes>"
      ]
     },
     "metadata": {
      "needs_background": "light"
     },
     "output_type": "display_data"
    }
   ],
   "source": [
    "from model.utility.visualization import plot_simu_interruption_rate\n",
    "\n",
    "plot_simu_interruption_rate(df1,\n",
    "                            number_steps,\n",
    "                           [\"bond_schedule_name\"])\n"
   ]
  },
  {
   "cell_type": "code",
   "execution_count": 3,
   "metadata": {},
   "outputs": [
    {
     "data": {
      "image/png": "[encoded data removed]",
      "text/plain": [
       "<Figure size 432x288 with 1 Axes>"
      ]
     },
     "metadata": {
      "needs_background": "light"
     },
     "output_type": "display_data"
    }
   ],
   "source": [
    "from model.utility.visualization import plot_price_standard_deviation\n",
    "\n",
    "plot_price_standard_deviation(df1)          \n"
   ]
  },
  {
   "cell_type": "markdown",
   "metadata": {},
   "source": [
    "# Experiment 2: different distribution of bond amount regarding different tenors"
   ]
  },
  {
   "cell_type": "code",
   "execution_count": 19,
   "metadata": {},
   "outputs": [
    {
     "name": "stdout",
     "output_type": "stream",
     "text": [
      "\n",
      "                  ___________    ____\n",
      "  ________ __ ___/ / ____/   |  / __ \\\n",
      " / ___/ __` / __  / /   / /| | / / / /\n",
      "/ /__/ /_/ / /_/ / /___/ ___ |/ /_/ /\n",
      "\\___/\\__,_/\\__,_/\\____/_/  |_/_____/\n",
      "by cadCAD\n",
      "\n",
      "cadCAD Version: 0.4.28\n",
      "Execution Mode: local_proc\n",
      "Simulation Dimensions:\n",
      "Entire Simulation: (Models, Unique Timesteps, Params, Total Runs, Sub-States) = (1, 100, 22, 30, 69)\n",
      "     Simulation 0: (Timesteps, Params, Runs, Sub-States) = (100, 22, 30, 69)\n",
      "Execution Method: local_simulations\n",
      "Execution Mode: parallelized\n",
      "Total execution time: 138.26s\n"
     ]
    }
   ],
   "source": [
    "from model.utility.default_parameters import default_params1 as params\n",
    "from model.signals.bond_signals import total_value_bond_creation\n",
    "number_runs = 10\n",
    "number_steps = 100\n",
    "\n",
    "total_amount = 3e6\n",
    "val_ratio1=[2,1,1]\n",
    "bond0 = total_value_bond_creation(start_dates= 5, simulation_timesteps=number_steps, bond_tenors=[30,60,90], total_face_value=total_amount,bond_value_distribution=[])\n",
    "bond1 = total_value_bond_creation(start_dates= 5, simulation_timesteps=number_steps, bond_tenors=[30,60,90], total_face_value=total_amount,bond_value_distribution=val_ratio1)\n",
    "val_ratio2 = [3,1,1]\n",
    "bond2 = total_value_bond_creation(start_dates= 5, simulation_timesteps=number_steps, bond_tenors=[30,60,90], total_face_value=total_amount,bond_value_distribution=val_ratio2)\n",
    "\n",
    "params.update({'bond_create_schedule':[bond0,bond1,bond2]})\n",
    "params.update({'bond_schedule_name':['equal value','value ratio for diff tenors:'+str(val_ratio1),'value ratio for diff tenors:'+str(val_ratio2)]})\n",
    "from model.utility.default_initial_state import default_initial_state1 as initial_state\n",
    "# Fill in the initial state\n",
    "from model.utility.initial_state_functions import fill_in_initial_state\n",
    "initial_state = fill_in_initial_state(initial_state, params)\n",
    "\n",
    "from model.run import load_config, run,new_run, post_processing\n",
    "# Load the experiment\n",
    "exp = load_config(number_runs, params, initial_state, number_steps)\n",
    "\n",
    "# Run the experiment\n",
    "raw = new_run(exp)\n",
    "\n",
    "# Parse the raw data\n",
    "df2 = post_processing(raw)"
   ]
  },
  {
   "cell_type": "code",
   "execution_count": 16,
   "metadata": {},
   "outputs": [],
   "source": [
    "import pickle\n",
    "pickle.dump([df1,df2],open('simudata/ohmbond_research/simu_df12.p','wb'))"
   ]
  },
  {
   "cell_type": "code",
   "execution_count": 4,
   "metadata": {},
   "outputs": [],
   "source": [
    "import pickle\n",
    "\n",
    "[df1,df2] = pickle.load(open('simudata/ohmbond_research/simu_df12.p','rb'))\n",
    "number_steps = 100"
   ]
  },
  {
   "cell_type": "code",
   "execution_count": 21,
   "metadata": {},
   "outputs": [
    {
     "name": "stdout",
     "output_type": "stream",
     "text": [
      "subset\n",
      "0    0.0\n",
      "1    0.0\n",
      "2    0.0\n",
      "Name: timestep, dtype: float64\n"
     ]
    },
    {
     "data": {
      "image/png": "[encoded data removed]",
      "text/plain": [
       "<Figure size 432x288 with 1 Axes>"
      ]
     },
     "metadata": {
      "needs_background": "light"
     },
     "output_type": "display_data"
    }
   ],
   "source": [
    "from model.utility.visualization import plot_simu_interruption_rate\n",
    "plot_simu_interruption_rate(df2,number_steps)\n"
   ]
  },
  {
   "cell_type": "code",
   "execution_count": 27,
   "metadata": {},
   "outputs": [
    {
     "data": {
      "image/png": "[encoded data removed]",
      "text/plain": [
       "<Figure size 432x288 with 1 Axes>"
      ]
     },
     "metadata": {
      "needs_background": "light"
     },
     "output_type": "display_data"
    }
   ],
   "source": [
    "plot_price_standard_deviation(df2)          \n"
   ]
  },
  {
   "cell_type": "markdown",
   "metadata": {},
   "source": [
    "From the current simulation, either the unequal distribution for bonds of different starting dates or different tenors won't cause any statistically significant.\n",
    "\n",
    "What would be a significant factor that affects volatility?\n",
    "- the impact factor from bond to netflow\n",
    "- overall market activity volatility (the randomization of netflow)\n",
    "- with or without RBS"
   ]
  },
  {
   "cell_type": "markdown",
   "metadata": {},
   "source": [
    "# Experiment 3: volatility with or without RBS"
   ]
  },
  {
   "cell_type": "code",
   "execution_count": 28,
   "metadata": {},
   "outputs": [
    {
     "name": "stdout",
     "output_type": "stream",
     "text": [
      "\n",
      "                  ___________    ____\n",
      "  ________ __ ___/ / ____/   |  / __ \\\n",
      " / ___/ __` / __  / /   / /| | / / / /\n",
      "/ /__/ /_/ / /_/ / /___/ ___ |/ /_/ /\n",
      "\\___/\\__,_/\\__,_/\\____/_/  |_/_____/\n",
      "by cadCAD\n",
      "\n",
      "cadCAD Version: 0.4.28\n",
      "Execution Mode: local_proc\n",
      "Simulation Dimensions:\n",
      "Entire Simulation: (Models, Unique Timesteps, Params, Total Runs, Sub-States) = (1, 100, 22, 30, 69)\n",
      "     Simulation 0: (Timesteps, Params, Runs, Sub-States) = (100, 22, 30, 69)\n",
      "Execution Method: local_simulations\n",
      "Execution Mode: parallelized\n",
      "Total execution time: 82.19s\n"
     ]
    }
   ],
   "source": [
    "from model.utility.default_parameters import default_params1 as params\n",
    "from model.signals.bond_signals import total_value_bond_creation\n",
    "number_runs = 10\n",
    "number_steps = 100\n",
    "val_ratio1=[2,1,1]\n",
    "\n",
    "total_amount = 3e6\n",
    "bond0 = total_value_bond_creation(start_dates= 5, simulation_timesteps=number_steps, bond_tenors=[30,60,90], total_face_value=total_amount,bond_value_distribution=[])\n",
    "bond1 = total_value_bond_creation(start_dates= 5, simulation_timesteps=number_steps, bond_tenors=[30,60,90], total_face_value=total_amount,bond_value_distribution=val_ratio1)\n",
    "val_ratio2 = [3,1,1]\n",
    "bond2 = total_value_bond_creation(start_dates= 5, simulation_timesteps=number_steps, bond_tenors=[30,60,90], total_face_value=total_amount,bond_value_distribution=val_ratio2)\n",
    "\n",
    "params.update({'bond_create_schedule':[bond0,bond1,bond2]})\n",
    "params.update({'bond_schedule_name':['equal value','value ratio for diff tenors:'+str(val_ratio1),'value ratio for diff tenors:'+str(val_ratio2)]})\n",
    "from model.utility.default_initial_state import default_initial_state1 as initial_state\n",
    "# Fill in the initial state\n",
    "from model.utility.initial_state_functions import fill_in_initial_state\n",
    "initial_state = fill_in_initial_state(initial_state, params)\n",
    "\n",
    "from model.run import load_config, run, post_processing\n",
    "# Load the experiment\n",
    "exp = load_config(number_runs, params, initial_state, number_steps,psub_scenario_option='NoRBS')\n",
    "\n",
    "# Run the experiment\n",
    "raw = run(exp)\n",
    "\n",
    "# Parse the raw data\n",
    "df3 = post_processing(raw)"
   ]
  },
  {
   "cell_type": "code",
   "execution_count": 29,
   "metadata": {},
   "outputs": [
    {
     "name": "stdout",
     "output_type": "stream",
     "text": [
      "subset\n",
      "0    0.0\n",
      "1    0.0\n",
      "2    0.0\n",
      "Name: timestep, dtype: float64\n"
     ]
    },
    {
     "data": {
      "image/png": "[encoded data removed]",
      "text/plain": [
       "<Figure size 432x288 with 1 Axes>"
      ]
     },
     "metadata": {
      "needs_background": "light"
     },
     "output_type": "display_data"
    }
   ],
   "source": [
    "from model.utility.visualization import plot_simu_interruption_rate\n",
    "plot_simu_interruption_rate(df3,number_steps)"
   ]
  },
  {
   "cell_type": "code",
   "execution_count": 29,
   "metadata": {},
   "outputs": [
    {
     "data": {
      "image/png": "[encoded data removed]",
      "text/plain": [
       "<Figure size 432x288 with 1 Axes>"
      ]
     },
     "metadata": {
      "needs_background": "light"
     },
     "output_type": "display_data"
    }
   ],
   "source": [
    "from model.utility.visualization import plot_price_standard_deviation\n",
    "\n",
    "plot_price_standard_deviation(df3)          \n"
   ]
  },
  {
   "cell_type": "code",
   "execution_count": 3,
   "metadata": {},
   "outputs": [],
   "source": [
    "# import pickle\n",
    "# [df1,df2,df3] = pickle.load(open('simudata/ohmbond_research/simu_df.p','rb'))"
   ]
  },
  {
   "cell_type": "code",
   "execution_count": 4,
   "metadata": {},
   "outputs": [
    {
     "name": "stderr",
     "output_type": "stream",
     "text": [
      "/home/zhiwei/Documents/blockscience/OlympusRBS/model/utility/visualization.py:66: UserWarning: Matplotlib is currently using module://matplotlib_inline.backend_inline, which is a non-GUI backend, so cannot show the figure.\n",
      "  fig.show()\n"
     ]
    },
    {
     "data": {
      "image/png": "[encoded data removed]",
      "text/plain": [
       "<Figure size 432x288 with 1 Axes>"
      ]
     },
     "metadata": {
      "needs_background": "light"
     },
     "output_type": "display_data"
    }
   ],
   "source": [
    "from model.utility.visualization import plot_price_standard_deviation_multiple_exps\n",
    "exps = [{'label':'RBS','df':df2},{'label':'no RBS','df':df3}]\n",
    "plot_price_standard_deviation_multiple_exps(exps)"
   ]
  },
  {
   "cell_type": "markdown",
   "metadata": {},
   "source": [
    "with RBS, the volatility increases significantly. The bond distribution still doesn't have a significant effect on volatility though."
   ]
  },
  {
   "cell_type": "code",
   "execution_count": 32,
   "metadata": {},
   "outputs": [],
   "source": [
    "# import pickle\n",
    "# pickle.dump([df1,df2,df3],open('simudata/ohmbond_research/simu_df.p','wb'))"
   ]
  },
  {
   "cell_type": "markdown",
   "metadata": {},
   "source": [
    "# Experiment 4: bond amount and possibility of draining the pool"
   ]
  },
  {
   "cell_type": "code",
   "execution_count": 24,
   "metadata": {},
   "outputs": [
    {
     "name": "stdout",
     "output_type": "stream",
     "text": [
      "\n",
      "                  ___________    ____\n",
      "  ________ __ ___/ / ____/   |  / __ \\\n",
      " / ___/ __` / __  / /   / /| | / / / /\n",
      "/ /__/ /_/ / /_/ / /___/ ___ |/ /_/ /\n",
      "\\___/\\__,_/\\__,_/\\____/_/  |_/_____/\n",
      "by cadCAD\n",
      "\n",
      "cadCAD Version: 0.4.28\n",
      "Execution Mode: local_proc\n",
      "Simulation Dimensions:\n",
      "Entire Simulation: (Models, Unique Timesteps, Params, Total Runs, Sub-States) = (1, 100, 22, 30, 69)\n",
      "     Simulation 0: (Timesteps, Params, Runs, Sub-States) = (100, 22, 30, 69)\n",
      "Execution Method: local_simulations\n",
      "Execution Mode: parallelized\n",
      "Total execution time: 78.32s\n"
     ]
    }
   ],
   "source": [
    "from model.utility.default_parameters import default_params1 as params\n",
    "from model.signals.bond_signals import total_value_bond_creation\n",
    "number_runs = 10\n",
    "number_steps = 100\n",
    "\n",
    "total_amounts = [4e6,4.5e6,5e6]\n",
    "allbonds = []\n",
    "for amount in total_amounts:\n",
    "    allbonds.append(total_value_bond_creation(start_dates= 5, simulation_timesteps=number_steps, bond_tenors=[30,60,90], total_face_value=amount,bond_value_distribution=[]))\n",
    "\n",
    "params.update({'bond_create_schedule':allbonds})\n",
    "params.update({'bond_schedule_name':[f'total amount {k:.1e}' for k in total_amounts]})\n",
    "from model.utility.default_initial_state import default_initial_state1 as initial_state\n",
    "# Fill in the initial state\n",
    "from model.utility.initial_state_functions import fill_in_initial_state\n",
    "initial_state = fill_in_initial_state(initial_state, params)\n",
    "\n",
    "from model.run import load_config, run,new_run, post_processing\n",
    "# Load the experiment\n",
    "exp = load_config(number_runs, params, initial_state, number_steps)\n",
    "\n",
    "# Run the experiment\n",
    "raw = new_run(exp)\n",
    "\n",
    "# Parse the raw data\n",
    "df4 = post_processing(raw)"
   ]
  },
  {
   "cell_type": "code",
   "execution_count": 5,
   "metadata": {},
   "outputs": [
    {
     "name": "stdout",
     "output_type": "stream",
     "text": [
      "subset\n",
      "0    0.0\n",
      "1    0.5\n",
      "2    1.0\n",
      "Name: timestep, dtype: float64\n"
     ]
    },
    {
     "data": {
      "image/png": "[encoded data removed]",
      "text/plain": [
       "<Figure size 432x288 with 1 Axes>"
      ]
     },
     "metadata": {
      "needs_background": "light"
     },
     "output_type": "display_data"
    }
   ],
   "source": [
    "from model.utility.visualization import plot_simu_interruption_rate\n",
    "plot_simu_interruption_rate(df4,number_steps=100)"
   ]
  },
  {
   "cell_type": "code",
   "execution_count": 26,
   "metadata": {},
   "outputs": [],
   "source": [
    "import pickle\n",
    "pickle.dump(df4,open('simudata/ohmbond_research/simu_df4.p','wb'))"
   ]
  },
  {
   "cell_type": "markdown",
   "metadata": {},
   "source": [
    "# Experiment 5: does RBS help to prevent pool drainage?"
   ]
  },
  {
   "cell_type": "code",
   "execution_count": 5,
   "metadata": {},
   "outputs": [
    {
     "name": "stdout",
     "output_type": "stream",
     "text": [
      "\n",
      "                  ___________    ____\n",
      "  ________ __ ___/ / ____/   |  / __ \\\n",
      " / ___/ __` / __  / /   / /| | / / / /\n",
      "/ /__/ /_/ / /_/ / /___/ ___ |/ /_/ /\n",
      "\\___/\\__,_/\\__,_/\\____/_/  |_/_____/\n",
      "by cadCAD\n",
      "\n",
      "cadCAD Version: 0.4.28\n",
      "Execution Mode: local_proc\n",
      "Simulation Dimensions:\n",
      "Entire Simulation: (Models, Unique Timesteps, Params, Total Runs, Sub-States) = (1, 100, 22, 30, 69)\n",
      "     Simulation 0: (Timesteps, Params, Runs, Sub-States) = (100, 22, 30, 69)\n",
      "Execution Method: local_simulations\n",
      "Execution Mode: parallelized\n",
      "Total execution time: 37.96s\n"
     ]
    }
   ],
   "source": [
    "from model.utility.default_parameters import default_params1 as params\n",
    "from model.signals.bond_signals import total_value_bond_creation\n",
    "number_runs = 10\n",
    "number_steps = 100\n",
    "\n",
    "total_amounts = [4e6,4.5e6,5e6]\n",
    "allbonds = []\n",
    "for amount in total_amounts:\n",
    "    allbonds.append(total_value_bond_creation(start_dates= 5, simulation_timesteps=number_steps, bond_tenors=[30,60,90], total_face_value=amount,bond_value_distribution=[]))\n",
    "\n",
    "params.update({'bond_create_schedule':allbonds})\n",
    "params.update({'bond_schedule_name':[f'total amount {k:.1e}' for k in total_amounts]})\n",
    "from model.utility.default_initial_state import default_initial_state1 as initial_state\n",
    "# Fill in the initial state\n",
    "from model.utility.initial_state_functions import fill_in_initial_state\n",
    "initial_state = fill_in_initial_state(initial_state, params)\n",
    "\n",
    "from model.run import load_config, run,new_run, post_processing\n",
    "# Load the experiment\n",
    "exp = load_config(number_runs, params, initial_state, number_steps,psub_scenario_option='NoRBS')\n",
    "\n",
    "# Run the experiment\n",
    "raw = new_run(exp)\n",
    "\n",
    "# Parse the raw data\n",
    "df5 = post_processing(raw)\n",
    "pickle.dump(df5,open('simudata/ohmbond_research/simu_df5.p','wb'))"
   ]
  },
  {
   "cell_type": "code",
   "execution_count": 1,
   "metadata": {},
   "outputs": [],
   "source": [
    "import pickle\n",
    "df5 = pickle.load(open('simudata/ohmbond_research/simu_df5.p','rb'))\n",
    "df4 = pickle.load(open('simudata/ohmbond_research/simu_df4.p','rb'))"
   ]
  },
  {
   "cell_type": "code",
   "execution_count": 2,
   "metadata": {},
   "outputs": [
    {
     "name": "stderr",
     "output_type": "stream",
     "text": [
      "/home/zhiwei/Documents/blockscience/OlympusRBS/model/utility/visualization.py:89: UserWarning: Matplotlib is currently using module://matplotlib_inline.backend_inline, which is a non-GUI backend, so cannot show the figure.\n",
      "  fig.show()\n"
     ]
    },
    {
     "data": {
      "image/png": "[encoded data removed]",
      "text/plain": [
       "<Figure size 432x288 with 1 Axes>"
      ]
     },
     "metadata": {
      "needs_background": "light"
     },
     "output_type": "display_data"
    }
   ],
   "source": [
    "from model.utility.visualization import plot_simu_interruption_rate_multiple_exps\n",
    "exps = [{'label':'RBS','df':df4},{'label':'no RBS','df':df5}]\n",
    "plot_simu_interruption_rate_multiple_exps(exps,number_steps=100)"
   ]
  },
  {
   "cell_type": "markdown",
   "metadata": {},
   "source": [
    "RBS doesn't necessarily reduce the chance of pool being drained."
   ]
  },
  {
   "cell_type": "markdown",
   "metadata": {},
   "source": []
  }
 ],
 "metadata": {
  "kernelspec": {
   "display_name": "Python 3 (ipykernel)",
   "language": "python",
   "name": "python3"
  },
  "language_info": {
   "codemirror_mode": {
    "name": "ipython",
    "version": 3
   },
   "file_extension": ".py",
   "mimetype": "text/x-python",
   "name": "python",
   "nbconvert_exporter": "python",
   "pygments_lexer": "ipython3",
   "version": "3.9.12"
  },
  "vscode": {
   "interpreter": {
    "hash": "8ab5428ae62201533e8ec752f6037af62c93c7d07f0b1421de25a96eddaa6eb7"
   }
  }
 },
 "nbformat": 4,
 "nbformat_minor": 2
}
